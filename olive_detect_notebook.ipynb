{
  "cells": [
    {
      "cell_type": "markdown",
      "source": [
        "# ***Dependencies Installation***"
      ],
      "metadata": {
        "id": "PkwUnzkraJdq"
      }
    },
    {
      "cell_type": "code",
      "execution_count": null,
      "metadata": {
        "colab": {
          "base_uri": "https://localhost:8080/"
        },
        "id": "-OrDavLGhL7k",
        "outputId": "c86ef690-14d8-4de1-f7b9-b402908cf6d5"
      },
      "outputs": [
        {
          "output_type": "stream",
          "name": "stdout",
          "text": [
            "Collecting roboflow\n",
            "  Downloading roboflow-1.1.61-py3-none-any.whl.metadata (9.7 kB)\n",
            "Requirement already satisfied: certifi in /usr/local/lib/python3.11/dist-packages (from roboflow) (2025.1.31)\n",
            "Collecting idna==3.7 (from roboflow)\n",
            "  Downloading idna-3.7-py3-none-any.whl.metadata (9.9 kB)\n",
            "Requirement already satisfied: cycler in /usr/local/lib/python3.11/dist-packages (from roboflow) (0.12.1)\n",
            "Requirement already satisfied: kiwisolver>=1.3.1 in /usr/local/lib/python3.11/dist-packages (from roboflow) (1.4.8)\n",
            "Requirement already satisfied: matplotlib in /usr/local/lib/python3.11/dist-packages (from roboflow) (3.10.0)\n",
            "Requirement already satisfied: numpy>=1.18.5 in /usr/local/lib/python3.11/dist-packages (from roboflow) (2.0.2)\n",
            "Collecting opencv-python-headless==4.10.0.84 (from roboflow)\n",
            "  Downloading opencv_python_headless-4.10.0.84-cp37-abi3-manylinux_2_17_x86_64.manylinux2014_x86_64.whl.metadata (20 kB)\n",
            "Requirement already satisfied: Pillow>=7.1.2 in /usr/local/lib/python3.11/dist-packages (from roboflow) (11.1.0)\n",
            "Collecting pillow-heif>=0.18.0 (from roboflow)\n",
            "  Downloading pillow_heif-0.22.0-cp311-cp311-manylinux_2_17_x86_64.manylinux2014_x86_64.whl.metadata (9.6 kB)\n",
            "Requirement already satisfied: python-dateutil in /usr/local/lib/python3.11/dist-packages (from roboflow) (2.8.2)\n",
            "Collecting python-dotenv (from roboflow)\n",
            "  Downloading python_dotenv-1.1.0-py3-none-any.whl.metadata (24 kB)\n",
            "Requirement already satisfied: requests in /usr/local/lib/python3.11/dist-packages (from roboflow) (2.32.3)\n",
            "Requirement already satisfied: six in /usr/local/lib/python3.11/dist-packages (from roboflow) (1.17.0)\n",
            "Requirement already satisfied: urllib3>=1.26.6 in /usr/local/lib/python3.11/dist-packages (from roboflow) (2.3.0)\n",
            "Requirement already satisfied: tqdm>=4.41.0 in /usr/local/lib/python3.11/dist-packages (from roboflow) (4.67.1)\n",
            "Requirement already satisfied: PyYAML>=5.3.1 in /usr/local/lib/python3.11/dist-packages (from roboflow) (6.0.2)\n",
            "Requirement already satisfied: requests-toolbelt in /usr/local/lib/python3.11/dist-packages (from roboflow) (1.0.0)\n",
            "Collecting filetype (from roboflow)\n",
            "  Downloading filetype-1.2.0-py2.py3-none-any.whl.metadata (6.5 kB)\n",
            "Requirement already satisfied: contourpy>=1.0.1 in /usr/local/lib/python3.11/dist-packages (from matplotlib->roboflow) (1.3.2)\n",
            "Requirement already satisfied: fonttools>=4.22.0 in /usr/local/lib/python3.11/dist-packages (from matplotlib->roboflow) (4.57.0)\n",
            "Requirement already satisfied: packaging>=20.0 in /usr/local/lib/python3.11/dist-packages (from matplotlib->roboflow) (24.2)\n",
            "Requirement already satisfied: pyparsing>=2.3.1 in /usr/local/lib/python3.11/dist-packages (from matplotlib->roboflow) (3.2.3)\n",
            "Requirement already satisfied: charset-normalizer<4,>=2 in /usr/local/lib/python3.11/dist-packages (from requests->roboflow) (3.4.1)\n",
            "Downloading roboflow-1.1.61-py3-none-any.whl (85 kB)\n",
            "\u001b[2K   \u001b[90m━━━━━━━━━━━━━━━━━━━━━━━━━━━━━━━━━━━━━━━━\u001b[0m \u001b[32m85.2/85.2 kB\u001b[0m \u001b[31m466.5 kB/s\u001b[0m eta \u001b[36m0:00:00\u001b[0m\n",
            "\u001b[?25hDownloading idna-3.7-py3-none-any.whl (66 kB)\n",
            "\u001b[2K   \u001b[90m━━━━━━━━━━━━━━━━━━━━━━━━━━━━━━━━━━━━━━━━\u001b[0m \u001b[32m66.8/66.8 kB\u001b[0m \u001b[31m4.7 MB/s\u001b[0m eta \u001b[36m0:00:00\u001b[0m\n",
            "\u001b[?25hDownloading opencv_python_headless-4.10.0.84-cp37-abi3-manylinux_2_17_x86_64.manylinux2014_x86_64.whl (49.9 MB)\n",
            "\u001b[2K   \u001b[90m━━━━━━━━━━━━━━━━━━━━━━━━━━━━━━━━━━━━━━━━\u001b[0m \u001b[32m49.9/49.9 MB\u001b[0m \u001b[31m10.9 MB/s\u001b[0m eta \u001b[36m0:00:00\u001b[0m\n",
            "\u001b[?25hDownloading pillow_heif-0.22.0-cp311-cp311-manylinux_2_17_x86_64.manylinux2014_x86_64.whl (7.8 MB)\n",
            "\u001b[2K   \u001b[90m━━━━━━━━━━━━━━━━━━━━━━━━━━━━━━━━━━━━━━━━\u001b[0m \u001b[32m7.8/7.8 MB\u001b[0m \u001b[31m45.6 MB/s\u001b[0m eta \u001b[36m0:00:00\u001b[0m\n",
            "\u001b[?25hDownloading filetype-1.2.0-py2.py3-none-any.whl (19 kB)\n",
            "Downloading python_dotenv-1.1.0-py3-none-any.whl (20 kB)\n",
            "Installing collected packages: filetype, python-dotenv, pillow-heif, opencv-python-headless, idna, roboflow\n",
            "  Attempting uninstall: opencv-python-headless\n",
            "    Found existing installation: opencv-python-headless 4.11.0.86\n",
            "    Uninstalling opencv-python-headless-4.11.0.86:\n",
            "      Successfully uninstalled opencv-python-headless-4.11.0.86\n",
            "  Attempting uninstall: idna\n",
            "    Found existing installation: idna 3.10\n",
            "    Uninstalling idna-3.10:\n",
            "      Successfully uninstalled idna-3.10\n",
            "Successfully installed filetype-1.2.0 idna-3.7 opencv-python-headless-4.10.0.84 pillow-heif-0.22.0 python-dotenv-1.1.0 roboflow-1.1.61\n"
          ]
        }
      ],
      "source": [
        "!pip install roboflow"
      ]
    },
    {
      "cell_type": "code",
      "execution_count": null,
      "metadata": {
        "colab": {
          "base_uri": "https://localhost:8080/"
        },
        "id": "VJgaK1Hui9CE",
        "outputId": "623bdcf2-a8c0-4ac1-a7ef-579745a772c7"
      },
      "outputs": [
        {
          "output_type": "stream",
          "name": "stdout",
          "text": [
            "Collecting ultralytics\n",
            "  Downloading ultralytics-8.3.119-py3-none-any.whl.metadata (37 kB)\n",
            "Requirement already satisfied: numpy>=1.23.0 in /usr/local/lib/python3.11/dist-packages (from ultralytics) (2.0.2)\n",
            "Requirement already satisfied: matplotlib>=3.3.0 in /usr/local/lib/python3.11/dist-packages (from ultralytics) (3.10.0)\n",
            "Requirement already satisfied: opencv-python>=4.6.0 in /usr/local/lib/python3.11/dist-packages (from ultralytics) (4.11.0.86)\n",
            "Requirement already satisfied: pillow>=7.1.2 in /usr/local/lib/python3.11/dist-packages (from ultralytics) (11.1.0)\n",
            "Requirement already satisfied: pyyaml>=5.3.1 in /usr/local/lib/python3.11/dist-packages (from ultralytics) (6.0.2)\n",
            "Requirement already satisfied: requests>=2.23.0 in /usr/local/lib/python3.11/dist-packages (from ultralytics) (2.32.3)\n",
            "Requirement already satisfied: scipy>=1.4.1 in /usr/local/lib/python3.11/dist-packages (from ultralytics) (1.14.1)\n",
            "Requirement already satisfied: torch>=1.8.0 in /usr/local/lib/python3.11/dist-packages (from ultralytics) (2.6.0+cu124)\n",
            "Requirement already satisfied: torchvision>=0.9.0 in /usr/local/lib/python3.11/dist-packages (from ultralytics) (0.21.0+cu124)\n",
            "Requirement already satisfied: tqdm>=4.64.0 in /usr/local/lib/python3.11/dist-packages (from ultralytics) (4.67.1)\n",
            "Requirement already satisfied: psutil in /usr/local/lib/python3.11/dist-packages (from ultralytics) (5.9.5)\n",
            "Requirement already satisfied: py-cpuinfo in /usr/local/lib/python3.11/dist-packages (from ultralytics) (9.0.0)\n",
            "Requirement already satisfied: pandas>=1.1.4 in /usr/local/lib/python3.11/dist-packages (from ultralytics) (2.2.2)\n",
            "Requirement already satisfied: seaborn>=0.11.0 in /usr/local/lib/python3.11/dist-packages (from ultralytics) (0.13.2)\n",
            "Collecting ultralytics-thop>=2.0.0 (from ultralytics)\n",
            "  Downloading ultralytics_thop-2.0.14-py3-none-any.whl.metadata (9.4 kB)\n",
            "Requirement already satisfied: contourpy>=1.0.1 in /usr/local/lib/python3.11/dist-packages (from matplotlib>=3.3.0->ultralytics) (1.3.2)\n",
            "Requirement already satisfied: cycler>=0.10 in /usr/local/lib/python3.11/dist-packages (from matplotlib>=3.3.0->ultralytics) (0.12.1)\n",
            "Requirement already satisfied: fonttools>=4.22.0 in /usr/local/lib/python3.11/dist-packages (from matplotlib>=3.3.0->ultralytics) (4.57.0)\n",
            "Requirement already satisfied: kiwisolver>=1.3.1 in /usr/local/lib/python3.11/dist-packages (from matplotlib>=3.3.0->ultralytics) (1.4.8)\n",
            "Requirement already satisfied: packaging>=20.0 in /usr/local/lib/python3.11/dist-packages (from matplotlib>=3.3.0->ultralytics) (24.2)\n",
            "Requirement already satisfied: pyparsing>=2.3.1 in /usr/local/lib/python3.11/dist-packages (from matplotlib>=3.3.0->ultralytics) (3.2.3)\n",
            "Requirement already satisfied: python-dateutil>=2.7 in /usr/local/lib/python3.11/dist-packages (from matplotlib>=3.3.0->ultralytics) (2.8.2)\n",
            "Requirement already satisfied: pytz>=2020.1 in /usr/local/lib/python3.11/dist-packages (from pandas>=1.1.4->ultralytics) (2025.2)\n",
            "Requirement already satisfied: tzdata>=2022.7 in /usr/local/lib/python3.11/dist-packages (from pandas>=1.1.4->ultralytics) (2025.2)\n",
            "Requirement already satisfied: charset-normalizer<4,>=2 in /usr/local/lib/python3.11/dist-packages (from requests>=2.23.0->ultralytics) (3.4.1)\n",
            "Requirement already satisfied: idna<4,>=2.5 in /usr/local/lib/python3.11/dist-packages (from requests>=2.23.0->ultralytics) (3.7)\n",
            "Requirement already satisfied: urllib3<3,>=1.21.1 in /usr/local/lib/python3.11/dist-packages (from requests>=2.23.0->ultralytics) (2.3.0)\n",
            "Requirement already satisfied: certifi>=2017.4.17 in /usr/local/lib/python3.11/dist-packages (from requests>=2.23.0->ultralytics) (2025.1.31)\n",
            "Requirement already satisfied: filelock in /usr/local/lib/python3.11/dist-packages (from torch>=1.8.0->ultralytics) (3.18.0)\n",
            "Requirement already satisfied: typing-extensions>=4.10.0 in /usr/local/lib/python3.11/dist-packages (from torch>=1.8.0->ultralytics) (4.13.2)\n",
            "Requirement already satisfied: networkx in /usr/local/lib/python3.11/dist-packages (from torch>=1.8.0->ultralytics) (3.4.2)\n",
            "Requirement already satisfied: jinja2 in /usr/local/lib/python3.11/dist-packages (from torch>=1.8.0->ultralytics) (3.1.6)\n",
            "Requirement already satisfied: fsspec in /usr/local/lib/python3.11/dist-packages (from torch>=1.8.0->ultralytics) (2025.3.2)\n",
            "Collecting nvidia-cuda-nvrtc-cu12==12.4.127 (from torch>=1.8.0->ultralytics)\n",
            "  Downloading nvidia_cuda_nvrtc_cu12-12.4.127-py3-none-manylinux2014_x86_64.whl.metadata (1.5 kB)\n",
            "Collecting nvidia-cuda-runtime-cu12==12.4.127 (from torch>=1.8.0->ultralytics)\n",
            "  Downloading nvidia_cuda_runtime_cu12-12.4.127-py3-none-manylinux2014_x86_64.whl.metadata (1.5 kB)\n",
            "Collecting nvidia-cuda-cupti-cu12==12.4.127 (from torch>=1.8.0->ultralytics)\n",
            "  Downloading nvidia_cuda_cupti_cu12-12.4.127-py3-none-manylinux2014_x86_64.whl.metadata (1.6 kB)\n",
            "Collecting nvidia-cudnn-cu12==9.1.0.70 (from torch>=1.8.0->ultralytics)\n",
            "  Downloading nvidia_cudnn_cu12-9.1.0.70-py3-none-manylinux2014_x86_64.whl.metadata (1.6 kB)\n",
            "Collecting nvidia-cublas-cu12==12.4.5.8 (from torch>=1.8.0->ultralytics)\n",
            "  Downloading nvidia_cublas_cu12-12.4.5.8-py3-none-manylinux2014_x86_64.whl.metadata (1.5 kB)\n",
            "Collecting nvidia-cufft-cu12==11.2.1.3 (from torch>=1.8.0->ultralytics)\n",
            "  Downloading nvidia_cufft_cu12-11.2.1.3-py3-none-manylinux2014_x86_64.whl.metadata (1.5 kB)\n",
            "Collecting nvidia-curand-cu12==10.3.5.147 (from torch>=1.8.0->ultralytics)\n",
            "  Downloading nvidia_curand_cu12-10.3.5.147-py3-none-manylinux2014_x86_64.whl.metadata (1.5 kB)\n",
            "Collecting nvidia-cusolver-cu12==11.6.1.9 (from torch>=1.8.0->ultralytics)\n",
            "  Downloading nvidia_cusolver_cu12-11.6.1.9-py3-none-manylinux2014_x86_64.whl.metadata (1.6 kB)\n",
            "Collecting nvidia-cusparse-cu12==12.3.1.170 (from torch>=1.8.0->ultralytics)\n",
            "  Downloading nvidia_cusparse_cu12-12.3.1.170-py3-none-manylinux2014_x86_64.whl.metadata (1.6 kB)\n",
            "Requirement already satisfied: nvidia-cusparselt-cu12==0.6.2 in /usr/local/lib/python3.11/dist-packages (from torch>=1.8.0->ultralytics) (0.6.2)\n",
            "Requirement already satisfied: nvidia-nccl-cu12==2.21.5 in /usr/local/lib/python3.11/dist-packages (from torch>=1.8.0->ultralytics) (2.21.5)\n",
            "Requirement already satisfied: nvidia-nvtx-cu12==12.4.127 in /usr/local/lib/python3.11/dist-packages (from torch>=1.8.0->ultralytics) (12.4.127)\n",
            "Collecting nvidia-nvjitlink-cu12==12.4.127 (from torch>=1.8.0->ultralytics)\n",
            "  Downloading nvidia_nvjitlink_cu12-12.4.127-py3-none-manylinux2014_x86_64.whl.metadata (1.5 kB)\n",
            "Requirement already satisfied: triton==3.2.0 in /usr/local/lib/python3.11/dist-packages (from torch>=1.8.0->ultralytics) (3.2.0)\n",
            "Requirement already satisfied: sympy==1.13.1 in /usr/local/lib/python3.11/dist-packages (from torch>=1.8.0->ultralytics) (1.13.1)\n",
            "Requirement already satisfied: mpmath<1.4,>=1.1.0 in /usr/local/lib/python3.11/dist-packages (from sympy==1.13.1->torch>=1.8.0->ultralytics) (1.3.0)\n",
            "Requirement already satisfied: six>=1.5 in /usr/local/lib/python3.11/dist-packages (from python-dateutil>=2.7->matplotlib>=3.3.0->ultralytics) (1.17.0)\n",
            "Requirement already satisfied: MarkupSafe>=2.0 in /usr/local/lib/python3.11/dist-packages (from jinja2->torch>=1.8.0->ultralytics) (3.0.2)\n",
            "Downloading ultralytics-8.3.119-py3-none-any.whl (1.0 MB)\n",
            "\u001b[2K   \u001b[90m━━━━━━━━━━━━━━━━━━━━━━━━━━━━━━━━━━━━━━━━\u001b[0m \u001b[32m1.0/1.0 MB\u001b[0m \u001b[31m26.6 MB/s\u001b[0m eta \u001b[36m0:00:00\u001b[0m\n",
            "\u001b[?25hDownloading nvidia_cublas_cu12-12.4.5.8-py3-none-manylinux2014_x86_64.whl (363.4 MB)\n",
            "\u001b[2K   \u001b[90m━━━━━━━━━━━━━━━━━━━━━━━━━━━━━━━━━━━━━━━━\u001b[0m \u001b[32m363.4/363.4 MB\u001b[0m \u001b[31m1.4 MB/s\u001b[0m eta \u001b[36m0:00:00\u001b[0m\n",
            "\u001b[?25hDownloading nvidia_cuda_cupti_cu12-12.4.127-py3-none-manylinux2014_x86_64.whl (13.8 MB)\n",
            "\u001b[2K   \u001b[90m━━━━━━━━━━━━━━━━━━━━━━━━━━━━━━━━━━━━━━━━\u001b[0m \u001b[32m13.8/13.8 MB\u001b[0m \u001b[31m125.2 MB/s\u001b[0m eta \u001b[36m0:00:00\u001b[0m\n",
            "\u001b[?25hDownloading nvidia_cuda_nvrtc_cu12-12.4.127-py3-none-manylinux2014_x86_64.whl (24.6 MB)\n",
            "\u001b[2K   \u001b[90m━━━━━━━━━━━━━━━━━━━━━━━━━━━━━━━━━━━━━━━━\u001b[0m \u001b[32m24.6/24.6 MB\u001b[0m \u001b[31m98.5 MB/s\u001b[0m eta \u001b[36m0:00:00\u001b[0m\n",
            "\u001b[?25hDownloading nvidia_cuda_runtime_cu12-12.4.127-py3-none-manylinux2014_x86_64.whl (883 kB)\n",
            "\u001b[2K   \u001b[90m━━━━━━━━━━━━━━━━━━━━━━━━━━━━━━━━━━━━━━━━\u001b[0m \u001b[32m883.7/883.7 kB\u001b[0m \u001b[31m63.7 MB/s\u001b[0m eta \u001b[36m0:00:00\u001b[0m\n",
            "\u001b[?25hDownloading nvidia_cudnn_cu12-9.1.0.70-py3-none-manylinux2014_x86_64.whl (664.8 MB)\n",
            "\u001b[2K   \u001b[90m━━━━━━━━━━━━━━━━━━━━━━━━━━━━━━━━━━━━━━━━\u001b[0m \u001b[32m664.8/664.8 MB\u001b[0m \u001b[31m2.7 MB/s\u001b[0m eta \u001b[36m0:00:00\u001b[0m\n",
            "\u001b[?25hDownloading nvidia_cufft_cu12-11.2.1.3-py3-none-manylinux2014_x86_64.whl (211.5 MB)\n",
            "\u001b[2K   \u001b[90m━━━━━━━━━━━━━━━━━━━━━━━━━━━━━━━━━━━━━━━━\u001b[0m \u001b[32m211.5/211.5 MB\u001b[0m \u001b[31m5.3 MB/s\u001b[0m eta \u001b[36m0:00:00\u001b[0m\n",
            "\u001b[?25hDownloading nvidia_curand_cu12-10.3.5.147-py3-none-manylinux2014_x86_64.whl (56.3 MB)\n",
            "\u001b[2K   \u001b[90m━━━━━━━━━━━━━━━━━━━━━━━━━━━━━━━━━━━━━━━━\u001b[0m \u001b[32m56.3/56.3 MB\u001b[0m \u001b[31m13.0 MB/s\u001b[0m eta \u001b[36m0:00:00\u001b[0m\n",
            "\u001b[?25hDownloading nvidia_cusolver_cu12-11.6.1.9-py3-none-manylinux2014_x86_64.whl (127.9 MB)\n",
            "\u001b[2K   \u001b[90m━━━━━━━━━━━━━━━━━━━━━━━━━━━━━━━━━━━━━━━━\u001b[0m \u001b[32m127.9/127.9 MB\u001b[0m \u001b[31m7.3 MB/s\u001b[0m eta \u001b[36m0:00:00\u001b[0m\n",
            "\u001b[?25hDownloading nvidia_cusparse_cu12-12.3.1.170-py3-none-manylinux2014_x86_64.whl (207.5 MB)\n",
            "\u001b[2K   \u001b[90m━━━━━━━━━━━━━━━━━━━━━━━━━━━━━━━━━━━━━━━━\u001b[0m \u001b[32m207.5/207.5 MB\u001b[0m \u001b[31m5.7 MB/s\u001b[0m eta \u001b[36m0:00:00\u001b[0m\n",
            "\u001b[?25hDownloading nvidia_nvjitlink_cu12-12.4.127-py3-none-manylinux2014_x86_64.whl (21.1 MB)\n",
            "\u001b[2K   \u001b[90m━━━━━━━━━━━━━━━━━━━━━━━━━━━━━━━━━━━━━━━━\u001b[0m \u001b[32m21.1/21.1 MB\u001b[0m \u001b[31m106.4 MB/s\u001b[0m eta \u001b[36m0:00:00\u001b[0m\n",
            "\u001b[?25hDownloading ultralytics_thop-2.0.14-py3-none-any.whl (26 kB)\n",
            "Installing collected packages: nvidia-nvjitlink-cu12, nvidia-curand-cu12, nvidia-cufft-cu12, nvidia-cuda-runtime-cu12, nvidia-cuda-nvrtc-cu12, nvidia-cuda-cupti-cu12, nvidia-cublas-cu12, nvidia-cusparse-cu12, nvidia-cudnn-cu12, nvidia-cusolver-cu12, ultralytics-thop, ultralytics\n",
            "  Attempting uninstall: nvidia-nvjitlink-cu12\n",
            "    Found existing installation: nvidia-nvjitlink-cu12 12.5.82\n",
            "    Uninstalling nvidia-nvjitlink-cu12-12.5.82:\n",
            "      Successfully uninstalled nvidia-nvjitlink-cu12-12.5.82\n",
            "  Attempting uninstall: nvidia-curand-cu12\n",
            "    Found existing installation: nvidia-curand-cu12 10.3.6.82\n",
            "    Uninstalling nvidia-curand-cu12-10.3.6.82:\n",
            "      Successfully uninstalled nvidia-curand-cu12-10.3.6.82\n",
            "  Attempting uninstall: nvidia-cufft-cu12\n",
            "    Found existing installation: nvidia-cufft-cu12 11.2.3.61\n",
            "    Uninstalling nvidia-cufft-cu12-11.2.3.61:\n",
            "      Successfully uninstalled nvidia-cufft-cu12-11.2.3.61\n",
            "  Attempting uninstall: nvidia-cuda-runtime-cu12\n",
            "    Found existing installation: nvidia-cuda-runtime-cu12 12.5.82\n",
            "    Uninstalling nvidia-cuda-runtime-cu12-12.5.82:\n",
            "      Successfully uninstalled nvidia-cuda-runtime-cu12-12.5.82\n",
            "  Attempting uninstall: nvidia-cuda-nvrtc-cu12\n",
            "    Found existing installation: nvidia-cuda-nvrtc-cu12 12.5.82\n",
            "    Uninstalling nvidia-cuda-nvrtc-cu12-12.5.82:\n",
            "      Successfully uninstalled nvidia-cuda-nvrtc-cu12-12.5.82\n",
            "  Attempting uninstall: nvidia-cuda-cupti-cu12\n",
            "    Found existing installation: nvidia-cuda-cupti-cu12 12.5.82\n",
            "    Uninstalling nvidia-cuda-cupti-cu12-12.5.82:\n",
            "      Successfully uninstalled nvidia-cuda-cupti-cu12-12.5.82\n",
            "  Attempting uninstall: nvidia-cublas-cu12\n",
            "    Found existing installation: nvidia-cublas-cu12 12.5.3.2\n",
            "    Uninstalling nvidia-cublas-cu12-12.5.3.2:\n",
            "      Successfully uninstalled nvidia-cublas-cu12-12.5.3.2\n",
            "  Attempting uninstall: nvidia-cusparse-cu12\n",
            "    Found existing installation: nvidia-cusparse-cu12 12.5.1.3\n",
            "    Uninstalling nvidia-cusparse-cu12-12.5.1.3:\n",
            "      Successfully uninstalled nvidia-cusparse-cu12-12.5.1.3\n",
            "  Attempting uninstall: nvidia-cudnn-cu12\n",
            "    Found existing installation: nvidia-cudnn-cu12 9.3.0.75\n",
            "    Uninstalling nvidia-cudnn-cu12-9.3.0.75:\n",
            "      Successfully uninstalled nvidia-cudnn-cu12-9.3.0.75\n",
            "  Attempting uninstall: nvidia-cusolver-cu12\n",
            "    Found existing installation: nvidia-cusolver-cu12 11.6.3.83\n",
            "    Uninstalling nvidia-cusolver-cu12-11.6.3.83:\n",
            "      Successfully uninstalled nvidia-cusolver-cu12-11.6.3.83\n",
            "Successfully installed nvidia-cublas-cu12-12.4.5.8 nvidia-cuda-cupti-cu12-12.4.127 nvidia-cuda-nvrtc-cu12-12.4.127 nvidia-cuda-runtime-cu12-12.4.127 nvidia-cudnn-cu12-9.1.0.70 nvidia-cufft-cu12-11.2.1.3 nvidia-curand-cu12-10.3.5.147 nvidia-cusolver-cu12-11.6.1.9 nvidia-cusparse-cu12-12.3.1.170 nvidia-nvjitlink-cu12-12.4.127 ultralytics-8.3.119 ultralytics-thop-2.0.14\n"
          ]
        }
      ],
      "source": [
        "pip install ultralytics\n"
      ]
    },
    {
      "cell_type": "markdown",
      "source": [
        "# ***Importing Libraries and Downloading Dataset***"
      ],
      "metadata": {
        "id": "83CnMSdEaYjn"
      }
    },
    {
      "cell_type": "code",
      "execution_count": null,
      "metadata": {
        "id": "FwgHFTvHh8yq"
      },
      "outputs": [],
      "source": [
        "import yaml\n",
        "from roboflow import Roboflow\n",
        "import os\n",
        "from pprint import pprint\n",
        "import cv2\n",
        "import random\n",
        "import matplotlib.pyplot as plt\n",
        "import glob\n",
        "\n"
      ]
    },
    {
      "cell_type": "code",
      "source": [
        "rf = Roboflow(api_key=\"yHaUGg4T6jmlN51vfxAp\")\n",
        "project = rf.workspace(\"omar-z9f8z\").project(\"olive-axotr\")\n",
        "version = project.version(3)\n",
        "dataset = version.download(\"yolov11\")"
      ],
      "metadata": {
        "id": "peAbYdSWi2BO",
        "colab": {
          "base_uri": "https://localhost:8080/"
        },
        "outputId": "a1a45242-eaa0-47f9-ffe0-750a675fc6ae"
      },
      "execution_count": null,
      "outputs": [
        {
          "output_type": "stream",
          "name": "stdout",
          "text": [
            "loading Roboflow workspace...\n",
            "loading Roboflow project...\n"
          ]
        },
        {
          "output_type": "stream",
          "name": "stderr",
          "text": [
            "Downloading Dataset Version Zip in Olive-3 to yolov11:: 100%|██████████| 1115612/1115612 [00:18<00:00, 61095.08it/s]"
          ]
        },
        {
          "output_type": "stream",
          "name": "stdout",
          "text": [
            "\n"
          ]
        },
        {
          "output_type": "stream",
          "name": "stderr",
          "text": [
            "\n",
            "Extracting Dataset Version Zip to Olive-3 in yolov11:: 100%|██████████| 29712/29712 [00:06<00:00, 4531.50it/s]\n"
          ]
        }
      ]
    },
    {
      "cell_type": "markdown",
      "source": [
        "# ***Dataset Exploration***"
      ],
      "metadata": {
        "id": "ZOpcoHjsawEk"
      }
    },
    {
      "cell_type": "code",
      "execution_count": null,
      "metadata": {
        "colab": {
          "base_uri": "https://localhost:8080/"
        },
        "id": "UUax4jO5hHLP",
        "outputId": "a3d7900b-1d5a-43ef-aac0-1e77f42056f1"
      },
      "outputs": [
        {
          "output_type": "stream",
          "name": "stdout",
          "text": [
            "YAML Content:\n",
            "{'names': ['olive'],\n",
            " 'nc': 1,\n",
            " 'roboflow': {'license': 'CC BY 4.0',\n",
            "              'project': 'olive-axotr',\n",
            "              'url': 'https://universe.roboflow.com/omar-z9f8z/olive-axotr/dataset/3',\n",
            "              'version': 3,\n",
            "              'workspace': 'omar-z9f8z'},\n",
            " 'test': '../test/images',\n",
            " 'train': '../train/images',\n",
            " 'val': '../valid/images'}\n"
          ]
        }
      ],
      "source": [
        "\n",
        "# ✅ Corrected YAML path: wrap the path string in quotes\n",
        "yaml_path = os.path.join(\"/content/Olive-3\", \"data.yaml\")\n",
        "\n",
        "# Load and print YAML\n",
        "with open(yaml_path, \"r\") as f:\n",
        "    data_yaml = yaml.safe_load(f)\n",
        "\n",
        "print(\"YAML Content:\")\n",
        "pprint(data_yaml)\n"
      ]
    },
    {
      "cell_type": "code",
      "execution_count": null,
      "metadata": {
        "colab": {
          "base_uri": "https://localhost:8080/"
        },
        "id": "DshLI1TGh_KK",
        "outputId": "5aabb8b4-fba9-42cb-f9c3-7ad4cf263fb3"
      },
      "outputs": [
        {
          "output_type": "stream",
          "name": "stdout",
          "text": [
            " TRAIN set: 12360 images, 12360 labels\n",
            " VALID set: 1773 images, 1773 labels\n",
            " TEST set: 717 images, 717 labels\n"
          ]
        }
      ],
      "source": [
        "def count_images_and_labels(base_dir=\"/content/Olive-3\"):\n",
        "    for split in ['train', 'valid', 'test']:\n",
        "        image_dir = os.path.join(base_dir, split, 'images')\n",
        "        label_dir = os.path.join(base_dir, split, 'labels')\n",
        "\n",
        "        image_count = len(os.listdir(image_dir))\n",
        "        label_count = len(os.listdir(label_dir))\n",
        "\n",
        "        print(f\" {split.upper()} set: {image_count} images, {label_count} labels\")\n",
        "\n",
        "count_images_and_labels()\n"
      ]
    },
    {
      "cell_type": "code",
      "execution_count": null,
      "metadata": {
        "colab": {
          "base_uri": "https://localhost:8080/",
          "height": 297
        },
        "id": "NHRFenXMir2B",
        "outputId": "b007ad19-7e1e-4260-cc6a-1bce45881f23"
      },
      "outputs": [
        {
          "output_type": "error",
          "ename": "ValueError",
          "evalue": "too many values to unpack (expected 5)",
          "traceback": [
            "\u001b[0;31m---------------------------------------------------------------------------\u001b[0m",
            "\u001b[0;31mValueError\u001b[0m                                Traceback (most recent call last)",
            "\u001b[0;32m<ipython-input-8-5ae9680d6844>\u001b[0m in \u001b[0;36m<cell line: 0>\u001b[0;34m()\u001b[0m\n\u001b[1;32m     36\u001b[0m         \u001b[0mplt\u001b[0m\u001b[0;34m.\u001b[0m\u001b[0mshow\u001b[0m\u001b[0;34m(\u001b[0m\u001b[0;34m)\u001b[0m\u001b[0;34m\u001b[0m\u001b[0;34m\u001b[0m\u001b[0m\n\u001b[1;32m     37\u001b[0m \u001b[0;34m\u001b[0m\u001b[0m\n\u001b[0;32m---> 38\u001b[0;31m \u001b[0mshow_images_with_boxes\u001b[0m\u001b[0;34m(\u001b[0m\u001b[0;34m\"train\"\u001b[0m\u001b[0;34m,\u001b[0m \u001b[0mnum_samples\u001b[0m\u001b[0;34m=\u001b[0m\u001b[0;36m4\u001b[0m\u001b[0;34m)\u001b[0m\u001b[0;34m\u001b[0m\u001b[0;34m\u001b[0m\u001b[0m\n\u001b[0m",
            "\u001b[0;32m<ipython-input-8-5ae9680d6844>\u001b[0m in \u001b[0;36mshow_images_with_boxes\u001b[0;34m(split, base_dir, num_samples)\u001b[0m\n\u001b[1;32m     20\u001b[0m         \u001b[0mlabels\u001b[0m \u001b[0;34m=\u001b[0m \u001b[0mload_labels_txt\u001b[0m\u001b[0;34m(\u001b[0m\u001b[0mlabel_path\u001b[0m\u001b[0;34m)\u001b[0m\u001b[0;34m\u001b[0m\u001b[0;34m\u001b[0m\u001b[0m\n\u001b[1;32m     21\u001b[0m \u001b[0;34m\u001b[0m\u001b[0m\n\u001b[0;32m---> 22\u001b[0;31m         \u001b[0;32mfor\u001b[0m \u001b[0mcls\u001b[0m\u001b[0;34m,\u001b[0m \u001b[0mx\u001b[0m\u001b[0;34m,\u001b[0m \u001b[0my\u001b[0m\u001b[0;34m,\u001b[0m \u001b[0mbw\u001b[0m\u001b[0;34m,\u001b[0m \u001b[0mbh\u001b[0m \u001b[0;32min\u001b[0m \u001b[0mlabels\u001b[0m\u001b[0;34m:\u001b[0m\u001b[0;34m\u001b[0m\u001b[0;34m\u001b[0m\u001b[0m\n\u001b[0m\u001b[1;32m     23\u001b[0m             \u001b[0;31m# Convert normalized to pixel coordinates\u001b[0m\u001b[0;34m\u001b[0m\u001b[0;34m\u001b[0m\u001b[0m\n\u001b[1;32m     24\u001b[0m             \u001b[0mx1\u001b[0m \u001b[0;34m=\u001b[0m \u001b[0mint\u001b[0m\u001b[0;34m(\u001b[0m\u001b[0;34m(\u001b[0m\u001b[0mx\u001b[0m \u001b[0;34m-\u001b[0m \u001b[0mbw\u001b[0m \u001b[0;34m/\u001b[0m \u001b[0;36m2\u001b[0m\u001b[0;34m)\u001b[0m \u001b[0;34m*\u001b[0m \u001b[0mw\u001b[0m\u001b[0;34m)\u001b[0m\u001b[0;34m\u001b[0m\u001b[0;34m\u001b[0m\u001b[0m\n",
            "\u001b[0;31mValueError\u001b[0m: too many values to unpack (expected 5)"
          ]
        }
      ],
      "source": [
        "\n",
        "def load_labels_txt(label_path):\n",
        "    with open(label_path, 'r') as f:\n",
        "        return [list(map(float, line.strip().split())) for line in f.readlines()]\n",
        "\n",
        "def show_images_with_boxes(split=\"train\", base_dir=\"/content/Olive-3\", num_samples=5):\n",
        "    image_dir = os.path.join(base_dir, split, \"images\")\n",
        "    label_dir = os.path.join(base_dir, split, \"labels\")\n",
        "\n",
        "    image_files = os.listdir(image_dir)\n",
        "    selected = random.sample(image_files, num_samples)\n",
        "\n",
        "    for file_name in selected:\n",
        "        image_path = os.path.join(image_dir, file_name)\n",
        "        label_path = os.path.join(label_dir, file_name.replace(\".jpg\", \".txt\").replace(\".png\", \".txt\"))\n",
        "\n",
        "        img = cv2.imread(image_path)\n",
        "        img = cv2.cvtColor(img, cv2.COLOR_BGR2RGB)\n",
        "        h, w, _ = img.shape\n",
        "\n",
        "        labels = load_labels_txt(label_path)\n",
        "\n",
        "        for cls, x, y, bw, bh in labels:\n",
        "            # Convert normalized to pixel coordinates\n",
        "            x1 = int((x - bw / 2) * w)\n",
        "            y1 = int((y - bh / 2) * h)\n",
        "            x2 = int((x + bw / 2) * w)\n",
        "            y2 = int((y + bh / 2) * h)\n",
        "\n",
        "            cv2.rectangle(img, (x1, y1), (x2, y2), (0, 255, 0), 2)\n",
        "            cv2.putText(img, \"olive\", (x1, y1 - 5), cv2.FONT_HERSHEY_SIMPLEX, 0.6, (0, 255, 0), 2)\n",
        "\n",
        "        plt.figure(figsize=(6,6))\n",
        "        plt.imshow(img)\n",
        "        plt.axis('off')\n",
        "        plt.title(f\"{split} sample\")\n",
        "        plt.show()\n",
        "\n",
        "show_images_with_boxes(\"train\", num_samples=4)\n"
      ]
    },
    {
      "cell_type": "markdown",
      "source": [
        "# ***Object Detection : YOLO11m***"
      ],
      "metadata": {
        "id": "VIET-qVma8CP"
      }
    },
    {
      "cell_type": "markdown",
      "source": [
        "**version 1**"
      ],
      "metadata": {
        "id": "5yhPKbzXbbNC"
      }
    },
    {
      "cell_type": "code",
      "source": [
        "from ultralytics import YOLO\n",
        "model = YOLO('yolo11m.pt')\n",
        "\n",
        "# Train with optimized settings\n",
        "model.train(\n",
        "    data='/content/Olive-3/data.yaml',\n",
        "    epochs=20,\n",
        "    imgsz=640,\n",
        "    batch=8,\n",
        "    patience=10,\n",
        "    name='olivedetect_yolov11m',\n",
        "    lr0=0.002,\n",
        "    lrf=0.01,\n",
        "    warmup_epochs=5,\n",
        "    weight_decay=0.0005,\n",
        "    optimizer='AdamW',\n",
        "\n",
        "    # Loss weights\n",
        "    box=5.0,\n",
        "    cls=0.3,\n",
        "    dfl=2.0,\n",
        "\n",
        "    mosaic=1.0,\n",
        "    mixup=0.15,\n",
        "    hsv_h=0.015,\n",
        "    hsv_s=0.6,\n",
        "    hsv_v=0.4,\n",
        "    degrees=0.0,\n",
        "    translate=0.2,\n",
        "    scale=0.5,\n",
        "    shear=0.0,\n",
        "    fliplr=0.5,\n",
        "    flipud=0.0,\n",
        "    perspective=0.0,\n",
        "    save_period=5,\n",
        "    verbose=True\n",
        ")"
      ],
      "metadata": {
        "id": "a4a1Hg0it6CC",
        "colab": {
          "base_uri": "https://localhost:8080/"
        },
        "outputId": "3b414c62-4254-4e50-aa83-561c80aceda6"
      },
      "execution_count": null,
      "outputs": [
        {
          "metadata": {
            "tags": null
          },
          "name": "stdout",
          "output_type": "stream",
          "text": [
            "Downloading https://github.com/ultralytics/assets/releases/download/v8.3.0/yolo11m.pt to 'yolo11m.pt'...\n"
          ]
        },
        {
          "metadata": {
            "tags": null
          },
          "name": "stderr",
          "output_type": "stream",
          "text": [
            "100%|██████████| 38.8M/38.8M [00:00<00:00, 194MB/s]\n"
          ]
        },
        {
          "metadata": {
            "tags": null
          },
          "name": "stdout",
          "output_type": "stream",
          "text": [
            "Ultralytics 8.3.115 🚀 Python-3.11.12 torch-2.6.0+cu124 CUDA:0 (Tesla T4, 15095MiB)\n",
            "\u001b[34m\u001b[1mengine/trainer: \u001b[0mtask=detect, mode=train, model=yolo11m.pt, data=/content/Olive-3/data.yaml, epochs=20, time=None, patience=10, batch=8, imgsz=640, save=True, save_period=5, cache=False, device=None, workers=8, project=None, name=olivedetect_yolov11m, exist_ok=False, pretrained=True, optimizer=AdamW, verbose=True, seed=0, deterministic=True, single_cls=False, rect=False, cos_lr=False, close_mosaic=10, resume=False, amp=True, fraction=1.0, profile=False, freeze=None, multi_scale=False, overlap_mask=True, mask_ratio=4, dropout=0.0, val=True, split=val, save_json=False, conf=None, iou=0.7, max_det=300, half=False, dnn=False, plots=True, source=None, vid_stride=1, stream_buffer=False, visualize=False, augment=False, agnostic_nms=False, classes=None, retina_masks=False, embed=None, show=False, save_frames=False, save_txt=False, save_conf=False, save_crop=False, show_labels=True, show_conf=True, show_boxes=True, line_width=None, format=torchscript, keras=False, optimize=False, int8=False, dynamic=False, simplify=True, opset=None, workspace=None, nms=False, lr0=0.002, lrf=0.01, momentum=0.937, weight_decay=0.0005, warmup_epochs=5, warmup_momentum=0.8, warmup_bias_lr=0.1, box=5.0, cls=0.3, dfl=2.0, pose=12.0, kobj=1.0, nbs=64, hsv_h=0.015, hsv_s=0.6, hsv_v=0.4, degrees=0.0, translate=0.2, scale=0.5, shear=0.0, perspective=0.0, flipud=0.0, fliplr=0.5, bgr=0.0, mosaic=1.0, mixup=0.15, copy_paste=0.0, copy_paste_mode=flip, auto_augment=randaugment, erasing=0.4, cfg=None, tracker=botsort.yaml, save_dir=runs/detect/olivedetect_yolov11m\n",
            "Downloading https://ultralytics.com/assets/Arial.ttf to '/root/.config/Ultralytics/Arial.ttf'...\n"
          ]
        },
        {
          "metadata": {
            "tags": null
          },
          "name": "stderr",
          "output_type": "stream",
          "text": [
            "100%|██████████| 755k/755k [00:00<00:00, 22.3MB/s]"
          ]
        },
        {
          "metadata": {
            "tags": null
          },
          "name": "stdout",
          "output_type": "stream",
          "text": [
            "Overriding model.yaml nc=80 with nc=1\n",
            "\n",
            "                   from  n    params  module                                       arguments                     \n",
            "  0                  -1  1      1856  ultralytics.nn.modules.conv.Conv             [3, 64, 3, 2]                 \n",
            "  1                  -1  1     73984  ultralytics.nn.modules.conv.Conv             [64, 128, 3, 2]               \n",
            "  2                  -1  1    111872  ultralytics.nn.modules.block.C3k2            [128, 256, 1, True, 0.25]     \n",
            "  3                  -1  1    590336  ultralytics.nn.modules.conv.Conv             [256, 256, 3, 2]              \n",
            "  4                  -1  1    444928  ultralytics.nn.modules.block.C3k2            [256, 512, 1, True, 0.25]     \n",
            "  5                  -1  1   2360320  ultralytics.nn.modules.conv.Conv             [512, 512, 3, 2]              \n",
            "  6                  -1  1   1380352  ultralytics.nn.modules.block.C3k2            [512, 512, 1, True]           \n",
            "  7                  -1  1   2360320  ultralytics.nn.modules.conv.Conv             [512, 512, 3, 2]              \n",
            "  8                  -1  1   1380352  ultralytics.nn.modules.block.C3k2            [512, 512, 1, True]           \n",
            "  9                  -1  1    656896  ultralytics.nn.modules.block.SPPF            [512, 512, 5]                 \n",
            " 10                  -1  1    990976  ultralytics.nn.modules.block.C2PSA           [512, 512, 1]                 \n",
            " 11                  -1  1         0  torch.nn.modules.upsampling.Upsample         [None, 2, 'nearest']          \n",
            " 12             [-1, 6]  1         0  ultralytics.nn.modules.conv.Concat           [1]                           \n"
          ]
        },
        {
          "metadata": {
            "tags": null
          },
          "name": "stderr",
          "output_type": "stream",
          "text": [
            "\n"
          ]
        },
        {
          "metadata": {
            "tags": null
          },
          "name": "stdout",
          "output_type": "stream",
          "text": [
            " 13                  -1  1   1642496  ultralytics.nn.modules.block.C3k2            [1024, 512, 1, True]          \n",
            " 14                  -1  1         0  torch.nn.modules.upsampling.Upsample         [None, 2, 'nearest']          \n",
            " 15             [-1, 4]  1         0  ultralytics.nn.modules.conv.Concat           [1]                           \n",
            " 16                  -1  1    542720  ultralytics.nn.modules.block.C3k2            [1024, 256, 1, True]          \n",
            " 17                  -1  1    590336  ultralytics.nn.modules.conv.Conv             [256, 256, 3, 2]              \n",
            " 18            [-1, 13]  1         0  ultralytics.nn.modules.conv.Concat           [1]                           \n",
            " 19                  -1  1   1511424  ultralytics.nn.modules.block.C3k2            [768, 512, 1, True]           \n",
            " 20                  -1  1   2360320  ultralytics.nn.modules.conv.Conv             [512, 512, 3, 2]              \n",
            " 21            [-1, 10]  1         0  ultralytics.nn.modules.conv.Concat           [1]                           \n",
            " 22                  -1  1   1642496  ultralytics.nn.modules.block.C3k2            [1024, 512, 1, True]          \n",
            " 23        [16, 19, 22]  1   1411795  ultralytics.nn.modules.head.Detect           [1, [256, 512, 512]]          \n",
            "YOLO11m summary: 231 layers, 20,053,779 parameters, 20,053,763 gradients, 68.2 GFLOPs\n",
            "\n",
            "Transferred 643/649 items from pretrained weights\n",
            "Freezing layer 'model.23.dfl.conv.weight'\n",
            "\u001b[34m\u001b[1mAMP: \u001b[0mrunning Automatic Mixed Precision (AMP) checks...\n",
            "Downloading https://github.com/ultralytics/assets/releases/download/v8.3.0/yolo11n.pt to 'yolo11n.pt'...\n"
          ]
        },
        {
          "metadata": {
            "tags": null
          },
          "name": "stderr",
          "output_type": "stream",
          "text": [
            "100%|██████████| 5.35M/5.35M [00:00<00:00, 80.9MB/s]\n"
          ]
        },
        {
          "metadata": {
            "tags": null
          },
          "name": "stdout",
          "output_type": "stream",
          "text": [
            "\u001b[34m\u001b[1mAMP: \u001b[0mchecks passed ✅\n",
            "\u001b[34m\u001b[1mtrain: \u001b[0mFast image access ✅ (ping: 0.0±0.0 ms, read: 29.2±11.7 MB/s, size: 71.1 KB)\n"
          ]
        },
        {
          "metadata": {
            "tags": null
          },
          "name": "stderr",
          "output_type": "stream",
          "text": [
            "\u001b[34m\u001b[1mtrain: \u001b[0mScanning /content/Olive-3/train/labels... 12360 images, 5 backgrounds, 0 corrupt: 100%|██████████| 12360/12360 [00:24<00:00, 503.89it/s]"
          ]
        },
        {
          "metadata": {
            "tags": null
          },
          "name": "stdout",
          "output_type": "stream",
          "text": [
            "\u001b[34m\u001b[1mtrain: \u001b[0m/content/Olive-3/train/images/IMG_20221105_094810_jpg.rf.97ce47c2d8a19d7b5015816af499f942.jpg: 3 duplicate labels removed\n",
            "\u001b[34m\u001b[1mtrain: \u001b[0m/content/Olive-3/train/images/IMG_20221105_094810_jpg.rf.ac6a65b6b3fc89eca93428f3203f5ac3.jpg: 3 duplicate labels removed\n",
            "\u001b[34m\u001b[1mtrain: \u001b[0m/content/Olive-3/train/images/IMG_20221105_131058_jpg.rf.2c8f2b289fb1efac3855971559a8bcb1.jpg: 1 duplicate labels removed\n",
            "\u001b[34m\u001b[1mtrain: \u001b[0m/content/Olive-3/train/images/IMG_20221105_131058_jpg.rf.4a3caaad66bfdc06cc79149c3c17d5a5.jpg: 1 duplicate labels removed\n",
            "\u001b[34m\u001b[1mtrain: \u001b[0m/content/Olive-3/train/images/IMG_20221105_131454_jpg.rf.99cf935ee1da5b13ee672ecf0ad88bda.jpg: 1 duplicate labels removed\n",
            "\u001b[34m\u001b[1mtrain: \u001b[0m/content/Olive-3/train/images/IMG_20221105_131454_jpg.rf.fe58f197192cf906d05b9e46d861dfab.jpg: 1 duplicate labels removed\n",
            "\u001b[34m\u001b[1mtrain: \u001b[0m/content/Olive-3/train/images/IMG_20221112_102138_jpg.rf.109898422b1bf4e82099adf2ceef176e.jpg: 1 duplicate labels removed\n",
            "\u001b[34m\u001b[1mtrain: \u001b[0m/content/Olive-3/train/images/IMG_20221112_102138_jpg.rf.8e99469ddf7179b4897c2e1ba51c1b63.jpg: 1 duplicate labels removed\n",
            "\u001b[34m\u001b[1mtrain: \u001b[0m/content/Olive-3/train/images/IMG_20221112_113105_jpg.rf.5aa60955f46ce96f638ae9ec865426f3.jpg: 1 duplicate labels removed\n",
            "\u001b[34m\u001b[1mtrain: \u001b[0m/content/Olive-3/train/images/IMG_20221112_113105_jpg.rf.e0c50416ac3626a10d2edeb3332517d5.jpg: 1 duplicate labels removed\n",
            "\u001b[34m\u001b[1mtrain: \u001b[0m/content/Olive-3/train/images/IMG_20221112_113119_jpg.rf.361b1975cb66937e89a1902d91543100.jpg: 1 duplicate labels removed\n",
            "\u001b[34m\u001b[1mtrain: \u001b[0m/content/Olive-3/train/images/IMG_20221112_113119_jpg.rf.aea2751dc9829364950bf35a5164a655.jpg: 1 duplicate labels removed\n",
            "\u001b[34m\u001b[1mtrain: \u001b[0m/content/Olive-3/train/images/IMG_20221112_123802_jpg.rf.244384a307b68e37f6cecd5c092068c3.jpg: 1 duplicate labels removed\n",
            "\u001b[34m\u001b[1mtrain: \u001b[0m/content/Olive-3/train/images/IMG_20221112_123802_jpg.rf.b445cf34697f513213fef447408f7f81.jpg: 1 duplicate labels removed\n",
            "\u001b[34m\u001b[1mtrain: \u001b[0m/content/Olive-3/train/images/IMG_20221112_130228_jpg.rf.cc12941bf7ef7231a89bd052a9dc7fa2.jpg: 1 duplicate labels removed\n",
            "\u001b[34m\u001b[1mtrain: \u001b[0m/content/Olive-3/train/images/IMG_20221112_130228_jpg.rf.ebde8e52c9d50886dc1b189ecbcdbe20.jpg: 1 duplicate labels removed\n"
          ]
        },
        {
          "metadata": {
            "tags": null
          },
          "name": "stderr",
          "output_type": "stream",
          "text": [
            "\n"
          ]
        },
        {
          "metadata": {
            "tags": null
          },
          "name": "stdout",
          "output_type": "stream",
          "text": [
            "\u001b[34m\u001b[1mtrain: \u001b[0mNew cache created: /content/Olive-3/train/labels.cache\n",
            "WARNING ⚠️ Box and segment counts should be equal, but got len(segments) = 6314, len(boxes) = 153839. To resolve this only boxes will be used and all segments will be removed. To avoid this please supply either a detect or segment dataset, not a detect-segment mixed dataset.\n",
            "\u001b[34m\u001b[1malbumentations: \u001b[0mBlur(p=0.01, blur_limit=(3, 7)), MedianBlur(p=0.01, blur_limit=(3, 7)), ToGray(p=0.01, num_output_channels=3, method='weighted_average'), CLAHE(p=0.01, clip_limit=(1.0, 4.0), tile_grid_size=(8, 8))\n",
            "\u001b[34m\u001b[1mval: \u001b[0mFast image access ✅ (ping: 0.0±0.0 ms, read: 17.3±7.5 MB/s, size: 71.2 KB)\n"
          ]
        },
        {
          "metadata": {
            "tags": null
          },
          "name": "stderr",
          "output_type": "stream",
          "text": [
            "\u001b[34m\u001b[1mval: \u001b[0mScanning /content/Olive-3/valid/labels... 1773 images, 0 backgrounds, 0 corrupt: 100%|██████████| 1773/1773 [00:03<00:00, 533.01it/s]"
          ]
        },
        {
          "metadata": {
            "tags": null
          },
          "name": "stdout",
          "output_type": "stream",
          "text": [
            "\u001b[34m\u001b[1mval: \u001b[0m/content/Olive-3/valid/images/IMG_20221105_131506_jpg.rf.4a35c52b8895a7a2ff79ba09b120f571.jpg: 3 duplicate labels removed\n",
            "\u001b[34m\u001b[1mval: \u001b[0m/content/Olive-3/valid/images/IMG_20221112_114559_jpg.rf.63df1e158be744a9ebee708ceb16d85e.jpg: 3 duplicate labels removed\n",
            "\u001b[34m\u001b[1mval: \u001b[0mNew cache created: /content/Olive-3/valid/labels.cache\n",
            "WARNING ⚠️ Box and segment counts should be equal, but got len(segments) = 907, len(boxes) = 21223. To resolve this only boxes will be used and all segments will be removed. To avoid this please supply either a detect or segment dataset, not a detect-segment mixed dataset.\n"
          ]
        },
        {
          "metadata": {
            "tags": null
          },
          "name": "stderr",
          "output_type": "stream",
          "text": [
            "\n"
          ]
        },
        {
          "metadata": {
            "tags": null
          },
          "name": "stdout",
          "output_type": "stream",
          "text": [
            "Plotting labels to runs/detect/olivedetect_yolov11m/labels.jpg... \n",
            "\u001b[34m\u001b[1moptimizer:\u001b[0m AdamW(lr=0.002, momentum=0.937) with parameter groups 106 weight(decay=0.0), 113 weight(decay=0.0005), 112 bias(decay=0.0)\n",
            "Image sizes 640 train, 640 val\n",
            "Using 2 dataloader workers\n",
            "Logging results to \u001b[1mruns/detect/olivedetect_yolov11m\u001b[0m\n",
            "Starting training for 20 epochs...\n",
            "\n",
            "      Epoch    GPU_mem   box_loss   cls_loss   dfl_loss  Instances       Size\n"
          ]
        },
        {
          "metadata": {
            "tags": null
          },
          "name": "stderr",
          "output_type": "stream",
          "text": [
            "       1/20       5.4G      1.143     0.8946      1.851        220        640: 100%|██████████| 1545/1545 [08:17<00:00,  3.10it/s]\n",
            "                 Class     Images  Instances      Box(P          R      mAP50  mAP50-95): 100%|██████████| 111/111 [00:29<00:00,  3.77it/s]\n"
          ]
        },
        {
          "metadata": {
            "tags": null
          },
          "name": "stdout",
          "output_type": "stream",
          "text": [
            "                   all       1773      21223      0.599      0.496      0.504      0.273\n",
            "\n",
            "      Epoch    GPU_mem   box_loss   cls_loss   dfl_loss  Instances       Size\n"
          ]
        },
        {
          "metadata": {
            "tags": null
          },
          "name": "stderr",
          "output_type": "stream",
          "text": [
            "       2/20      7.12G       1.12     0.8797      1.858        176        640: 100%|██████████| 1545/1545 [08:01<00:00,  3.21it/s]\n",
            "                 Class     Images  Instances      Box(P          R      mAP50  mAP50-95): 100%|██████████| 111/111 [00:29<00:00,  3.76it/s]\n"
          ]
        },
        {
          "metadata": {
            "tags": null
          },
          "name": "stdout",
          "output_type": "stream",
          "text": [
            "                   all       1773      21223      0.551      0.616      0.541      0.334\n",
            "\n",
            "      Epoch    GPU_mem   box_loss   cls_loss   dfl_loss  Instances       Size\n"
          ]
        },
        {
          "metadata": {
            "tags": null
          },
          "name": "stderr",
          "output_type": "stream",
          "text": [
            "       3/20      7.18G      1.105     0.8513      1.847        220        640: 100%|██████████| 1545/1545 [07:56<00:00,  3.24it/s]\n",
            "                 Class     Images  Instances      Box(P          R      mAP50  mAP50-95): 100%|██████████| 111/111 [00:29<00:00,  3.80it/s]\n"
          ]
        },
        {
          "metadata": {
            "tags": null
          },
          "name": "stdout",
          "output_type": "stream",
          "text": [
            "                   all       1773      21223      0.629      0.631      0.621       0.38\n",
            "\n",
            "      Epoch    GPU_mem   box_loss   cls_loss   dfl_loss  Instances       Size\n"
          ]
        },
        {
          "metadata": {
            "tags": null
          },
          "name": "stderr",
          "output_type": "stream",
          "text": [
            "       4/20      7.25G      1.064      0.809       1.81        163        640: 100%|██████████| 1545/1545 [07:52<00:00,  3.27it/s]\n",
            "                 Class     Images  Instances      Box(P          R      mAP50  mAP50-95): 100%|██████████| 111/111 [00:28<00:00,  3.87it/s]\n"
          ]
        },
        {
          "metadata": {
            "tags": null
          },
          "name": "stdout",
          "output_type": "stream",
          "text": [
            "                   all       1773      21223      0.655      0.635      0.635      0.396\n",
            "\n",
            "      Epoch    GPU_mem   box_loss   cls_loss   dfl_loss  Instances       Size\n"
          ]
        },
        {
          "metadata": {
            "tags": null
          },
          "name": "stderr",
          "output_type": "stream",
          "text": [
            "       5/20      7.31G      1.052     0.7844      1.788        158        640: 100%|██████████| 1545/1545 [07:52<00:00,  3.27it/s]\n",
            "                 Class     Images  Instances      Box(P          R      mAP50  mAP50-95): 100%|██████████| 111/111 [00:28<00:00,  3.87it/s]\n"
          ]
        },
        {
          "metadata": {
            "tags": null
          },
          "name": "stdout",
          "output_type": "stream",
          "text": [
            "                   all       1773      21223      0.638      0.623      0.634      0.414\n",
            "\n",
            "      Epoch    GPU_mem   box_loss   cls_loss   dfl_loss  Instances       Size\n"
          ]
        },
        {
          "metadata": {
            "tags": null
          },
          "name": "stderr",
          "output_type": "stream",
          "text": [
            "       6/20      7.38G      1.021     0.7562      1.756         77        640: 100%|██████████| 1545/1545 [07:51<00:00,  3.28it/s]\n",
            "                 Class     Images  Instances      Box(P          R      mAP50  mAP50-95): 100%|██████████| 111/111 [00:28<00:00,  3.91it/s]\n"
          ]
        },
        {
          "metadata": {
            "tags": null
          },
          "name": "stdout",
          "output_type": "stream",
          "text": [
            "                   all       1773      21223      0.651       0.68      0.671      0.438\n",
            "\n",
            "      Epoch    GPU_mem   box_loss   cls_loss   dfl_loss  Instances       Size\n"
          ]
        },
        {
          "metadata": {
            "tags": null
          },
          "name": "stderr",
          "output_type": "stream",
          "text": [
            "       7/20      5.21G      1.014     0.7344      1.748         81        640: 100%|██████████| 1545/1545 [08:01<00:00,  3.21it/s]\n",
            "                 Class     Images  Instances      Box(P          R      mAP50  mAP50-95): 100%|██████████| 111/111 [00:29<00:00,  3.77it/s]\n"
          ]
        },
        {
          "metadata": {
            "tags": null
          },
          "name": "stdout",
          "output_type": "stream",
          "text": [
            "                   all       1773      21223      0.657      0.683      0.671      0.444\n",
            "\n",
            "      Epoch    GPU_mem   box_loss   cls_loss   dfl_loss  Instances       Size\n"
          ]
        },
        {
          "metadata": {
            "tags": null
          },
          "name": "stderr",
          "output_type": "stream",
          "text": [
            "       8/20      7.05G     0.9957     0.7134      1.731        140        640: 100%|██████████| 1545/1545 [07:52<00:00,  3.27it/s]\n",
            "                 Class     Images  Instances      Box(P          R      mAP50  mAP50-95): 100%|██████████| 111/111 [00:28<00:00,  3.92it/s]\n"
          ]
        },
        {
          "metadata": {
            "tags": null
          },
          "name": "stdout",
          "output_type": "stream",
          "text": [
            "                   all       1773      21223      0.652      0.701      0.688      0.455\n",
            "\n",
            "      Epoch    GPU_mem   box_loss   cls_loss   dfl_loss  Instances       Size\n"
          ]
        },
        {
          "metadata": {
            "tags": null
          },
          "name": "stderr",
          "output_type": "stream",
          "text": [
            "       9/20      7.05G     0.9785     0.7003      1.705         88        640: 100%|██████████| 1545/1545 [07:49<00:00,  3.29it/s]\n",
            "                 Class     Images  Instances      Box(P          R      mAP50  mAP50-95): 100%|██████████| 111/111 [00:28<00:00,  3.89it/s]"
          ]
        },
        {
          "metadata": {
            "tags": null
          },
          "name": "stdout",
          "output_type": "stream",
          "text": [
            "                   all       1773      21223      0.667      0.689      0.697      0.464\n"
          ]
        },
        {
          "metadata": {
            "tags": null
          },
          "name": "stderr",
          "output_type": "stream",
          "text": [
            "\n"
          ]
        },
        {
          "metadata": {
            "tags": null
          },
          "name": "stdout",
          "output_type": "stream",
          "text": [
            "\n",
            "      Epoch    GPU_mem   box_loss   cls_loss   dfl_loss  Instances       Size\n"
          ]
        },
        {
          "metadata": {
            "tags": null
          },
          "name": "stderr",
          "output_type": "stream",
          "text": [
            "      10/20      7.07G     0.9582     0.6794      1.691        167        640: 100%|██████████| 1545/1545 [07:51<00:00,  3.28it/s]\n",
            "                 Class     Images  Instances      Box(P          R      mAP50  mAP50-95): 100%|██████████| 111/111 [00:28<00:00,  3.89it/s]\n"
          ]
        },
        {
          "metadata": {
            "tags": null
          },
          "name": "stdout",
          "output_type": "stream",
          "text": [
            "                   all       1773      21223        0.7      0.711      0.726      0.481\n",
            "Closing dataloader mosaic\n",
            "\u001b[34m\u001b[1malbumentations: \u001b[0mBlur(p=0.01, blur_limit=(3, 7)), MedianBlur(p=0.01, blur_limit=(3, 7)), ToGray(p=0.01, num_output_channels=3, method='weighted_average'), CLAHE(p=0.01, clip_limit=(1.0, 4.0), tile_grid_size=(8, 8))\n",
            "\n",
            "      Epoch    GPU_mem   box_loss   cls_loss   dfl_loss  Instances       Size\n"
          ]
        },
        {
          "metadata": {
            "tags": null
          },
          "name": "stderr",
          "output_type": "stream",
          "text": [
            "      11/20      7.14G     0.9048     0.6134      1.672         50        640: 100%|██████████| 1545/1545 [07:42<00:00,  3.34it/s]\n",
            "                 Class     Images  Instances      Box(P          R      mAP50  mAP50-95): 100%|██████████| 111/111 [00:28<00:00,  3.92it/s]"
          ]
        },
        {
          "metadata": {
            "tags": null
          },
          "name": "stdout",
          "output_type": "stream",
          "text": [
            "                   all       1773      21223      0.706      0.714      0.733      0.485\n"
          ]
        },
        {
          "metadata": {
            "tags": null
          },
          "name": "stderr",
          "output_type": "stream",
          "text": [
            "\n"
          ]
        },
        {
          "metadata": {
            "tags": null
          },
          "name": "stdout",
          "output_type": "stream",
          "text": [
            "\n",
            "      Epoch    GPU_mem   box_loss   cls_loss   dfl_loss  Instances       Size\n"
          ]
        },
        {
          "metadata": {
            "tags": null
          },
          "name": "stderr",
          "output_type": "stream",
          "text": [
            "      12/20      7.21G     0.8928     0.5946      1.663         69        640: 100%|██████████| 1545/1545 [07:41<00:00,  3.35it/s]\n",
            "                 Class     Images  Instances      Box(P          R      mAP50  mAP50-95): 100%|██████████| 111/111 [00:28<00:00,  3.95it/s]"
          ]
        },
        {
          "metadata": {
            "tags": null
          },
          "name": "stdout",
          "output_type": "stream",
          "text": [
            "                   all       1773      21223      0.719      0.709      0.742      0.491\n"
          ]
        },
        {
          "metadata": {
            "tags": null
          },
          "name": "stderr",
          "output_type": "stream",
          "text": [
            "\n"
          ]
        },
        {
          "metadata": {
            "tags": null
          },
          "name": "stdout",
          "output_type": "stream",
          "text": [
            "\n",
            "      Epoch    GPU_mem   box_loss   cls_loss   dfl_loss  Instances       Size\n"
          ]
        },
        {
          "metadata": {
            "tags": null
          },
          "name": "stderr",
          "output_type": "stream",
          "text": [
            "      13/20      7.27G     0.8793     0.5785      1.647         45        640: 100%|██████████| 1545/1545 [07:41<00:00,  3.35it/s]\n",
            "                 Class     Images  Instances      Box(P          R      mAP50  mAP50-95): 100%|██████████| 111/111 [00:28<00:00,  3.94it/s]"
          ]
        },
        {
          "metadata": {
            "tags": null
          },
          "name": "stdout",
          "output_type": "stream",
          "text": [
            "                   all       1773      21223      0.706      0.722      0.734      0.498\n"
          ]
        },
        {
          "metadata": {
            "tags": null
          },
          "name": "stderr",
          "output_type": "stream",
          "text": [
            "\n"
          ]
        },
        {
          "metadata": {
            "tags": null
          },
          "name": "stdout",
          "output_type": "stream",
          "text": [
            "\n",
            "      Epoch    GPU_mem   box_loss   cls_loss   dfl_loss  Instances       Size\n"
          ]
        },
        {
          "metadata": {
            "tags": null
          },
          "name": "stderr",
          "output_type": "stream",
          "text": [
            "      14/20      7.34G     0.8667     0.5663      1.629        113        640: 100%|██████████| 1545/1545 [07:40<00:00,  3.36it/s]\n",
            "                 Class     Images  Instances      Box(P          R      mAP50  mAP50-95): 100%|██████████| 111/111 [00:28<00:00,  3.95it/s]"
          ]
        },
        {
          "metadata": {
            "tags": null
          },
          "name": "stdout",
          "output_type": "stream",
          "text": [
            "                   all       1773      21223      0.729      0.715      0.754      0.502\n"
          ]
        },
        {
          "metadata": {
            "tags": null
          },
          "name": "stderr",
          "output_type": "stream",
          "text": [
            "\n"
          ]
        },
        {
          "metadata": {
            "tags": null
          },
          "name": "stdout",
          "output_type": "stream",
          "text": [
            "\n",
            "      Epoch    GPU_mem   box_loss   cls_loss   dfl_loss  Instances       Size\n"
          ]
        },
        {
          "metadata": {
            "tags": null
          },
          "name": "stderr",
          "output_type": "stream",
          "text": [
            "      15/20       7.4G     0.8541     0.5533      1.621         65        640: 100%|██████████| 1545/1545 [07:40<00:00,  3.36it/s]\n",
            "                 Class     Images  Instances      Box(P          R      mAP50  mAP50-95): 100%|██████████| 111/111 [00:28<00:00,  3.90it/s]"
          ]
        },
        {
          "metadata": {
            "tags": null
          },
          "name": "stdout",
          "output_type": "stream",
          "text": [
            "                   all       1773      21223      0.739      0.719      0.763      0.511\n"
          ]
        },
        {
          "metadata": {
            "tags": null
          },
          "name": "stderr",
          "output_type": "stream",
          "text": [
            "\n"
          ]
        },
        {
          "metadata": {
            "tags": null
          },
          "name": "stdout",
          "output_type": "stream",
          "text": [
            "\n",
            "      Epoch    GPU_mem   box_loss   cls_loss   dfl_loss  Instances       Size\n"
          ]
        },
        {
          "metadata": {
            "tags": null
          },
          "name": "stderr",
          "output_type": "stream",
          "text": [
            "      16/20      5.69G     0.8449     0.5414      1.602        102        640: 100%|██████████| 1545/1545 [07:41<00:00,  3.34it/s]\n",
            "                 Class     Images  Instances      Box(P          R      mAP50  mAP50-95): 100%|██████████| 111/111 [00:27<00:00,  3.97it/s]"
          ]
        },
        {
          "metadata": {
            "tags": null
          },
          "name": "stdout",
          "output_type": "stream",
          "text": [
            "                   all       1773      21223      0.726      0.716      0.754      0.511\n"
          ]
        },
        {
          "metadata": {
            "tags": null
          },
          "name": "stderr",
          "output_type": "stream",
          "text": [
            "\n"
          ]
        },
        {
          "metadata": {
            "tags": null
          },
          "name": "stdout",
          "output_type": "stream",
          "text": [
            "\n",
            "      Epoch    GPU_mem   box_loss   cls_loss   dfl_loss  Instances       Size\n"
          ]
        },
        {
          "metadata": {
            "tags": null
          },
          "name": "stderr",
          "output_type": "stream",
          "text": [
            "      17/20      7.32G     0.8336     0.5261      1.589         40        640: 100%|██████████| 1545/1545 [07:39<00:00,  3.36it/s]\n",
            "                 Class     Images  Instances      Box(P          R      mAP50  mAP50-95): 100%|██████████| 111/111 [00:27<00:00,  3.97it/s]"
          ]
        },
        {
          "metadata": {
            "tags": null
          },
          "name": "stdout",
          "output_type": "stream",
          "text": [
            "                   all       1773      21223      0.729      0.724      0.761      0.518\n"
          ]
        },
        {
          "metadata": {
            "tags": null
          },
          "name": "stderr",
          "output_type": "stream",
          "text": [
            "\n"
          ]
        },
        {
          "metadata": {
            "tags": null
          },
          "name": "stdout",
          "output_type": "stream",
          "text": [
            "\n",
            "      Epoch    GPU_mem   box_loss   cls_loss   dfl_loss  Instances       Size\n"
          ]
        },
        {
          "metadata": {
            "tags": null
          },
          "name": "stderr",
          "output_type": "stream",
          "text": [
            "      18/20      7.32G     0.8211     0.5172      1.574         89        640: 100%|██████████| 1545/1545 [07:40<00:00,  3.36it/s]\n",
            "                 Class     Images  Instances      Box(P          R      mAP50  mAP50-95): 100%|██████████| 111/111 [00:28<00:00,  3.95it/s]"
          ]
        },
        {
          "metadata": {
            "tags": null
          },
          "name": "stdout",
          "output_type": "stream",
          "text": [
            "                   all       1773      21223      0.735      0.721      0.767      0.523\n"
          ]
        },
        {
          "metadata": {
            "tags": null
          },
          "name": "stderr",
          "output_type": "stream",
          "text": [
            "\n"
          ]
        },
        {
          "metadata": {
            "tags": null
          },
          "name": "stdout",
          "output_type": "stream",
          "text": [
            "\n",
            "      Epoch    GPU_mem   box_loss   cls_loss   dfl_loss  Instances       Size\n"
          ]
        },
        {
          "output_type": "stream",
          "name": "stderr",
          "text": [
            "      19/20      7.32G     0.8126     0.5074      1.562        134        640: 100%|██████████| 1545/1545 [07:38<00:00,  3.37it/s]\n",
            "                 Class     Images  Instances      Box(P          R      mAP50  mAP50-95): 100%|██████████| 111/111 [00:27<00:00,  3.98it/s]"
          ]
        },
        {
          "output_type": "stream",
          "name": "stdout",
          "text": [
            "                   all       1773      21223      0.727      0.726      0.766      0.518\n"
          ]
        },
        {
          "output_type": "stream",
          "name": "stderr",
          "text": [
            "\n"
          ]
        },
        {
          "output_type": "stream",
          "name": "stdout",
          "text": [
            "\n",
            "      Epoch    GPU_mem   box_loss   cls_loss   dfl_loss  Instances       Size\n"
          ]
        },
        {
          "output_type": "stream",
          "name": "stderr",
          "text": [
            "      20/20      7.32G     0.8004     0.4967      1.554         39        640: 100%|██████████| 1545/1545 [07:41<00:00,  3.35it/s]\n",
            "                 Class     Images  Instances      Box(P          R      mAP50  mAP50-95): 100%|██████████| 111/111 [00:28<00:00,  3.95it/s]"
          ]
        },
        {
          "output_type": "stream",
          "name": "stdout",
          "text": [
            "                   all       1773      21223      0.731      0.738      0.774      0.524\n"
          ]
        },
        {
          "output_type": "stream",
          "name": "stderr",
          "text": [
            "\n"
          ]
        },
        {
          "output_type": "stream",
          "name": "stdout",
          "text": [
            "\n",
            "20 epochs completed in 2.796 hours.\n",
            "Optimizer stripped from runs/detect/olivedetect_yolov11m/weights/last.pt, 40.5MB\n",
            "Optimizer stripped from runs/detect/olivedetect_yolov11m/weights/best.pt, 40.5MB\n",
            "\n",
            "Validating runs/detect/olivedetect_yolov11m/weights/best.pt...\n",
            "Ultralytics 8.3.115 🚀 Python-3.11.12 torch-2.6.0+cu124 CUDA:0 (Tesla T4, 15095MiB)\n",
            "YOLO11m summary (fused): 125 layers, 20,030,803 parameters, 0 gradients, 67.6 GFLOPs\n"
          ]
        },
        {
          "output_type": "stream",
          "name": "stderr",
          "text": [
            "                 Class     Images  Instances      Box(P          R      mAP50  mAP50-95): 100%|██████████| 111/111 [00:29<00:00,  3.73it/s]\n"
          ]
        },
        {
          "output_type": "stream",
          "name": "stdout",
          "text": [
            "                   all       1773      21223       0.73      0.738      0.774      0.524\n",
            "Speed: 0.2ms preprocess, 10.2ms inference, 0.0ms loss, 1.4ms postprocess per image\n",
            "Results saved to \u001b[1mruns/detect/olivedetect_yolov11m\u001b[0m\n"
          ]
        },
        {
          "output_type": "execute_result",
          "data": {
            "text/plain": [
              "ultralytics.utils.metrics.DetMetrics object with attributes:\n",
              "\n",
              "ap_class_index: array([0])\n",
              "box: ultralytics.utils.metrics.Metric object\n",
              "confusion_matrix: <ultralytics.utils.metrics.ConfusionMatrix object at 0x7f073be887d0>\n",
              "curves: ['Precision-Recall(B)', 'F1-Confidence(B)', 'Precision-Confidence(B)', 'Recall-Confidence(B)']\n",
              "curves_results: [[array([          0,    0.001001,    0.002002,    0.003003,    0.004004,    0.005005,    0.006006,    0.007007,    0.008008,    0.009009,     0.01001,    0.011011,    0.012012,    0.013013,    0.014014,    0.015015,    0.016016,    0.017017,    0.018018,    0.019019,     0.02002,    0.021021,    0.022022,    0.023023,\n",
              "          0.024024,    0.025025,    0.026026,    0.027027,    0.028028,    0.029029,     0.03003,    0.031031,    0.032032,    0.033033,    0.034034,    0.035035,    0.036036,    0.037037,    0.038038,    0.039039,     0.04004,    0.041041,    0.042042,    0.043043,    0.044044,    0.045045,    0.046046,    0.047047,\n",
              "          0.048048,    0.049049,     0.05005,    0.051051,    0.052052,    0.053053,    0.054054,    0.055055,    0.056056,    0.057057,    0.058058,    0.059059,     0.06006,    0.061061,    0.062062,    0.063063,    0.064064,    0.065065,    0.066066,    0.067067,    0.068068,    0.069069,     0.07007,    0.071071,\n",
              "          0.072072,    0.073073,    0.074074,    0.075075,    0.076076,    0.077077,    0.078078,    0.079079,     0.08008,    0.081081,    0.082082,    0.083083,    0.084084,    0.085085,    0.086086,    0.087087,    0.088088,    0.089089,     0.09009,    0.091091,    0.092092,    0.093093,    0.094094,    0.095095,\n",
              "          0.096096,    0.097097,    0.098098,    0.099099,      0.1001,      0.1011,      0.1021,      0.1031,      0.1041,     0.10511,     0.10611,     0.10711,     0.10811,     0.10911,     0.11011,     0.11111,     0.11211,     0.11311,     0.11411,     0.11512,     0.11612,     0.11712,     0.11812,     0.11912,\n",
              "           0.12012,     0.12112,     0.12212,     0.12312,     0.12412,     0.12513,     0.12613,     0.12713,     0.12813,     0.12913,     0.13013,     0.13113,     0.13213,     0.13313,     0.13413,     0.13514,     0.13614,     0.13714,     0.13814,     0.13914,     0.14014,     0.14114,     0.14214,     0.14314,\n",
              "           0.14414,     0.14515,     0.14615,     0.14715,     0.14815,     0.14915,     0.15015,     0.15115,     0.15215,     0.15315,     0.15415,     0.15516,     0.15616,     0.15716,     0.15816,     0.15916,     0.16016,     0.16116,     0.16216,     0.16316,     0.16416,     0.16517,     0.16617,     0.16717,\n",
              "           0.16817,     0.16917,     0.17017,     0.17117,     0.17217,     0.17317,     0.17417,     0.17518,     0.17618,     0.17718,     0.17818,     0.17918,     0.18018,     0.18118,     0.18218,     0.18318,     0.18418,     0.18519,     0.18619,     0.18719,     0.18819,     0.18919,     0.19019,     0.19119,\n",
              "           0.19219,     0.19319,     0.19419,      0.1952,      0.1962,      0.1972,      0.1982,      0.1992,      0.2002,      0.2012,      0.2022,      0.2032,      0.2042,     0.20521,     0.20621,     0.20721,     0.20821,     0.20921,     0.21021,     0.21121,     0.21221,     0.21321,     0.21421,     0.21522,\n",
              "           0.21622,     0.21722,     0.21822,     0.21922,     0.22022,     0.22122,     0.22222,     0.22322,     0.22422,     0.22523,     0.22623,     0.22723,     0.22823,     0.22923,     0.23023,     0.23123,     0.23223,     0.23323,     0.23423,     0.23524,     0.23624,     0.23724,     0.23824,     0.23924,\n",
              "           0.24024,     0.24124,     0.24224,     0.24324,     0.24424,     0.24525,     0.24625,     0.24725,     0.24825,     0.24925,     0.25025,     0.25125,     0.25225,     0.25325,     0.25425,     0.25526,     0.25626,     0.25726,     0.25826,     0.25926,     0.26026,     0.26126,     0.26226,     0.26326,\n",
              "           0.26426,     0.26527,     0.26627,     0.26727,     0.26827,     0.26927,     0.27027,     0.27127,     0.27227,     0.27327,     0.27427,     0.27528,     0.27628,     0.27728,     0.27828,     0.27928,     0.28028,     0.28128,     0.28228,     0.28328,     0.28428,     0.28529,     0.28629,     0.28729,\n",
              "           0.28829,     0.28929,     0.29029,     0.29129,     0.29229,     0.29329,     0.29429,      0.2953,      0.2963,      0.2973,      0.2983,      0.2993,      0.3003,      0.3013,      0.3023,      0.3033,      0.3043,     0.30531,     0.30631,     0.30731,     0.30831,     0.30931,     0.31031,     0.31131,\n",
              "           0.31231,     0.31331,     0.31431,     0.31532,     0.31632,     0.31732,     0.31832,     0.31932,     0.32032,     0.32132,     0.32232,     0.32332,     0.32432,     0.32533,     0.32633,     0.32733,     0.32833,     0.32933,     0.33033,     0.33133,     0.33233,     0.33333,     0.33433,     0.33534,\n",
              "           0.33634,     0.33734,     0.33834,     0.33934,     0.34034,     0.34134,     0.34234,     0.34334,     0.34434,     0.34535,     0.34635,     0.34735,     0.34835,     0.34935,     0.35035,     0.35135,     0.35235,     0.35335,     0.35435,     0.35536,     0.35636,     0.35736,     0.35836,     0.35936,\n",
              "           0.36036,     0.36136,     0.36236,     0.36336,     0.36436,     0.36537,     0.36637,     0.36737,     0.36837,     0.36937,     0.37037,     0.37137,     0.37237,     0.37337,     0.37437,     0.37538,     0.37638,     0.37738,     0.37838,     0.37938,     0.38038,     0.38138,     0.38238,     0.38338,\n",
              "           0.38438,     0.38539,     0.38639,     0.38739,     0.38839,     0.38939,     0.39039,     0.39139,     0.39239,     0.39339,     0.39439,      0.3954,      0.3964,      0.3974,      0.3984,      0.3994,      0.4004,      0.4014,      0.4024,      0.4034,      0.4044,     0.40541,     0.40641,     0.40741,\n",
              "           0.40841,     0.40941,     0.41041,     0.41141,     0.41241,     0.41341,     0.41441,     0.41542,     0.41642,     0.41742,     0.41842,     0.41942,     0.42042,     0.42142,     0.42242,     0.42342,     0.42442,     0.42543,     0.42643,     0.42743,     0.42843,     0.42943,     0.43043,     0.43143,\n",
              "           0.43243,     0.43343,     0.43443,     0.43544,     0.43644,     0.43744,     0.43844,     0.43944,     0.44044,     0.44144,     0.44244,     0.44344,     0.44444,     0.44545,     0.44645,     0.44745,     0.44845,     0.44945,     0.45045,     0.45145,     0.45245,     0.45345,     0.45445,     0.45546,\n",
              "           0.45646,     0.45746,     0.45846,     0.45946,     0.46046,     0.46146,     0.46246,     0.46346,     0.46446,     0.46547,     0.46647,     0.46747,     0.46847,     0.46947,     0.47047,     0.47147,     0.47247,     0.47347,     0.47447,     0.47548,     0.47648,     0.47748,     0.47848,     0.47948,\n",
              "           0.48048,     0.48148,     0.48248,     0.48348,     0.48448,     0.48549,     0.48649,     0.48749,     0.48849,     0.48949,     0.49049,     0.49149,     0.49249,     0.49349,     0.49449,      0.4955,      0.4965,      0.4975,      0.4985,      0.4995,      0.5005,      0.5015,      0.5025,      0.5035,\n",
              "            0.5045,     0.50551,     0.50651,     0.50751,     0.50851,     0.50951,     0.51051,     0.51151,     0.51251,     0.51351,     0.51451,     0.51552,     0.51652,     0.51752,     0.51852,     0.51952,     0.52052,     0.52152,     0.52252,     0.52352,     0.52452,     0.52553,     0.52653,     0.52753,\n",
              "           0.52853,     0.52953,     0.53053,     0.53153,     0.53253,     0.53353,     0.53453,     0.53554,     0.53654,     0.53754,     0.53854,     0.53954,     0.54054,     0.54154,     0.54254,     0.54354,     0.54454,     0.54555,     0.54655,     0.54755,     0.54855,     0.54955,     0.55055,     0.55155,\n",
              "           0.55255,     0.55355,     0.55455,     0.55556,     0.55656,     0.55756,     0.55856,     0.55956,     0.56056,     0.56156,     0.56256,     0.56356,     0.56456,     0.56557,     0.56657,     0.56757,     0.56857,     0.56957,     0.57057,     0.57157,     0.57257,     0.57357,     0.57457,     0.57558,\n",
              "           0.57658,     0.57758,     0.57858,     0.57958,     0.58058,     0.58158,     0.58258,     0.58358,     0.58458,     0.58559,     0.58659,     0.58759,     0.58859,     0.58959,     0.59059,     0.59159,     0.59259,     0.59359,     0.59459,      0.5956,      0.5966,      0.5976,      0.5986,      0.5996,\n",
              "            0.6006,      0.6016,      0.6026,      0.6036,      0.6046,     0.60561,     0.60661,     0.60761,     0.60861,     0.60961,     0.61061,     0.61161,     0.61261,     0.61361,     0.61461,     0.61562,     0.61662,     0.61762,     0.61862,     0.61962,     0.62062,     0.62162,     0.62262,     0.62362,\n",
              "           0.62462,     0.62563,     0.62663,     0.62763,     0.62863,     0.62963,     0.63063,     0.63163,     0.63263,     0.63363,     0.63463,     0.63564,     0.63664,     0.63764,     0.63864,     0.63964,     0.64064,     0.64164,     0.64264,     0.64364,     0.64464,     0.64565,     0.64665,     0.64765,\n",
              "           0.64865,     0.64965,     0.65065,     0.65165,     0.65265,     0.65365,     0.65465,     0.65566,     0.65666,     0.65766,     0.65866,     0.65966,     0.66066,     0.66166,     0.66266,     0.66366,     0.66466,     0.66567,     0.66667,     0.66767,     0.66867,     0.66967,     0.67067,     0.67167,\n",
              "           0.67267,     0.67367,     0.67467,     0.67568,     0.67668,     0.67768,     0.67868,     0.67968,     0.68068,     0.68168,     0.68268,     0.68368,     0.68468,     0.68569,     0.68669,     0.68769,     0.68869,     0.68969,     0.69069,     0.69169,     0.69269,     0.69369,     0.69469,      0.6957,\n",
              "            0.6967,      0.6977,      0.6987,      0.6997,      0.7007,      0.7017,      0.7027,      0.7037,      0.7047,     0.70571,     0.70671,     0.70771,     0.70871,     0.70971,     0.71071,     0.71171,     0.71271,     0.71371,     0.71471,     0.71572,     0.71672,     0.71772,     0.71872,     0.71972,\n",
              "           0.72072,     0.72172,     0.72272,     0.72372,     0.72472,     0.72573,     0.72673,     0.72773,     0.72873,     0.72973,     0.73073,     0.73173,     0.73273,     0.73373,     0.73473,     0.73574,     0.73674,     0.73774,     0.73874,     0.73974,     0.74074,     0.74174,     0.74274,     0.74374,\n",
              "           0.74474,     0.74575,     0.74675,     0.74775,     0.74875,     0.74975,     0.75075,     0.75175,     0.75275,     0.75375,     0.75475,     0.75576,     0.75676,     0.75776,     0.75876,     0.75976,     0.76076,     0.76176,     0.76276,     0.76376,     0.76476,     0.76577,     0.76677,     0.76777,\n",
              "           0.76877,     0.76977,     0.77077,     0.77177,     0.77277,     0.77377,     0.77477,     0.77578,     0.77678,     0.77778,     0.77878,     0.77978,     0.78078,     0.78178,     0.78278,     0.78378,     0.78478,     0.78579,     0.78679,     0.78779,     0.78879,     0.78979,     0.79079,     0.79179,\n",
              "           0.79279,     0.79379,     0.79479,      0.7958,      0.7968,      0.7978,      0.7988,      0.7998,      0.8008,      0.8018,      0.8028,      0.8038,      0.8048,     0.80581,     0.80681,     0.80781,     0.80881,     0.80981,     0.81081,     0.81181,     0.81281,     0.81381,     0.81481,     0.81582,\n",
              "           0.81682,     0.81782,     0.81882,     0.81982,     0.82082,     0.82182,     0.82282,     0.82382,     0.82482,     0.82583,     0.82683,     0.82783,     0.82883,     0.82983,     0.83083,     0.83183,     0.83283,     0.83383,     0.83483,     0.83584,     0.83684,     0.83784,     0.83884,     0.83984,\n",
              "           0.84084,     0.84184,     0.84284,     0.84384,     0.84484,     0.84585,     0.84685,     0.84785,     0.84885,     0.84985,     0.85085,     0.85185,     0.85285,     0.85385,     0.85485,     0.85586,     0.85686,     0.85786,     0.85886,     0.85986,     0.86086,     0.86186,     0.86286,     0.86386,\n",
              "           0.86486,     0.86587,     0.86687,     0.86787,     0.86887,     0.86987,     0.87087,     0.87187,     0.87287,     0.87387,     0.87487,     0.87588,     0.87688,     0.87788,     0.87888,     0.87988,     0.88088,     0.88188,     0.88288,     0.88388,     0.88488,     0.88589,     0.88689,     0.88789,\n",
              "           0.88889,     0.88989,     0.89089,     0.89189,     0.89289,     0.89389,     0.89489,      0.8959,      0.8969,      0.8979,      0.8989,      0.8999,      0.9009,      0.9019,      0.9029,      0.9039,      0.9049,     0.90591,     0.90691,     0.90791,     0.90891,     0.90991,     0.91091,     0.91191,\n",
              "           0.91291,     0.91391,     0.91491,     0.91592,     0.91692,     0.91792,     0.91892,     0.91992,     0.92092,     0.92192,     0.92292,     0.92392,     0.92492,     0.92593,     0.92693,     0.92793,     0.92893,     0.92993,     0.93093,     0.93193,     0.93293,     0.93393,     0.93493,     0.93594,\n",
              "           0.93694,     0.93794,     0.93894,     0.93994,     0.94094,     0.94194,     0.94294,     0.94394,     0.94494,     0.94595,     0.94695,     0.94795,     0.94895,     0.94995,     0.95095,     0.95195,     0.95295,     0.95395,     0.95495,     0.95596,     0.95696,     0.95796,     0.95896,     0.95996,\n",
              "           0.96096,     0.96196,     0.96296,     0.96396,     0.96496,     0.96597,     0.96697,     0.96797,     0.96897,     0.96997,     0.97097,     0.97197,     0.97297,     0.97397,     0.97497,     0.97598,     0.97698,     0.97798,     0.97898,     0.97998,     0.98098,     0.98198,     0.98298,     0.98398,\n",
              "           0.98498,     0.98599,     0.98699,     0.98799,     0.98899,     0.98999,     0.99099,     0.99199,     0.99299,     0.99399,     0.99499,       0.996,       0.997,       0.998,       0.999,           1]), array([[          1,           1,           1,           1,           1,           1,           1,      0.9969,      0.9969,      0.9969,      0.9969,      0.9969,      0.9969,      0.9969,      0.9969,      0.9969,     0.99468,     0.99468,     0.99409,     0.99409,     0.99409,     0.99409,     0.99409,\n",
              "            0.99409,     0.99409,     0.99409,     0.99409,     0.99409,     0.99409,     0.99409,     0.99409,     0.99409,      0.9927,     0.99181,     0.99181,     0.99087,     0.99015,     0.99015,     0.99015,     0.99015,     0.99015,     0.99015,     0.99015,     0.98994,     0.98994,     0.98994,\n",
              "            0.98994,     0.98994,     0.98994,     0.98994,     0.98994,     0.98929,     0.98929,     0.98862,     0.98716,     0.98517,     0.98517,     0.98469,     0.98433,     0.98433,     0.98433,     0.98433,     0.98433,     0.98433,     0.98433,     0.98433,     0.98433,     0.98433,     0.98433,\n",
              "            0.98323,     0.98304,     0.98246,     0.98231,     0.98231,     0.98226,     0.98226,     0.98226,     0.98226,     0.98226,     0.98127,     0.98127,     0.98127,     0.98127,     0.98127,     0.98127,     0.98127,     0.98127,     0.98127,     0.98127,     0.98106,     0.98106,     0.98106,\n",
              "            0.98106,     0.98065,     0.98025,     0.98025,     0.98025,     0.98025,     0.98025,      0.9797,     0.97944,     0.97904,     0.97893,      0.9787,     0.97839,     0.97723,     0.97699,     0.97699,     0.97686,     0.97686,     0.97686,     0.97686,     0.97686,     0.97686,     0.97686,\n",
              "            0.97686,      0.9764,     0.97629,     0.97629,     0.97581,     0.97501,     0.97501,     0.97491,     0.97491,     0.97491,     0.97435,     0.97397,     0.97397,     0.97397,     0.97385,     0.97365,     0.97355,     0.97352,     0.97352,     0.97352,     0.97352,     0.97352,     0.97352,\n",
              "            0.97352,     0.97352,     0.97352,     0.97352,     0.97333,      0.9732,      0.9732,      0.9732,      0.9732,      0.9732,      0.9732,     0.97305,       0.973,     0.97272,      0.9723,      0.9723,      0.9723,      0.9723,      0.9723,     0.97226,     0.97226,     0.97226,     0.97226,\n",
              "            0.97226,     0.97206,     0.97125,     0.97115,     0.97115,     0.97115,     0.97115,     0.97115,     0.97115,     0.97115,     0.97115,     0.97115,     0.97115,     0.97115,     0.97103,     0.97076,     0.97034,     0.97011,     0.96991,     0.96989,     0.96989,     0.96989,     0.96989,\n",
              "            0.96989,     0.96989,     0.96989,     0.96989,     0.96989,     0.96989,     0.96989,     0.96989,     0.96989,     0.96933,     0.96904,     0.96904,     0.96904,     0.96904,     0.96904,     0.96903,     0.96903,     0.96857,     0.96797,     0.96753,     0.96684,     0.96667,     0.96667,\n",
              "            0.96572,     0.96572,     0.96527,     0.96476,     0.96414,     0.96368,     0.96344,     0.96344,     0.96333,     0.96292,     0.96246,     0.96237,     0.96237,     0.96237,      0.9622,     0.96189,     0.96129,     0.96065,     0.96046,     0.96046,     0.96046,     0.96046,     0.96046,\n",
              "            0.96037,     0.96005,     0.95989,     0.95977,     0.95934,     0.95891,     0.95891,     0.95863,     0.95821,     0.95811,     0.95739,     0.95702,      0.9565,     0.95647,     0.95628,     0.95592,     0.95493,     0.95493,     0.95457,     0.95435,      0.9542,      0.9539,     0.95387,\n",
              "            0.95387,     0.95387,     0.95379,     0.95354,     0.95296,     0.95276,     0.95232,     0.95221,     0.95221,     0.95201,     0.95147,     0.95099,     0.95099,     0.95087,     0.95031,        0.95,     0.94934,     0.94846,     0.94737,     0.94708,     0.94664,     0.94651,     0.94623,\n",
              "            0.94616,     0.94571,     0.94571,     0.94563,      0.9455,     0.94504,     0.94499,     0.94485,     0.94473,     0.94462,     0.94425,       0.944,       0.944,     0.94387,     0.94378,     0.94378,     0.94362,     0.94356,     0.94326,     0.94326,     0.94325,       0.943,       0.943,\n",
              "            0.94287,     0.94222,     0.94213,       0.942,       0.942,       0.942,       0.942,     0.94182,     0.94141,     0.94124,     0.94054,     0.93997,      0.9396,     0.93923,     0.93909,     0.93842,     0.93818,      0.9376,     0.93753,     0.93711,     0.93711,     0.93627,     0.93602,\n",
              "            0.93589,     0.93569,     0.93527,     0.93478,     0.93469,     0.93375,     0.93346,     0.93324,     0.93312,     0.93265,      0.9325,     0.93224,     0.93224,     0.93209,     0.93179,     0.93166,     0.93166,     0.93155,     0.93095,      0.9303,     0.92965,     0.92949,     0.92919,\n",
              "            0.92871,     0.92833,     0.92815,     0.92784,     0.92715,     0.92653,     0.92638,     0.92636,     0.92572,     0.92536,     0.92508,     0.92491,     0.92459,     0.92449,     0.92394,     0.92312,     0.92256,     0.92199,     0.92199,     0.92185,     0.92173,     0.92169,     0.92119,\n",
              "            0.92119,      0.9207,     0.92059,     0.92059,     0.92048,     0.92006,     0.92006,     0.91976,     0.91976,     0.91942,     0.91938,      0.9193,     0.91895,     0.91835,     0.91824,     0.91823,     0.91792,     0.91738,     0.91713,     0.91644,     0.91624,     0.91573,     0.91542,\n",
              "            0.91497,      0.9148,     0.91456,     0.91453,     0.91425,     0.91377,     0.91376,     0.91357,     0.91308,      0.9127,      0.9124,      0.9124,     0.91211,     0.91196,     0.91133,      0.9106,     0.90983,     0.90941,     0.90919,     0.90833,     0.90799,     0.90756,     0.90733,\n",
              "            0.90706,     0.90657,     0.90613,     0.90613,     0.90576,     0.90533,     0.90491,     0.90491,     0.90491,     0.90476,     0.90471,     0.90449,     0.90391,     0.90346,     0.90346,     0.90346,     0.90345,     0.90341,     0.90308,     0.90275,     0.90228,     0.90178,     0.90144,\n",
              "            0.90095,     0.90095,     0.90083,     0.90082,     0.90082,     0.90037,     0.89989,     0.89971,     0.89971,     0.89959,     0.89949,     0.89949,     0.89911,     0.89865,     0.89848,      0.8979,     0.89726,     0.89672,     0.89627,     0.89589,     0.89556,     0.89521,     0.89419,\n",
              "            0.89414,     0.89345,     0.89252,     0.89236,     0.89222,     0.89203,     0.89143,     0.89141,     0.89117,     0.89111,     0.89058,     0.89014,     0.89007,     0.88992,     0.88944,     0.88916,     0.88891,      0.8884,     0.88815,     0.88757,     0.88695,     0.88653,     0.88589,\n",
              "            0.88539,     0.88517,     0.88516,     0.88456,     0.88385,     0.88385,     0.88322,     0.88276,     0.88159,     0.88129,     0.88129,     0.88091,     0.88047,     0.88008,     0.87992,     0.87966,     0.87963,     0.87912,     0.87873,     0.87865,     0.87807,     0.87752,     0.87727,\n",
              "            0.87681,     0.87656,     0.87626,     0.87612,     0.87551,      0.8752,      0.8751,     0.87481,     0.87462,     0.87423,      0.8737,      0.8732,     0.87285,     0.87242,     0.87216,     0.87216,      0.8721,     0.87148,     0.87109,     0.87068,     0.86996,     0.86986,     0.86902,\n",
              "            0.86872,     0.86777,     0.86756,     0.86718,     0.86676,     0.86665,     0.86606,     0.86574,     0.86508,     0.86467,     0.86411,     0.86367,     0.86308,     0.86282,     0.86257,     0.86186,     0.86186,     0.86153,     0.86107,     0.86063,     0.86041,     0.85992,     0.85974,\n",
              "            0.85938,       0.859,     0.85869,     0.85824,     0.85801,     0.85713,     0.85702,     0.85602,     0.85541,     0.85417,     0.85384,     0.85346,     0.85331,     0.85261,     0.85191,     0.85141,      0.8508,     0.85049,     0.84985,     0.84896,     0.84846,     0.84824,     0.84807,\n",
              "            0.84759,     0.84674,      0.8462,     0.84586,     0.84586,     0.84535,     0.84469,     0.84443,     0.84373,     0.84293,     0.84196,     0.84162,     0.84104,     0.84011,     0.83971,     0.83943,     0.83874,     0.83824,     0.83755,     0.83698,     0.83638,     0.83579,     0.83573,\n",
              "            0.83547,     0.83526,     0.83481,     0.83419,      0.8333,     0.83278,     0.83223,      0.8318,     0.83146,     0.83066,     0.83019,     0.82957,     0.82864,     0.82796,     0.82782,     0.82765,     0.82637,     0.82597,     0.82521,     0.82458,     0.82401,     0.82312,     0.82263,\n",
              "            0.82187,     0.82146,     0.82099,     0.82002,     0.81933,     0.81843,     0.81814,     0.81768,     0.81716,     0.81667,     0.81595,     0.81509,     0.81444,     0.81385,      0.8132,     0.81227,     0.81156,     0.81141,     0.81095,      0.8107,     0.80965,     0.80911,     0.80773,\n",
              "            0.80642,      0.8055,     0.80464,     0.80419,     0.80388,     0.80342,     0.80328,     0.80259,     0.80204,     0.80131,     0.80039,     0.79937,     0.79829,     0.79787,     0.79702,     0.79596,     0.79419,     0.79354,     0.79296,     0.79245,     0.79218,     0.79107,     0.79072,\n",
              "             0.7904,     0.78976,      0.7894,     0.78863,     0.78814,     0.78701,     0.78632,     0.78546,     0.78468,     0.78433,     0.78392,     0.78317,     0.78235,     0.78172,     0.78113,     0.78032,     0.77938,     0.77882,     0.77754,     0.77633,     0.77522,     0.77429,      0.7728,\n",
              "            0.77193,     0.77089,     0.77006,     0.76911,     0.76835,      0.7679,     0.76707,     0.76579,     0.76471,     0.76373,     0.76254,      0.7613,     0.76022,     0.75909,     0.75796,     0.75719,     0.75685,      0.7563,     0.75568,     0.75477,     0.75407,      0.7534,      0.7528,\n",
              "            0.75146,     0.75079,     0.75005,     0.74946,      0.7484,     0.74694,     0.74592,     0.74527,     0.74409,     0.74334,     0.74275,     0.74187,     0.74064,     0.73993,     0.73972,     0.73867,     0.73812,     0.73754,     0.73591,     0.73468,     0.73381,     0.73331,     0.73262,\n",
              "            0.73188,     0.73098,     0.72983,     0.72905,     0.72816,      0.7277,     0.72595,     0.72548,     0.72398,     0.72302,     0.72271,     0.72173,     0.72043,     0.71982,      0.7186,     0.71718,     0.71567,     0.71434,     0.71332,     0.71189,     0.71086,     0.70913,     0.70826,\n",
              "             0.7068,     0.70537,     0.70331,     0.70219,     0.70028,     0.69898,     0.69824,      0.6975,     0.69705,     0.69532,     0.69399,     0.69272,     0.69149,     0.68942,     0.68803,     0.68643,     0.68414,     0.68242,     0.68042,      0.6791,     0.67818,     0.67642,     0.67455,\n",
              "            0.67393,      0.6734,     0.67168,     0.67035,     0.66891,     0.66747,     0.66644,     0.66459,     0.66373,     0.66237,     0.66107,     0.65878,     0.65754,      0.6559,     0.65448,     0.65322,     0.65141,     0.65028,     0.64794,      0.6459,     0.64457,       0.643,     0.64117,\n",
              "            0.63971,     0.63804,     0.63545,     0.63362,     0.63104,     0.62913,     0.62598,     0.62479,     0.62255,     0.62058,     0.61839,      0.6163,     0.61429,     0.61272,     0.61156,     0.61013,     0.60847,     0.60673,     0.60491,     0.60251,     0.60049,     0.59726,     0.59477,\n",
              "            0.59261,     0.59085,     0.58834,     0.58523,     0.58281,     0.58014,     0.57787,     0.57654,     0.57405,     0.57025,     0.56768,     0.56511,     0.56426,     0.56131,     0.55657,     0.55292,     0.54968,     0.54723,     0.54417,     0.54225,     0.53993,     0.53741,     0.53515,\n",
              "            0.53102,      0.5277,     0.52579,     0.52325,     0.51899,     0.51556,     0.51067,     0.50755,     0.50316,     0.49907,     0.49459,     0.48862,     0.48577,     0.48007,     0.47604,     0.47144,     0.46896,     0.46491,     0.46057,     0.45658,     0.45293,     0.44844,      0.4444,\n",
              "            0.44076,     0.43761,     0.43415,     0.42891,     0.42434,     0.41905,     0.41517,     0.41125,     0.40737,     0.40246,     0.39748,      0.3938,     0.38952,      0.3846,     0.37844,     0.37222,      0.3672,     0.36407,     0.35963,     0.35563,     0.35197,     0.34724,     0.34373,\n",
              "            0.33774,     0.33329,     0.32653,     0.32129,     0.31637,     0.30985,     0.30417,     0.29909,     0.29394,     0.28966,     0.28483,     0.27708,     0.27221,     0.26783,     0.26263,     0.25663,     0.25116,     0.24569,     0.24087,     0.23698,     0.23241,     0.22549,     0.21813,\n",
              "            0.21237,     0.20465,     0.19696,     0.18982,     0.18538,     0.18065,     0.17435,     0.16407,     0.15878,     0.14976,     0.13867,     0.13135,     0.12221,     0.10721,    0.097833,    0.096328,    0.094823,    0.093318,    0.091813,    0.090308,    0.088802,    0.087297,    0.085792,\n",
              "           0.084287,    0.082782,    0.081277,    0.079772,    0.078267,    0.076761,    0.075256,    0.073751,    0.072246,    0.070741,    0.069236,    0.067731,    0.066226,     0.06472,    0.063215,     0.06171,    0.060205,      0.0587,    0.057195,     0.05569,    0.054185,    0.052679,    0.051174,\n",
              "           0.049669,    0.048164,    0.046659,    0.045154,    0.043649,    0.042144,    0.040638,    0.039133,    0.037628,    0.036123,    0.034618,    0.033113,    0.031608,    0.030103,    0.028597,    0.027092,    0.025587,    0.024082,    0.022577,    0.021072,    0.019567,    0.018062,    0.016556,\n",
              "           0.015051,    0.013546,    0.012041,    0.010536,   0.0090308,   0.0075256,   0.0060205,   0.0045154,   0.0030103,   0.0015051,           0]]), 'Recall', 'Precision'], [array([          0,    0.001001,    0.002002,    0.003003,    0.004004,    0.005005,    0.006006,    0.007007,    0.008008,    0.009009,     0.01001,    0.011011,    0.012012,    0.013013,    0.014014,    0.015015,    0.016016,    0.017017,    0.018018,    0.019019,     0.02002,    0.021021,    0.022022,    0.023023,\n",
              "          0.024024,    0.025025,    0.026026,    0.027027,    0.028028,    0.029029,     0.03003,    0.031031,    0.032032,    0.033033,    0.034034,    0.035035,    0.036036,    0.037037,    0.038038,    0.039039,     0.04004,    0.041041,    0.042042,    0.043043,    0.044044,    0.045045,    0.046046,    0.047047,\n",
              "          0.048048,    0.049049,     0.05005,    0.051051,    0.052052,    0.053053,    0.054054,    0.055055,    0.056056,    0.057057,    0.058058,    0.059059,     0.06006,    0.061061,    0.062062,    0.063063,    0.064064,    0.065065,    0.066066,    0.067067,    0.068068,    0.069069,     0.07007,    0.071071,\n",
              "          0.072072,    0.073073,    0.074074,    0.075075,    0.076076,    0.077077,    0.078078,    0.079079,     0.08008,    0.081081,    0.082082,    0.083083,    0.084084,    0.085085,    0.086086,    0.087087,    0.088088,    0.089089,     0.09009,    0.091091,    0.092092,    0.093093,    0.094094,    0.095095,\n",
              "          0.096096,    0.097097,    0.098098,    0.099099,      0.1001,      0.1011,      0.1021,      0.1031,      0.1041,     0.10511,     0.10611,     0.10711,     0.10811,     0.10911,     0.11011,     0.11111,     0.11211,     0.11311,     0.11411,     0.11512,     0.11612,     0.11712,     0.11812,     0.11912,\n",
              "           0.12012,     0.12112,     0.12212,     0.12312,     0.12412,     0.12513,     0.12613,     0.12713,     0.12813,     0.12913,     0.13013,     0.13113,     0.13213,     0.13313,     0.13413,     0.13514,     0.13614,     0.13714,     0.13814,     0.13914,     0.14014,     0.14114,     0.14214,     0.14314,\n",
              "           0.14414,     0.14515,     0.14615,     0.14715,     0.14815,     0.14915,     0.15015,     0.15115,     0.15215,     0.15315,     0.15415,     0.15516,     0.15616,     0.15716,     0.15816,     0.15916,     0.16016,     0.16116,     0.16216,     0.16316,     0.16416,     0.16517,     0.16617,     0.16717,\n",
              "           0.16817,     0.16917,     0.17017,     0.17117,     0.17217,     0.17317,     0.17417,     0.17518,     0.17618,     0.17718,     0.17818,     0.17918,     0.18018,     0.18118,     0.18218,     0.18318,     0.18418,     0.18519,     0.18619,     0.18719,     0.18819,     0.18919,     0.19019,     0.19119,\n",
              "           0.19219,     0.19319,     0.19419,      0.1952,      0.1962,      0.1972,      0.1982,      0.1992,      0.2002,      0.2012,      0.2022,      0.2032,      0.2042,     0.20521,     0.20621,     0.20721,     0.20821,     0.20921,     0.21021,     0.21121,     0.21221,     0.21321,     0.21421,     0.21522,\n",
              "           0.21622,     0.21722,     0.21822,     0.21922,     0.22022,     0.22122,     0.22222,     0.22322,     0.22422,     0.22523,     0.22623,     0.22723,     0.22823,     0.22923,     0.23023,     0.23123,     0.23223,     0.23323,     0.23423,     0.23524,     0.23624,     0.23724,     0.23824,     0.23924,\n",
              "           0.24024,     0.24124,     0.24224,     0.24324,     0.24424,     0.24525,     0.24625,     0.24725,     0.24825,     0.24925,     0.25025,     0.25125,     0.25225,     0.25325,     0.25425,     0.25526,     0.25626,     0.25726,     0.25826,     0.25926,     0.26026,     0.26126,     0.26226,     0.26326,\n",
              "           0.26426,     0.26527,     0.26627,     0.26727,     0.26827,     0.26927,     0.27027,     0.27127,     0.27227,     0.27327,     0.27427,     0.27528,     0.27628,     0.27728,     0.27828,     0.27928,     0.28028,     0.28128,     0.28228,     0.28328,     0.28428,     0.28529,     0.28629,     0.28729,\n",
              "           0.28829,     0.28929,     0.29029,     0.29129,     0.29229,     0.29329,     0.29429,      0.2953,      0.2963,      0.2973,      0.2983,      0.2993,      0.3003,      0.3013,      0.3023,      0.3033,      0.3043,     0.30531,     0.30631,     0.30731,     0.30831,     0.30931,     0.31031,     0.31131,\n",
              "           0.31231,     0.31331,     0.31431,     0.31532,     0.31632,     0.31732,     0.31832,     0.31932,     0.32032,     0.32132,     0.32232,     0.32332,     0.32432,     0.32533,     0.32633,     0.32733,     0.32833,     0.32933,     0.33033,     0.33133,     0.33233,     0.33333,     0.33433,     0.33534,\n",
              "           0.33634,     0.33734,     0.33834,     0.33934,     0.34034,     0.34134,     0.34234,     0.34334,     0.34434,     0.34535,     0.34635,     0.34735,     0.34835,     0.34935,     0.35035,     0.35135,     0.35235,     0.35335,     0.35435,     0.35536,     0.35636,     0.35736,     0.35836,     0.35936,\n",
              "           0.36036,     0.36136,     0.36236,     0.36336,     0.36436,     0.36537,     0.36637,     0.36737,     0.36837,     0.36937,     0.37037,     0.37137,     0.37237,     0.37337,     0.37437,     0.37538,     0.37638,     0.37738,     0.37838,     0.37938,     0.38038,     0.38138,     0.38238,     0.38338,\n",
              "           0.38438,     0.38539,     0.38639,     0.38739,     0.38839,     0.38939,     0.39039,     0.39139,     0.39239,     0.39339,     0.39439,      0.3954,      0.3964,      0.3974,      0.3984,      0.3994,      0.4004,      0.4014,      0.4024,      0.4034,      0.4044,     0.40541,     0.40641,     0.40741,\n",
              "           0.40841,     0.40941,     0.41041,     0.41141,     0.41241,     0.41341,     0.41441,     0.41542,     0.41642,     0.41742,     0.41842,     0.41942,     0.42042,     0.42142,     0.42242,     0.42342,     0.42442,     0.42543,     0.42643,     0.42743,     0.42843,     0.42943,     0.43043,     0.43143,\n",
              "           0.43243,     0.43343,     0.43443,     0.43544,     0.43644,     0.43744,     0.43844,     0.43944,     0.44044,     0.44144,     0.44244,     0.44344,     0.44444,     0.44545,     0.44645,     0.44745,     0.44845,     0.44945,     0.45045,     0.45145,     0.45245,     0.45345,     0.45445,     0.45546,\n",
              "           0.45646,     0.45746,     0.45846,     0.45946,     0.46046,     0.46146,     0.46246,     0.46346,     0.46446,     0.46547,     0.46647,     0.46747,     0.46847,     0.46947,     0.47047,     0.47147,     0.47247,     0.47347,     0.47447,     0.47548,     0.47648,     0.47748,     0.47848,     0.47948,\n",
              "           0.48048,     0.48148,     0.48248,     0.48348,     0.48448,     0.48549,     0.48649,     0.48749,     0.48849,     0.48949,     0.49049,     0.49149,     0.49249,     0.49349,     0.49449,      0.4955,      0.4965,      0.4975,      0.4985,      0.4995,      0.5005,      0.5015,      0.5025,      0.5035,\n",
              "            0.5045,     0.50551,     0.50651,     0.50751,     0.50851,     0.50951,     0.51051,     0.51151,     0.51251,     0.51351,     0.51451,     0.51552,     0.51652,     0.51752,     0.51852,     0.51952,     0.52052,     0.52152,     0.52252,     0.52352,     0.52452,     0.52553,     0.52653,     0.52753,\n",
              "           0.52853,     0.52953,     0.53053,     0.53153,     0.53253,     0.53353,     0.53453,     0.53554,     0.53654,     0.53754,     0.53854,     0.53954,     0.54054,     0.54154,     0.54254,     0.54354,     0.54454,     0.54555,     0.54655,     0.54755,     0.54855,     0.54955,     0.55055,     0.55155,\n",
              "           0.55255,     0.55355,     0.55455,     0.55556,     0.55656,     0.55756,     0.55856,     0.55956,     0.56056,     0.56156,     0.56256,     0.56356,     0.56456,     0.56557,     0.56657,     0.56757,     0.56857,     0.56957,     0.57057,     0.57157,     0.57257,     0.57357,     0.57457,     0.57558,\n",
              "           0.57658,     0.57758,     0.57858,     0.57958,     0.58058,     0.58158,     0.58258,     0.58358,     0.58458,     0.58559,     0.58659,     0.58759,     0.58859,     0.58959,     0.59059,     0.59159,     0.59259,     0.59359,     0.59459,      0.5956,      0.5966,      0.5976,      0.5986,      0.5996,\n",
              "            0.6006,      0.6016,      0.6026,      0.6036,      0.6046,     0.60561,     0.60661,     0.60761,     0.60861,     0.60961,     0.61061,     0.61161,     0.61261,     0.61361,     0.61461,     0.61562,     0.61662,     0.61762,     0.61862,     0.61962,     0.62062,     0.62162,     0.62262,     0.62362,\n",
              "           0.62462,     0.62563,     0.62663,     0.62763,     0.62863,     0.62963,     0.63063,     0.63163,     0.63263,     0.63363,     0.63463,     0.63564,     0.63664,     0.63764,     0.63864,     0.63964,     0.64064,     0.64164,     0.64264,     0.64364,     0.64464,     0.64565,     0.64665,     0.64765,\n",
              "           0.64865,     0.64965,     0.65065,     0.65165,     0.65265,     0.65365,     0.65465,     0.65566,     0.65666,     0.65766,     0.65866,     0.65966,     0.66066,     0.66166,     0.66266,     0.66366,     0.66466,     0.66567,     0.66667,     0.66767,     0.66867,     0.66967,     0.67067,     0.67167,\n",
              "           0.67267,     0.67367,     0.67467,     0.67568,     0.67668,     0.67768,     0.67868,     0.67968,     0.68068,     0.68168,     0.68268,     0.68368,     0.68468,     0.68569,     0.68669,     0.68769,     0.68869,     0.68969,     0.69069,     0.69169,     0.69269,     0.69369,     0.69469,      0.6957,\n",
              "            0.6967,      0.6977,      0.6987,      0.6997,      0.7007,      0.7017,      0.7027,      0.7037,      0.7047,     0.70571,     0.70671,     0.70771,     0.70871,     0.70971,     0.71071,     0.71171,     0.71271,     0.71371,     0.71471,     0.71572,     0.71672,     0.71772,     0.71872,     0.71972,\n",
              "           0.72072,     0.72172,     0.72272,     0.72372,     0.72472,     0.72573,     0.72673,     0.72773,     0.72873,     0.72973,     0.73073,     0.73173,     0.73273,     0.73373,     0.73473,     0.73574,     0.73674,     0.73774,     0.73874,     0.73974,     0.74074,     0.74174,     0.74274,     0.74374,\n",
              "           0.74474,     0.74575,     0.74675,     0.74775,     0.74875,     0.74975,     0.75075,     0.75175,     0.75275,     0.75375,     0.75475,     0.75576,     0.75676,     0.75776,     0.75876,     0.75976,     0.76076,     0.76176,     0.76276,     0.76376,     0.76476,     0.76577,     0.76677,     0.76777,\n",
              "           0.76877,     0.76977,     0.77077,     0.77177,     0.77277,     0.77377,     0.77477,     0.77578,     0.77678,     0.77778,     0.77878,     0.77978,     0.78078,     0.78178,     0.78278,     0.78378,     0.78478,     0.78579,     0.78679,     0.78779,     0.78879,     0.78979,     0.79079,     0.79179,\n",
              "           0.79279,     0.79379,     0.79479,      0.7958,      0.7968,      0.7978,      0.7988,      0.7998,      0.8008,      0.8018,      0.8028,      0.8038,      0.8048,     0.80581,     0.80681,     0.80781,     0.80881,     0.80981,     0.81081,     0.81181,     0.81281,     0.81381,     0.81481,     0.81582,\n",
              "           0.81682,     0.81782,     0.81882,     0.81982,     0.82082,     0.82182,     0.82282,     0.82382,     0.82482,     0.82583,     0.82683,     0.82783,     0.82883,     0.82983,     0.83083,     0.83183,     0.83283,     0.83383,     0.83483,     0.83584,     0.83684,     0.83784,     0.83884,     0.83984,\n",
              "           0.84084,     0.84184,     0.84284,     0.84384,     0.84484,     0.84585,     0.84685,     0.84785,     0.84885,     0.84985,     0.85085,     0.85185,     0.85285,     0.85385,     0.85485,     0.85586,     0.85686,     0.85786,     0.85886,     0.85986,     0.86086,     0.86186,     0.86286,     0.86386,\n",
              "           0.86486,     0.86587,     0.86687,     0.86787,     0.86887,     0.86987,     0.87087,     0.87187,     0.87287,     0.87387,     0.87487,     0.87588,     0.87688,     0.87788,     0.87888,     0.87988,     0.88088,     0.88188,     0.88288,     0.88388,     0.88488,     0.88589,     0.88689,     0.88789,\n",
              "           0.88889,     0.88989,     0.89089,     0.89189,     0.89289,     0.89389,     0.89489,      0.8959,      0.8969,      0.8979,      0.8989,      0.8999,      0.9009,      0.9019,      0.9029,      0.9039,      0.9049,     0.90591,     0.90691,     0.90791,     0.90891,     0.90991,     0.91091,     0.91191,\n",
              "           0.91291,     0.91391,     0.91491,     0.91592,     0.91692,     0.91792,     0.91892,     0.91992,     0.92092,     0.92192,     0.92292,     0.92392,     0.92492,     0.92593,     0.92693,     0.92793,     0.92893,     0.92993,     0.93093,     0.93193,     0.93293,     0.93393,     0.93493,     0.93594,\n",
              "           0.93694,     0.93794,     0.93894,     0.93994,     0.94094,     0.94194,     0.94294,     0.94394,     0.94494,     0.94595,     0.94695,     0.94795,     0.94895,     0.94995,     0.95095,     0.95195,     0.95295,     0.95395,     0.95495,     0.95596,     0.95696,     0.95796,     0.95896,     0.95996,\n",
              "           0.96096,     0.96196,     0.96296,     0.96396,     0.96496,     0.96597,     0.96697,     0.96797,     0.96897,     0.96997,     0.97097,     0.97197,     0.97297,     0.97397,     0.97497,     0.97598,     0.97698,     0.97798,     0.97898,     0.97998,     0.98098,     0.98198,     0.98298,     0.98398,\n",
              "           0.98498,     0.98599,     0.98699,     0.98799,     0.98899,     0.98999,     0.99099,     0.99199,     0.99299,     0.99399,     0.99499,       0.996,       0.997,       0.998,       0.999,           1]), array([[    0.17784,     0.17784,      0.2143,     0.24089,     0.26369,     0.28305,     0.30025,     0.31485,     0.32873,     0.34071,     0.35272,     0.36313,     0.37298,      0.3816,     0.39078,     0.39863,     0.40627,     0.41399,     0.42104,     0.42815,     0.43482,     0.44087,     0.44682,\n",
              "            0.45248,     0.45793,     0.46353,     0.46949,      0.4746,     0.47961,     0.48436,     0.48964,     0.49449,     0.49872,     0.50386,     0.50802,     0.51187,     0.51617,     0.51998,     0.52444,     0.52815,     0.53195,     0.53557,     0.53947,      0.5432,     0.54635,     0.54984,\n",
              "            0.55333,     0.55633,     0.55954,     0.56292,     0.56578,     0.56851,     0.57191,     0.57475,     0.57742,     0.58015,     0.58297,     0.58535,     0.58821,     0.59077,     0.59314,     0.59545,     0.59784,     0.60001,     0.60226,     0.60488,     0.60685,     0.60895,     0.61119,\n",
              "            0.61347,     0.61534,     0.61772,     0.61932,     0.62134,     0.62327,     0.62542,     0.62745,     0.62954,     0.63183,     0.63345,     0.63517,     0.63695,      0.6383,     0.63987,     0.64158,     0.64344,     0.64483,      0.6464,     0.64789,     0.64941,     0.65083,     0.65215,\n",
              "            0.65354,     0.65467,     0.65617,     0.65758,     0.65863,      0.6599,     0.66079,     0.66175,     0.66283,     0.66436,     0.66568,     0.66666,     0.66753,     0.66869,     0.66995,      0.6714,     0.67242,     0.67378,     0.67491,     0.67532,     0.67637,     0.67699,     0.67803,\n",
              "            0.67907,     0.68036,     0.68112,     0.68236,     0.68264,     0.68357,     0.68435,     0.68521,     0.68604,     0.68664,     0.68791,      0.6885,     0.68929,     0.69016,     0.69057,     0.69118,     0.69171,     0.69282,     0.69378,     0.69453,     0.69539,     0.69642,     0.69689,\n",
              "            0.69746,     0.69811,     0.69863,     0.69916,     0.69965,     0.69993,     0.70048,     0.70094,      0.7014,     0.70172,     0.70226,     0.70283,     0.70355,     0.70406,     0.70456,     0.70501,     0.70558,     0.70622,     0.70652,     0.70699,     0.70753,     0.70816,      0.7085,\n",
              "            0.70901,     0.70966,     0.71024,     0.71077,     0.71138,     0.71189,     0.71222,      0.7126,     0.71306,     0.71341,     0.71394,     0.71435,     0.71441,     0.71481,     0.71522,     0.71559,     0.71563,     0.71638,     0.71685,     0.71735,     0.71743,     0.71782,     0.71827,\n",
              "            0.71843,     0.71867,     0.71902,     0.71926,      0.7195,     0.71983,     0.72005,     0.72036,     0.72096,     0.72118,     0.72134,      0.7215,     0.72178,     0.72204,     0.72246,     0.72254,     0.72271,     0.72305,     0.72315,     0.72357,     0.72381,     0.72381,     0.72408,\n",
              "            0.72431,     0.72415,     0.72418,     0.72456,     0.72486,     0.72533,     0.72542,     0.72555,     0.72554,     0.72583,       0.726,     0.72641,      0.7266,     0.72686,      0.7271,     0.72748,     0.72768,     0.72821,      0.7283,      0.7284,      0.7286,     0.72918,     0.72933,\n",
              "            0.72948,     0.72969,     0.72971,     0.72994,     0.72997,     0.73032,      0.7304,     0.73061,     0.73048,     0.73037,     0.73038,     0.73044,     0.73073,      0.7309,     0.73093,     0.73117,     0.73137,     0.73148,     0.73186,     0.73196,     0.73232,     0.73238,     0.73248,\n",
              "            0.73269,     0.73279,     0.73285,     0.73295,     0.73314,      0.7333,     0.73346,     0.73341,     0.73355,     0.73365,     0.73372,     0.73371,     0.73406,     0.73402,     0.73404,      0.7344,     0.73453,     0.73436,     0.73448,     0.73456,     0.73438,     0.73439,     0.73417,\n",
              "            0.73406,     0.73421,     0.73428,     0.73451,     0.73449,     0.73433,     0.73472,     0.73443,     0.73426,      0.7343,      0.7342,     0.73427,     0.73433,     0.73441,     0.73436,     0.73426,     0.73414,     0.73403,     0.73387,     0.73382,     0.73367,     0.73356,     0.73382,\n",
              "            0.73416,     0.73391,     0.73385,     0.73364,     0.73373,     0.73349,      0.7332,     0.73325,     0.73324,     0.73319,     0.73317,     0.73303,     0.73295,     0.73273,     0.73277,     0.73272,     0.73274,     0.73261,     0.73245,     0.73245,     0.73271,     0.73274,     0.73266,\n",
              "            0.73264,      0.7327,      0.7323,     0.73222,     0.73201,      0.7322,     0.73221,     0.73193,     0.73171,     0.73161,     0.73144,     0.73139,     0.73144,     0.73112,     0.73098,     0.73061,     0.73041,     0.73035,     0.73043,     0.73015,     0.73016,     0.73029,     0.73031,\n",
              "            0.73021,     0.73032,     0.73028,      0.7303,     0.73029,     0.73016,     0.73021,     0.73028,     0.73026,     0.73028,     0.73016,     0.72998,     0.72982,     0.72961,     0.72942,     0.72934,     0.72927,      0.7291,     0.72904,     0.72896,     0.72899,     0.72901,     0.72913,\n",
              "              0.729,     0.72883,     0.72876,     0.72879,     0.72878,     0.72878,     0.72859,     0.72865,     0.72841,     0.72836,     0.72825,     0.72825,     0.72784,     0.72772,     0.72746,     0.72734,     0.72723,     0.72705,     0.72686,     0.72643,     0.72608,     0.72601,     0.72577,\n",
              "            0.72558,      0.7254,     0.72519,     0.72522,     0.72492,     0.72469,     0.72428,     0.72403,     0.72388,     0.72358,     0.72313,      0.7229,     0.72291,     0.72246,      0.7222,     0.72178,     0.72136,      0.7213,     0.72141,     0.72131,     0.72132,     0.72112,     0.72077,\n",
              "            0.72054,     0.72049,     0.72042,     0.72021,     0.72002,      0.7199,     0.71966,     0.71945,     0.71922,     0.71871,     0.71809,     0.71795,     0.71747,     0.71723,     0.71685,     0.71668,     0.71655,     0.71639,     0.71641,     0.71639,     0.71631,     0.71601,     0.71597,\n",
              "            0.71573,     0.71545,     0.71506,     0.71456,      0.7142,     0.71395,      0.7138,     0.71377,     0.71322,     0.71303,      0.7125,     0.71227,       0.712,     0.71172,     0.71124,     0.71115,     0.71069,     0.71026,     0.70963,     0.70956,     0.70929,     0.70893,     0.70883,\n",
              "            0.70856,     0.70827,     0.70787,     0.70752,     0.70729,     0.70686,     0.70671,     0.70636,      0.7061,     0.70575,     0.70543,     0.70518,     0.70476,     0.70468,     0.70413,      0.7034,     0.70319,     0.70283,     0.70261,     0.70206,      0.7016,     0.70115,     0.70072,\n",
              "            0.70045,     0.70035,     0.69992,     0.69953,     0.69928,     0.69885,     0.69845,     0.69804,     0.69745,     0.69717,     0.69641,     0.69587,     0.69552,     0.69511,     0.69471,     0.69427,     0.69382,     0.69353,     0.69294,     0.69247,     0.69219,     0.69201,     0.69157,\n",
              "            0.69111,      0.6906,     0.69025,     0.68997,      0.6897,     0.68921,     0.68864,     0.68831,     0.68804,     0.68715,      0.6867,     0.68632,     0.68581,     0.68536,     0.68441,     0.68375,     0.68315,     0.68286,     0.68241,     0.68193,     0.68127,     0.68085,     0.68025,\n",
              "            0.67992,     0.67956,     0.67895,     0.67847,     0.67781,     0.67759,     0.67735,     0.67719,     0.67665,     0.67642,     0.67558,     0.67518,     0.67443,     0.67394,      0.6734,     0.67278,     0.67251,     0.67185,     0.67118,     0.67059,     0.66977,     0.66922,     0.66835,\n",
              "             0.6675,      0.6671,     0.66638,     0.66539,     0.66493,     0.66367,     0.66293,      0.6626,     0.66201,     0.66153,     0.66085,     0.66024,      0.6594,     0.65879,     0.65821,     0.65754,     0.65703,     0.65633,     0.65582,     0.65517,      0.6545,     0.65388,     0.65331,\n",
              "            0.65192,     0.65144,     0.65089,     0.65005,      0.6494,     0.64814,     0.64756,     0.64666,     0.64564,     0.64489,     0.64438,     0.64348,      0.6427,     0.64191,     0.64112,      0.6404,     0.63975,     0.63874,      0.6382,      0.6376,     0.63672,     0.63482,     0.63386,\n",
              "            0.63322,     0.63237,     0.63152,     0.63088,     0.63041,     0.62978,      0.6293,     0.62804,     0.62748,     0.62569,     0.62515,     0.62446,     0.62377,      0.6232,     0.62236,     0.62143,      0.6205,     0.61996,     0.61923,     0.61815,     0.61758,     0.61663,     0.61465,\n",
              "            0.61369,     0.61252,     0.61178,     0.61092,     0.60953,     0.60899,     0.60836,      0.6079,     0.60691,     0.60626,     0.60524,     0.60324,     0.60242,     0.60178,     0.60094,     0.59998,     0.59921,     0.59808,     0.59732,     0.59535,     0.59449,     0.59342,     0.59265,\n",
              "            0.59169,     0.59054,     0.58952,     0.58847,     0.58761,     0.58544,     0.58405,     0.58291,      0.5811,     0.58043,     0.57951,     0.57886,     0.57724,     0.57605,     0.57329,     0.57248,     0.57152,     0.57017,     0.56772,     0.56666,     0.56553,     0.56468,     0.56333,\n",
              "            0.56252,      0.5619,     0.56073,     0.55807,     0.55691,     0.55586,      0.5549,     0.55372,     0.55281,     0.55159,     0.54894,     0.54791,     0.54658,     0.54432,     0.54355,     0.54242,     0.54125,     0.53984,     0.53873,     0.53748,       0.535,     0.53401,      0.5328,\n",
              "            0.53164,     0.52991,     0.52838,     0.52528,     0.52417,     0.52281,     0.52168,     0.52025,      0.5182,     0.51733,     0.51506,     0.51365,       0.513,     0.51182,     0.51113,     0.50851,     0.50744,     0.50671,     0.50569,     0.50456,     0.50248,     0.50092,     0.49967,\n",
              "            0.49862,     0.49747,     0.49455,     0.49355,     0.49218,     0.49108,     0.48871,     0.48797,     0.48514,     0.48386,     0.48214,     0.48076,     0.47831,     0.47746,     0.47635,     0.47417,     0.47264,     0.47122,     0.47016,     0.46784,     0.46672,     0.46555,     0.46457,\n",
              "            0.46231,      0.4615,     0.46014,      0.4569,      0.4545,     0.45253,      0.4511,     0.44934,     0.44722,     0.44603,     0.44447,     0.44115,     0.43945,     0.43798,     0.43518,     0.43396,     0.43237,     0.43016,      0.4287,     0.42721,     0.42365,     0.42219,     0.41986,\n",
              "            0.41887,     0.41685,     0.41575,     0.41336,     0.41204,     0.40931,       0.408,      0.4061,     0.40397,     0.40264,     0.39921,     0.39775,     0.39623,     0.39358,     0.39195,     0.38911,     0.38772,      0.3861,      0.3833,     0.38154,     0.37818,     0.37527,     0.37386,\n",
              "            0.37067,     0.36909,     0.36523,     0.36366,     0.36106,     0.35931,     0.35565,     0.35279,     0.34949,      0.3487,     0.34563,     0.34265,     0.33938,     0.33912,     0.33603,     0.33226,      0.3286,     0.32458,     0.32101,     0.31745,     0.31678,     0.31253,     0.30971,\n",
              "            0.30546,     0.30203,     0.30147,     0.29787,     0.29406,     0.28983,      0.2859,     0.28545,     0.28127,     0.27754,     0.27431,      0.2707,     0.26729,     0.26677,     0.26311,     0.25721,     0.25706,      0.2537,     0.25048,     0.24761,     0.24323,     0.23997,     0.23685,\n",
              "            0.23647,     0.23298,      0.2297,     0.22618,     0.22313,     0.22014,     0.21589,     0.21263,     0.21009,     0.20711,     0.20678,     0.20368,      0.1976,     0.19387,     0.19011,     0.18722,     0.18428,     0.18097,     0.18026,     0.17731,     0.17363,     0.17076,     0.16695,\n",
              "             0.1645,     0.16181,     0.15934,      0.1567,     0.15374,     0.15028,     0.14763,     0.14506,     0.14311,     0.13717,     0.13448,     0.13251,      0.1298,      0.1275,     0.12536,     0.12237,     0.12054,     0.11687,      0.1147,     0.11201,     0.11008,     0.10714,     0.10469,\n",
              "            0.10309,     0.10131,    0.097406,    0.095358,    0.093558,    0.091669,    0.088491,    0.086678,    0.084566,    0.082955,    0.079747,    0.078266,    0.075823,    0.073899,    0.070521,    0.069164,    0.067141,    0.064761,    0.062902,    0.061662,    0.060775,    0.058643,    0.056861,\n",
              "           0.054452,    0.053288,    0.051407,    0.049344,    0.047455,    0.046282,    0.044388,    0.043392,    0.041944,    0.041216,    0.040398,    0.039217,    0.037672,     0.03658,    0.035485,    0.034481,    0.033931,    0.033186,    0.031734,    0.030672,    0.030172,    0.028614,    0.027372,\n",
              "           0.026037,    0.025023,    0.023639,    0.023266,    0.022156,    0.021598,    0.020025,    0.019189,    0.018167,    0.018046,     0.01751,    0.016671,    0.016203,    0.015735,    0.015266,     0.01489,    0.014514,    0.014133,    0.013855,    0.013292,    0.012641,     0.01226,    0.011418,\n",
              "           0.011189,    0.010476,    0.010272,   0.0097421,   0.0096783,   0.0089852,   0.0088662,   0.0082798,    0.006987,   0.0067951,   0.0057603,   0.0052871,   0.0049073,   0.0044336,   0.0039597,   0.0031099,   0.0028233,   0.0023486,   0.0019724,    0.001869,   0.0016762,   0.0013068,    0.001008,\n",
              "         0.00083138,  0.00073486,   0.0003628,  0.00029842,           0,           0,           0,           0,           0,           0,           0,           0,           0,           0,           0,           0,           0,           0,           0,           0,           0,           0,           0,\n",
              "                  0,           0,           0,           0,           0,           0,           0,           0,           0,           0,           0]]), 'Confidence', 'F1'], [array([          0,    0.001001,    0.002002,    0.003003,    0.004004,    0.005005,    0.006006,    0.007007,    0.008008,    0.009009,     0.01001,    0.011011,    0.012012,    0.013013,    0.014014,    0.015015,    0.016016,    0.017017,    0.018018,    0.019019,     0.02002,    0.021021,    0.022022,    0.023023,\n",
              "          0.024024,    0.025025,    0.026026,    0.027027,    0.028028,    0.029029,     0.03003,    0.031031,    0.032032,    0.033033,    0.034034,    0.035035,    0.036036,    0.037037,    0.038038,    0.039039,     0.04004,    0.041041,    0.042042,    0.043043,    0.044044,    0.045045,    0.046046,    0.047047,\n",
              "          0.048048,    0.049049,     0.05005,    0.051051,    0.052052,    0.053053,    0.054054,    0.055055,    0.056056,    0.057057,    0.058058,    0.059059,     0.06006,    0.061061,    0.062062,    0.063063,    0.064064,    0.065065,    0.066066,    0.067067,    0.068068,    0.069069,     0.07007,    0.071071,\n",
              "          0.072072,    0.073073,    0.074074,    0.075075,    0.076076,    0.077077,    0.078078,    0.079079,     0.08008,    0.081081,    0.082082,    0.083083,    0.084084,    0.085085,    0.086086,    0.087087,    0.088088,    0.089089,     0.09009,    0.091091,    0.092092,    0.093093,    0.094094,    0.095095,\n",
              "          0.096096,    0.097097,    0.098098,    0.099099,      0.1001,      0.1011,      0.1021,      0.1031,      0.1041,     0.10511,     0.10611,     0.10711,     0.10811,     0.10911,     0.11011,     0.11111,     0.11211,     0.11311,     0.11411,     0.11512,     0.11612,     0.11712,     0.11812,     0.11912,\n",
              "           0.12012,     0.12112,     0.12212,     0.12312,     0.12412,     0.12513,     0.12613,     0.12713,     0.12813,     0.12913,     0.13013,     0.13113,     0.13213,     0.13313,     0.13413,     0.13514,     0.13614,     0.13714,     0.13814,     0.13914,     0.14014,     0.14114,     0.14214,     0.14314,\n",
              "           0.14414,     0.14515,     0.14615,     0.14715,     0.14815,     0.14915,     0.15015,     0.15115,     0.15215,     0.15315,     0.15415,     0.15516,     0.15616,     0.15716,     0.15816,     0.15916,     0.16016,     0.16116,     0.16216,     0.16316,     0.16416,     0.16517,     0.16617,     0.16717,\n",
              "           0.16817,     0.16917,     0.17017,     0.17117,     0.17217,     0.17317,     0.17417,     0.17518,     0.17618,     0.17718,     0.17818,     0.17918,     0.18018,     0.18118,     0.18218,     0.18318,     0.18418,     0.18519,     0.18619,     0.18719,     0.18819,     0.18919,     0.19019,     0.19119,\n",
              "           0.19219,     0.19319,     0.19419,      0.1952,      0.1962,      0.1972,      0.1982,      0.1992,      0.2002,      0.2012,      0.2022,      0.2032,      0.2042,     0.20521,     0.20621,     0.20721,     0.20821,     0.20921,     0.21021,     0.21121,     0.21221,     0.21321,     0.21421,     0.21522,\n",
              "           0.21622,     0.21722,     0.21822,     0.21922,     0.22022,     0.22122,     0.22222,     0.22322,     0.22422,     0.22523,     0.22623,     0.22723,     0.22823,     0.22923,     0.23023,     0.23123,     0.23223,     0.23323,     0.23423,     0.23524,     0.23624,     0.23724,     0.23824,     0.23924,\n",
              "           0.24024,     0.24124,     0.24224,     0.24324,     0.24424,     0.24525,     0.24625,     0.24725,     0.24825,     0.24925,     0.25025,     0.25125,     0.25225,     0.25325,     0.25425,     0.25526,     0.25626,     0.25726,     0.25826,     0.25926,     0.26026,     0.26126,     0.26226,     0.26326,\n",
              "           0.26426,     0.26527,     0.26627,     0.26727,     0.26827,     0.26927,     0.27027,     0.27127,     0.27227,     0.27327,     0.27427,     0.27528,     0.27628,     0.27728,     0.27828,     0.27928,     0.28028,     0.28128,     0.28228,     0.28328,     0.28428,     0.28529,     0.28629,     0.28729,\n",
              "           0.28829,     0.28929,     0.29029,     0.29129,     0.29229,     0.29329,     0.29429,      0.2953,      0.2963,      0.2973,      0.2983,      0.2993,      0.3003,      0.3013,      0.3023,      0.3033,      0.3043,     0.30531,     0.30631,     0.30731,     0.30831,     0.30931,     0.31031,     0.31131,\n",
              "           0.31231,     0.31331,     0.31431,     0.31532,     0.31632,     0.31732,     0.31832,     0.31932,     0.32032,     0.32132,     0.32232,     0.32332,     0.32432,     0.32533,     0.32633,     0.32733,     0.32833,     0.32933,     0.33033,     0.33133,     0.33233,     0.33333,     0.33433,     0.33534,\n",
              "           0.33634,     0.33734,     0.33834,     0.33934,     0.34034,     0.34134,     0.34234,     0.34334,     0.34434,     0.34535,     0.34635,     0.34735,     0.34835,     0.34935,     0.35035,     0.35135,     0.35235,     0.35335,     0.35435,     0.35536,     0.35636,     0.35736,     0.35836,     0.35936,\n",
              "           0.36036,     0.36136,     0.36236,     0.36336,     0.36436,     0.36537,     0.36637,     0.36737,     0.36837,     0.36937,     0.37037,     0.37137,     0.37237,     0.37337,     0.37437,     0.37538,     0.37638,     0.37738,     0.37838,     0.37938,     0.38038,     0.38138,     0.38238,     0.38338,\n",
              "           0.38438,     0.38539,     0.38639,     0.38739,     0.38839,     0.38939,     0.39039,     0.39139,     0.39239,     0.39339,     0.39439,      0.3954,      0.3964,      0.3974,      0.3984,      0.3994,      0.4004,      0.4014,      0.4024,      0.4034,      0.4044,     0.40541,     0.40641,     0.40741,\n",
              "           0.40841,     0.40941,     0.41041,     0.41141,     0.41241,     0.41341,     0.41441,     0.41542,     0.41642,     0.41742,     0.41842,     0.41942,     0.42042,     0.42142,     0.42242,     0.42342,     0.42442,     0.42543,     0.42643,     0.42743,     0.42843,     0.42943,     0.43043,     0.43143,\n",
              "           0.43243,     0.43343,     0.43443,     0.43544,     0.43644,     0.43744,     0.43844,     0.43944,     0.44044,     0.44144,     0.44244,     0.44344,     0.44444,     0.44545,     0.44645,     0.44745,     0.44845,     0.44945,     0.45045,     0.45145,     0.45245,     0.45345,     0.45445,     0.45546,\n",
              "           0.45646,     0.45746,     0.45846,     0.45946,     0.46046,     0.46146,     0.46246,     0.46346,     0.46446,     0.46547,     0.46647,     0.46747,     0.46847,     0.46947,     0.47047,     0.47147,     0.47247,     0.47347,     0.47447,     0.47548,     0.47648,     0.47748,     0.47848,     0.47948,\n",
              "           0.48048,     0.48148,     0.48248,     0.48348,     0.48448,     0.48549,     0.48649,     0.48749,     0.48849,     0.48949,     0.49049,     0.49149,     0.49249,     0.49349,     0.49449,      0.4955,      0.4965,      0.4975,      0.4985,      0.4995,      0.5005,      0.5015,      0.5025,      0.5035,\n",
              "            0.5045,     0.50551,     0.50651,     0.50751,     0.50851,     0.50951,     0.51051,     0.51151,     0.51251,     0.51351,     0.51451,     0.51552,     0.51652,     0.51752,     0.51852,     0.51952,     0.52052,     0.52152,     0.52252,     0.52352,     0.52452,     0.52553,     0.52653,     0.52753,\n",
              "           0.52853,     0.52953,     0.53053,     0.53153,     0.53253,     0.53353,     0.53453,     0.53554,     0.53654,     0.53754,     0.53854,     0.53954,     0.54054,     0.54154,     0.54254,     0.54354,     0.54454,     0.54555,     0.54655,     0.54755,     0.54855,     0.54955,     0.55055,     0.55155,\n",
              "           0.55255,     0.55355,     0.55455,     0.55556,     0.55656,     0.55756,     0.55856,     0.55956,     0.56056,     0.56156,     0.56256,     0.56356,     0.56456,     0.56557,     0.56657,     0.56757,     0.56857,     0.56957,     0.57057,     0.57157,     0.57257,     0.57357,     0.57457,     0.57558,\n",
              "           0.57658,     0.57758,     0.57858,     0.57958,     0.58058,     0.58158,     0.58258,     0.58358,     0.58458,     0.58559,     0.58659,     0.58759,     0.58859,     0.58959,     0.59059,     0.59159,     0.59259,     0.59359,     0.59459,      0.5956,      0.5966,      0.5976,      0.5986,      0.5996,\n",
              "            0.6006,      0.6016,      0.6026,      0.6036,      0.6046,     0.60561,     0.60661,     0.60761,     0.60861,     0.60961,     0.61061,     0.61161,     0.61261,     0.61361,     0.61461,     0.61562,     0.61662,     0.61762,     0.61862,     0.61962,     0.62062,     0.62162,     0.62262,     0.62362,\n",
              "           0.62462,     0.62563,     0.62663,     0.62763,     0.62863,     0.62963,     0.63063,     0.63163,     0.63263,     0.63363,     0.63463,     0.63564,     0.63664,     0.63764,     0.63864,     0.63964,     0.64064,     0.64164,     0.64264,     0.64364,     0.64464,     0.64565,     0.64665,     0.64765,\n",
              "           0.64865,     0.64965,     0.65065,     0.65165,     0.65265,     0.65365,     0.65465,     0.65566,     0.65666,     0.65766,     0.65866,     0.65966,     0.66066,     0.66166,     0.66266,     0.66366,     0.66466,     0.66567,     0.66667,     0.66767,     0.66867,     0.66967,     0.67067,     0.67167,\n",
              "           0.67267,     0.67367,     0.67467,     0.67568,     0.67668,     0.67768,     0.67868,     0.67968,     0.68068,     0.68168,     0.68268,     0.68368,     0.68468,     0.68569,     0.68669,     0.68769,     0.68869,     0.68969,     0.69069,     0.69169,     0.69269,     0.69369,     0.69469,      0.6957,\n",
              "            0.6967,      0.6977,      0.6987,      0.6997,      0.7007,      0.7017,      0.7027,      0.7037,      0.7047,     0.70571,     0.70671,     0.70771,     0.70871,     0.70971,     0.71071,     0.71171,     0.71271,     0.71371,     0.71471,     0.71572,     0.71672,     0.71772,     0.71872,     0.71972,\n",
              "           0.72072,     0.72172,     0.72272,     0.72372,     0.72472,     0.72573,     0.72673,     0.72773,     0.72873,     0.72973,     0.73073,     0.73173,     0.73273,     0.73373,     0.73473,     0.73574,     0.73674,     0.73774,     0.73874,     0.73974,     0.74074,     0.74174,     0.74274,     0.74374,\n",
              "           0.74474,     0.74575,     0.74675,     0.74775,     0.74875,     0.74975,     0.75075,     0.75175,     0.75275,     0.75375,     0.75475,     0.75576,     0.75676,     0.75776,     0.75876,     0.75976,     0.76076,     0.76176,     0.76276,     0.76376,     0.76476,     0.76577,     0.76677,     0.76777,\n",
              "           0.76877,     0.76977,     0.77077,     0.77177,     0.77277,     0.77377,     0.77477,     0.77578,     0.77678,     0.77778,     0.77878,     0.77978,     0.78078,     0.78178,     0.78278,     0.78378,     0.78478,     0.78579,     0.78679,     0.78779,     0.78879,     0.78979,     0.79079,     0.79179,\n",
              "           0.79279,     0.79379,     0.79479,      0.7958,      0.7968,      0.7978,      0.7988,      0.7998,      0.8008,      0.8018,      0.8028,      0.8038,      0.8048,     0.80581,     0.80681,     0.80781,     0.80881,     0.80981,     0.81081,     0.81181,     0.81281,     0.81381,     0.81481,     0.81582,\n",
              "           0.81682,     0.81782,     0.81882,     0.81982,     0.82082,     0.82182,     0.82282,     0.82382,     0.82482,     0.82583,     0.82683,     0.82783,     0.82883,     0.82983,     0.83083,     0.83183,     0.83283,     0.83383,     0.83483,     0.83584,     0.83684,     0.83784,     0.83884,     0.83984,\n",
              "           0.84084,     0.84184,     0.84284,     0.84384,     0.84484,     0.84585,     0.84685,     0.84785,     0.84885,     0.84985,     0.85085,     0.85185,     0.85285,     0.85385,     0.85485,     0.85586,     0.85686,     0.85786,     0.85886,     0.85986,     0.86086,     0.86186,     0.86286,     0.86386,\n",
              "           0.86486,     0.86587,     0.86687,     0.86787,     0.86887,     0.86987,     0.87087,     0.87187,     0.87287,     0.87387,     0.87487,     0.87588,     0.87688,     0.87788,     0.87888,     0.87988,     0.88088,     0.88188,     0.88288,     0.88388,     0.88488,     0.88589,     0.88689,     0.88789,\n",
              "           0.88889,     0.88989,     0.89089,     0.89189,     0.89289,     0.89389,     0.89489,      0.8959,      0.8969,      0.8979,      0.8989,      0.8999,      0.9009,      0.9019,      0.9029,      0.9039,      0.9049,     0.90591,     0.90691,     0.90791,     0.90891,     0.90991,     0.91091,     0.91191,\n",
              "           0.91291,     0.91391,     0.91491,     0.91592,     0.91692,     0.91792,     0.91892,     0.91992,     0.92092,     0.92192,     0.92292,     0.92392,     0.92492,     0.92593,     0.92693,     0.92793,     0.92893,     0.92993,     0.93093,     0.93193,     0.93293,     0.93393,     0.93493,     0.93594,\n",
              "           0.93694,     0.93794,     0.93894,     0.93994,     0.94094,     0.94194,     0.94294,     0.94394,     0.94494,     0.94595,     0.94695,     0.94795,     0.94895,     0.94995,     0.95095,     0.95195,     0.95295,     0.95395,     0.95495,     0.95596,     0.95696,     0.95796,     0.95896,     0.95996,\n",
              "           0.96096,     0.96196,     0.96296,     0.96396,     0.96496,     0.96597,     0.96697,     0.96797,     0.96897,     0.96997,     0.97097,     0.97197,     0.97297,     0.97397,     0.97497,     0.97598,     0.97698,     0.97798,     0.97898,     0.97998,     0.98098,     0.98198,     0.98298,     0.98398,\n",
              "           0.98498,     0.98599,     0.98699,     0.98799,     0.98899,     0.98999,     0.99099,     0.99199,     0.99299,     0.99399,     0.99499,       0.996,       0.997,       0.998,       0.999,           1]), array([[   0.098267,    0.098267,     0.12105,     0.13834,     0.15364,     0.16701,     0.17917,     0.18975,     0.19999,     0.20901,     0.21819,     0.22628,     0.23406,     0.24101,     0.24849,     0.25496,     0.26135,     0.26787,     0.27391,     0.28006,     0.28588,     0.29125,      0.2966,\n",
              "             0.3017,     0.30669,     0.31182,     0.31735,     0.32218,     0.32694,     0.33146,     0.33654,     0.34128,     0.34548,     0.35059,     0.35479,     0.35875,     0.36314,      0.3671,     0.37175,     0.37562,     0.37959,     0.38339,     0.38755,     0.39163,     0.39505,     0.39891,\n",
              "            0.40275,     0.40607,     0.40975,     0.41348,     0.41681,     0.41997,     0.42383,     0.42715,     0.43027,     0.43345,      0.4368,     0.43975,     0.44322,     0.44633,     0.44926,     0.45208,       0.455,     0.45778,     0.46059,     0.46385,     0.46633,     0.46904,     0.47201,\n",
              "            0.47491,     0.47739,     0.48045,     0.48247,     0.48512,     0.48772,     0.49058,     0.49316,     0.49597,     0.49905,     0.50121,     0.50364,     0.50608,     0.50791,     0.51018,     0.51252,     0.51513,     0.51709,     0.51933,      0.5215,     0.52364,     0.52586,     0.52791,\n",
              "            0.53001,     0.53177,      0.5339,     0.53594,     0.53768,      0.5396,     0.54124,     0.54273,     0.54461,     0.54697,     0.54907,     0.55075,     0.55204,     0.55391,      0.5558,     0.55812,     0.55967,     0.56168,     0.56351,     0.56451,      0.5664,     0.56749,     0.56928,\n",
              "            0.57107,      0.5731,     0.57434,     0.57643,     0.57734,     0.57907,     0.58037,     0.58177,     0.58336,     0.58442,     0.58661,     0.58763,     0.58899,     0.59063,     0.59161,     0.59282,     0.59396,     0.59602,     0.59768,      0.5991,     0.60055,     0.60242,     0.60352,\n",
              "             0.6046,     0.60591,      0.6071,     0.60824,     0.60936,     0.61034,     0.61139,     0.61272,     0.61375,     0.61469,     0.61575,     0.61701,     0.61852,     0.61956,     0.62069,     0.62168,      0.6228,     0.62422,     0.62508,     0.62622,     0.62708,     0.62837,     0.62919,\n",
              "            0.63034,     0.63177,     0.63294,     0.63417,     0.63552,     0.63666,      0.6373,     0.63827,     0.63933,     0.64034,     0.64158,      0.6427,     0.64316,     0.64414,     0.64516,     0.64617,     0.64655,     0.64808,      0.6493,     0.65041,     0.65086,     0.65187,     0.65304,\n",
              "            0.65366,     0.65445,     0.65552,     0.65658,     0.65714,      0.6582,     0.65909,     0.65971,     0.66106,     0.66194,     0.66248,     0.66333,     0.66447,     0.66508,      0.6663,     0.66671,      0.6677,     0.66886,     0.66931,     0.67054,      0.6712,     0.67186,     0.67252,\n",
              "            0.67342,     0.67408,     0.67453,     0.67569,     0.67647,     0.67767,     0.67819,       0.679,     0.67937,     0.68041,     0.68086,     0.68205,     0.68261,     0.68351,     0.68411,     0.68534,     0.68583,     0.68721,     0.68754,     0.68838,     0.68915,     0.69068,      0.6911,\n",
              "            0.69201,     0.69272,     0.69318,     0.69399,     0.69442,     0.69563,       0.696,      0.6972,     0.69768,     0.69797,     0.69886,     0.69933,     0.70049,     0.70108,     0.70138,     0.70241,     0.70312,     0.70354,     0.70483,     0.70537,     0.70639,     0.70709,     0.70769,\n",
              "            0.70893,     0.70958,     0.71019,     0.71096,     0.71161,      0.7122,     0.71313,     0.71361,     0.71453,     0.71506,     0.71545,      0.7159,     0.71712,     0.71753,     0.71793,      0.7191,     0.71974,      0.7202,     0.72112,     0.72164,     0.72186,     0.72235,     0.72304,\n",
              "            0.72343,     0.72408,     0.72444,     0.72546,     0.72591,     0.72621,     0.72769,     0.72795,     0.72823,      0.7287,     0.72959,     0.73032,     0.73073,      0.7312,     0.73218,     0.73244,     0.73281,     0.73314,     0.73409,     0.73457,     0.73479,     0.73514,     0.73605,\n",
              "            0.73745,     0.73778,     0.73836,     0.73865,     0.73967,     0.73988,     0.74014,     0.74057,     0.74105,     0.74186,     0.74242,     0.74268,     0.74328,     0.74388,     0.74451,     0.74502,     0.74547,     0.74566,     0.74592,     0.74627,     0.74768,     0.74826,     0.74863,\n",
              "            0.74922,     0.74998,     0.75075,      0.7513,     0.75187,     0.75257,     0.75306,     0.75342,     0.75421,      0.7546,       0.755,     0.75546,      0.7561,     0.75623,     0.75651,     0.75712,     0.75754,     0.75816,     0.75883,     0.75913,     0.75948,     0.76071,     0.76135,\n",
              "             0.7617,     0.76233,     0.76257,     0.76323,     0.76382,     0.76483,     0.76557,     0.76618,     0.76644,     0.76694,     0.76733,     0.76784,      0.7682,     0.76836,     0.76892,     0.77009,     0.77053,     0.77097,      0.7714,     0.77196,     0.77261,     0.77329,     0.77396,\n",
              "            0.77439,     0.77484,     0.77581,     0.77627,     0.77682,     0.77732,     0.77789,      0.7785,     0.77896,     0.77951,     0.77993,     0.78042,     0.78108,     0.78144,     0.78195,      0.7824,     0.78305,     0.78354,     0.78407,     0.78432,     0.78452,     0.78511,     0.78604,\n",
              "            0.78638,     0.78697,     0.78752,     0.78816,     0.78853,     0.78905,     0.78956,     0.78988,      0.7903,     0.79062,     0.79106,     0.79146,     0.79215,     0.79241,     0.79281,     0.79319,     0.79415,      0.7949,     0.79584,     0.79665,     0.79729,     0.79771,     0.79807,\n",
              "            0.79845,      0.7989,     0.79973,     0.80038,     0.80078,     0.80131,     0.80174,     0.80219,     0.80275,     0.80331,      0.8035,     0.80385,     0.80418,     0.80446,     0.80479,     0.80547,     0.80603,     0.80673,     0.80735,     0.80805,     0.80882,     0.80939,     0.81002,\n",
              "            0.81053,     0.81073,     0.81118,     0.81132,     0.81154,     0.81179,     0.81234,     0.81296,     0.81339,     0.81414,     0.81461,      0.8151,     0.81548,     0.81666,     0.81689,     0.81752,     0.81768,     0.81821,     0.81854,     0.81923,     0.81983,     0.82025,      0.8208,\n",
              "            0.82139,     0.82161,     0.82185,     0.82235,     0.82305,     0.82346,     0.82395,     0.82435,     0.82473,     0.82527,     0.82568,     0.82619,     0.82657,     0.82763,     0.82773,     0.82788,     0.82851,     0.82916,     0.82984,     0.83015,     0.83144,     0.83159,     0.83189,\n",
              "            0.83219,     0.83245,     0.83275,     0.83317,      0.8341,     0.83441,     0.83489,     0.83529,     0.83532,     0.83557,     0.83578,     0.83613,     0.83655,     0.83732,     0.83752,     0.83827,     0.83874,     0.83928,     0.83948,     0.83975,     0.84031,     0.84092,     0.84152,\n",
              "             0.8419,     0.84196,     0.84288,     0.84372,     0.84438,      0.8446,     0.84496,     0.84528,     0.84578,     0.84579,     0.84613,     0.84661,      0.8472,     0.84766,     0.84814,      0.8487,     0.84902,      0.8498,     0.85005,     0.85067,     0.85126,     0.85186,     0.85211,\n",
              "            0.85279,     0.85326,     0.85341,     0.85372,     0.85404,     0.85439,     0.85497,     0.85574,      0.8561,     0.85697,     0.85734,       0.858,     0.85814,     0.85857,     0.85892,     0.85927,     0.85963,     0.85974,     0.86012,     0.86045,     0.86079,     0.86129,     0.86166,\n",
              "            0.86179,     0.86209,     0.86267,     0.86306,     0.86366,     0.86465,     0.86506,     0.86549,     0.86597,     0.86612,     0.86662,     0.86698,     0.86743,     0.86771,      0.8684,     0.86881,     0.86947,     0.86981,     0.87023,     0.87077,     0.87141,      0.8717,     0.87214,\n",
              "            0.87191,      0.8723,     0.87261,     0.87304,     0.87353,     0.87438,     0.87456,     0.87505,      0.8751,     0.87564,     0.87607,     0.87629,     0.87658,      0.8769,     0.87746,     0.87788,     0.87833,     0.87869,     0.87897,     0.87943,     0.87962,     0.88006,     0.88048,\n",
              "            0.88119,     0.88119,     0.88144,     0.88199,     0.88272,     0.88309,     0.88383,       0.884,     0.88453,     0.88532,      0.8857,     0.88612,     0.88668,     0.88722,     0.88773,     0.88827,     0.88877,     0.88912,     0.88921,     0.88956,     0.89002,      0.8901,     0.89093,\n",
              "            0.89132,     0.89135,     0.89202,     0.89221,     0.89227,     0.89277,     0.89339,     0.89407,     0.89429,     0.89518,     0.89564,     0.89666,     0.89728,     0.89783,     0.89852,     0.89856,     0.89911,     0.89936,     0.89952,     0.89958,     0.89988,     0.90023,     0.90081,\n",
              "            0.90076,     0.90082,      0.9008,     0.90107,     0.90164,     0.90287,     0.90325,     0.90335,     0.90323,     0.90343,     0.90384,     0.90448,     0.90466,     0.90484,      0.9051,     0.90559,      0.9061,     0.90604,     0.90737,     0.90769,     0.90827,     0.90901,     0.90941,\n",
              "            0.91011,     0.91063,      0.9116,     0.91222,     0.91255,     0.91282,     0.91338,     0.91372,     0.91382,     0.91436,      0.9149,     0.91509,     0.91571,     0.91645,      0.9171,     0.91787,     0.91815,     0.91828,     0.91837,     0.91891,     0.91939,     0.91972,      0.9199,\n",
              "            0.91997,     0.92039,     0.92041,     0.92098,     0.92162,     0.92169,      0.9219,     0.92174,     0.92341,     0.92412,      0.9248,     0.92487,     0.92519,     0.92564,      0.9263,      0.9265,     0.92732,     0.92753,     0.92814,     0.92829,      0.9293,     0.92952,     0.92985,\n",
              "             0.9307,     0.93145,     0.93178,     0.93209,     0.93221,     0.93203,     0.93282,     0.93306,     0.93368,     0.93457,     0.93485,     0.93567,     0.93589,     0.93626,     0.93709,      0.9375,     0.93789,     0.93825,     0.93905,     0.93924,     0.93994,     0.94053,     0.94119,\n",
              "            0.94177,     0.94191,     0.94184,     0.94181,      0.9426,     0.94298,     0.94318,     0.94305,     0.94342,     0.94366,     0.94371,     0.94391,     0.94422,     0.94458,     0.94473,     0.94498,     0.94548,     0.94559,     0.94592,     0.94619,     0.94686,      0.9471,     0.94922,\n",
              "            0.94986,     0.95035,     0.95091,     0.95064,     0.95141,     0.95199,      0.9523,     0.95285,     0.95341,     0.95385,     0.95355,     0.95385,     0.95432,     0.95481,     0.95476,     0.95628,     0.95644,     0.95658,     0.95763,     0.95829,     0.95876,     0.95967,     0.96005,\n",
              "            0.96039,     0.96019,     0.96027,     0.96058,     0.96187,     0.96204,     0.96217,     0.96282,     0.96322,     0.96312,     0.96439,      0.9657,     0.96659,     0.96656,     0.96749,     0.96881,     0.96885,     0.96863,     0.96983,     0.96967,     0.96959,     0.96935,     0.96927,\n",
              "            0.96927,      0.9701,     0.97004,     0.97088,     0.97096,     0.97047,     0.97035,     0.97049,      0.9708,     0.97199,     0.97212,     0.97204,     0.97192,     0.97215,       0.972,     0.97308,     0.97306,     0.97267,     0.97258,     0.97348,     0.97295,     0.97287,     0.97248,\n",
              "            0.97276,     0.97298,     0.97358,     0.97382,     0.97343,     0.97483,     0.97465,     0.97572,     0.97616,     0.97618,     0.97652,     0.97653,     0.97615,      0.9769,     0.97683,     0.97862,     0.97869,     0.97963,     0.97954,      0.9801,     0.98012,        0.98,     0.98075,\n",
              "            0.98045,     0.98113,     0.98081,     0.98047,     0.98007,     0.98014,     0.98033,     0.98169,     0.98201,     0.98181,     0.98205,     0.98241,     0.98268,     0.98368,     0.98407,     0.98366,     0.98411,     0.98359,     0.98326,     0.98285,     0.98253,     0.98444,     0.98489,\n",
              "            0.98633,      0.9878,     0.98908,     0.98976,     0.98955,     0.98933,     0.98993,     0.98971,     0.98945,     0.98923,      0.9899,      0.9897,     0.98936,     0.98907,      0.9891,     0.98959,      0.9906,     0.99162,     0.99137,     0.99265,     0.99402,      0.9938,      0.9936,\n",
              "            0.99331,     0.99316,     0.99291,     0.99261,     0.99231,     0.99211,     0.99177,     0.99157,     0.99128,     0.99112,     0.99094,     0.99067,     0.99028,     0.99247,     0.99224,     0.99466,     0.99457,     0.99445,     0.99419,     0.99399,     0.99389,     0.99676,     0.99662,\n",
              "            0.99644,     0.99629,     0.99608,     0.99601,     0.99581,      0.9957,     0.99536,     0.99516,     0.99489,     0.99485,     0.99469,     0.99443,     0.99426,     0.99409,     0.99391,     0.99376,      0.9936,     0.99342,     0.99329,     0.99301,     0.99299,           1,           1,\n",
              "                  1,           1,           1,           1,           1,           1,           1,           1,           1,           1,           1,           1,           1,           1,           1,           1,           1,           1,           1,           1,           1,           1,           1,\n",
              "                  1,           1,           1,           1,           1,           1,           1,           1,           1,           1,           1,           1,           1,           1,           1,           1,           1,           1,           1,           1,           1,           1,           1,\n",
              "                  1,           1,           1,           1,           1,           1,           1,           1,           1,           1,           1]]), 'Confidence', 'Precision'], [array([          0,    0.001001,    0.002002,    0.003003,    0.004004,    0.005005,    0.006006,    0.007007,    0.008008,    0.009009,     0.01001,    0.011011,    0.012012,    0.013013,    0.014014,    0.015015,    0.016016,    0.017017,    0.018018,    0.019019,     0.02002,    0.021021,    0.022022,    0.023023,\n",
              "          0.024024,    0.025025,    0.026026,    0.027027,    0.028028,    0.029029,     0.03003,    0.031031,    0.032032,    0.033033,    0.034034,    0.035035,    0.036036,    0.037037,    0.038038,    0.039039,     0.04004,    0.041041,    0.042042,    0.043043,    0.044044,    0.045045,    0.046046,    0.047047,\n",
              "          0.048048,    0.049049,     0.05005,    0.051051,    0.052052,    0.053053,    0.054054,    0.055055,    0.056056,    0.057057,    0.058058,    0.059059,     0.06006,    0.061061,    0.062062,    0.063063,    0.064064,    0.065065,    0.066066,    0.067067,    0.068068,    0.069069,     0.07007,    0.071071,\n",
              "          0.072072,    0.073073,    0.074074,    0.075075,    0.076076,    0.077077,    0.078078,    0.079079,     0.08008,    0.081081,    0.082082,    0.083083,    0.084084,    0.085085,    0.086086,    0.087087,    0.088088,    0.089089,     0.09009,    0.091091,    0.092092,    0.093093,    0.094094,    0.095095,\n",
              "          0.096096,    0.097097,    0.098098,    0.099099,      0.1001,      0.1011,      0.1021,      0.1031,      0.1041,     0.10511,     0.10611,     0.10711,     0.10811,     0.10911,     0.11011,     0.11111,     0.11211,     0.11311,     0.11411,     0.11512,     0.11612,     0.11712,     0.11812,     0.11912,\n",
              "           0.12012,     0.12112,     0.12212,     0.12312,     0.12412,     0.12513,     0.12613,     0.12713,     0.12813,     0.12913,     0.13013,     0.13113,     0.13213,     0.13313,     0.13413,     0.13514,     0.13614,     0.13714,     0.13814,     0.13914,     0.14014,     0.14114,     0.14214,     0.14314,\n",
              "           0.14414,     0.14515,     0.14615,     0.14715,     0.14815,     0.14915,     0.15015,     0.15115,     0.15215,     0.15315,     0.15415,     0.15516,     0.15616,     0.15716,     0.15816,     0.15916,     0.16016,     0.16116,     0.16216,     0.16316,     0.16416,     0.16517,     0.16617,     0.16717,\n",
              "           0.16817,     0.16917,     0.17017,     0.17117,     0.17217,     0.17317,     0.17417,     0.17518,     0.17618,     0.17718,     0.17818,     0.17918,     0.18018,     0.18118,     0.18218,     0.18318,     0.18418,     0.18519,     0.18619,     0.18719,     0.18819,     0.18919,     0.19019,     0.19119,\n",
              "           0.19219,     0.19319,     0.19419,      0.1952,      0.1962,      0.1972,      0.1982,      0.1992,      0.2002,      0.2012,      0.2022,      0.2032,      0.2042,     0.20521,     0.20621,     0.20721,     0.20821,     0.20921,     0.21021,     0.21121,     0.21221,     0.21321,     0.21421,     0.21522,\n",
              "           0.21622,     0.21722,     0.21822,     0.21922,     0.22022,     0.22122,     0.22222,     0.22322,     0.22422,     0.22523,     0.22623,     0.22723,     0.22823,     0.22923,     0.23023,     0.23123,     0.23223,     0.23323,     0.23423,     0.23524,     0.23624,     0.23724,     0.23824,     0.23924,\n",
              "           0.24024,     0.24124,     0.24224,     0.24324,     0.24424,     0.24525,     0.24625,     0.24725,     0.24825,     0.24925,     0.25025,     0.25125,     0.25225,     0.25325,     0.25425,     0.25526,     0.25626,     0.25726,     0.25826,     0.25926,     0.26026,     0.26126,     0.26226,     0.26326,\n",
              "           0.26426,     0.26527,     0.26627,     0.26727,     0.26827,     0.26927,     0.27027,     0.27127,     0.27227,     0.27327,     0.27427,     0.27528,     0.27628,     0.27728,     0.27828,     0.27928,     0.28028,     0.28128,     0.28228,     0.28328,     0.28428,     0.28529,     0.28629,     0.28729,\n",
              "           0.28829,     0.28929,     0.29029,     0.29129,     0.29229,     0.29329,     0.29429,      0.2953,      0.2963,      0.2973,      0.2983,      0.2993,      0.3003,      0.3013,      0.3023,      0.3033,      0.3043,     0.30531,     0.30631,     0.30731,     0.30831,     0.30931,     0.31031,     0.31131,\n",
              "           0.31231,     0.31331,     0.31431,     0.31532,     0.31632,     0.31732,     0.31832,     0.31932,     0.32032,     0.32132,     0.32232,     0.32332,     0.32432,     0.32533,     0.32633,     0.32733,     0.32833,     0.32933,     0.33033,     0.33133,     0.33233,     0.33333,     0.33433,     0.33534,\n",
              "           0.33634,     0.33734,     0.33834,     0.33934,     0.34034,     0.34134,     0.34234,     0.34334,     0.34434,     0.34535,     0.34635,     0.34735,     0.34835,     0.34935,     0.35035,     0.35135,     0.35235,     0.35335,     0.35435,     0.35536,     0.35636,     0.35736,     0.35836,     0.35936,\n",
              "           0.36036,     0.36136,     0.36236,     0.36336,     0.36436,     0.36537,     0.36637,     0.36737,     0.36837,     0.36937,     0.37037,     0.37137,     0.37237,     0.37337,     0.37437,     0.37538,     0.37638,     0.37738,     0.37838,     0.37938,     0.38038,     0.38138,     0.38238,     0.38338,\n",
              "           0.38438,     0.38539,     0.38639,     0.38739,     0.38839,     0.38939,     0.39039,     0.39139,     0.39239,     0.39339,     0.39439,      0.3954,      0.3964,      0.3974,      0.3984,      0.3994,      0.4004,      0.4014,      0.4024,      0.4034,      0.4044,     0.40541,     0.40641,     0.40741,\n",
              "           0.40841,     0.40941,     0.41041,     0.41141,     0.41241,     0.41341,     0.41441,     0.41542,     0.41642,     0.41742,     0.41842,     0.41942,     0.42042,     0.42142,     0.42242,     0.42342,     0.42442,     0.42543,     0.42643,     0.42743,     0.42843,     0.42943,     0.43043,     0.43143,\n",
              "           0.43243,     0.43343,     0.43443,     0.43544,     0.43644,     0.43744,     0.43844,     0.43944,     0.44044,     0.44144,     0.44244,     0.44344,     0.44444,     0.44545,     0.44645,     0.44745,     0.44845,     0.44945,     0.45045,     0.45145,     0.45245,     0.45345,     0.45445,     0.45546,\n",
              "           0.45646,     0.45746,     0.45846,     0.45946,     0.46046,     0.46146,     0.46246,     0.46346,     0.46446,     0.46547,     0.46647,     0.46747,     0.46847,     0.46947,     0.47047,     0.47147,     0.47247,     0.47347,     0.47447,     0.47548,     0.47648,     0.47748,     0.47848,     0.47948,\n",
              "           0.48048,     0.48148,     0.48248,     0.48348,     0.48448,     0.48549,     0.48649,     0.48749,     0.48849,     0.48949,     0.49049,     0.49149,     0.49249,     0.49349,     0.49449,      0.4955,      0.4965,      0.4975,      0.4985,      0.4995,      0.5005,      0.5015,      0.5025,      0.5035,\n",
              "            0.5045,     0.50551,     0.50651,     0.50751,     0.50851,     0.50951,     0.51051,     0.51151,     0.51251,     0.51351,     0.51451,     0.51552,     0.51652,     0.51752,     0.51852,     0.51952,     0.52052,     0.52152,     0.52252,     0.52352,     0.52452,     0.52553,     0.52653,     0.52753,\n",
              "           0.52853,     0.52953,     0.53053,     0.53153,     0.53253,     0.53353,     0.53453,     0.53554,     0.53654,     0.53754,     0.53854,     0.53954,     0.54054,     0.54154,     0.54254,     0.54354,     0.54454,     0.54555,     0.54655,     0.54755,     0.54855,     0.54955,     0.55055,     0.55155,\n",
              "           0.55255,     0.55355,     0.55455,     0.55556,     0.55656,     0.55756,     0.55856,     0.55956,     0.56056,     0.56156,     0.56256,     0.56356,     0.56456,     0.56557,     0.56657,     0.56757,     0.56857,     0.56957,     0.57057,     0.57157,     0.57257,     0.57357,     0.57457,     0.57558,\n",
              "           0.57658,     0.57758,     0.57858,     0.57958,     0.58058,     0.58158,     0.58258,     0.58358,     0.58458,     0.58559,     0.58659,     0.58759,     0.58859,     0.58959,     0.59059,     0.59159,     0.59259,     0.59359,     0.59459,      0.5956,      0.5966,      0.5976,      0.5986,      0.5996,\n",
              "            0.6006,      0.6016,      0.6026,      0.6036,      0.6046,     0.60561,     0.60661,     0.60761,     0.60861,     0.60961,     0.61061,     0.61161,     0.61261,     0.61361,     0.61461,     0.61562,     0.61662,     0.61762,     0.61862,     0.61962,     0.62062,     0.62162,     0.62262,     0.62362,\n",
              "           0.62462,     0.62563,     0.62663,     0.62763,     0.62863,     0.62963,     0.63063,     0.63163,     0.63263,     0.63363,     0.63463,     0.63564,     0.63664,     0.63764,     0.63864,     0.63964,     0.64064,     0.64164,     0.64264,     0.64364,     0.64464,     0.64565,     0.64665,     0.64765,\n",
              "           0.64865,     0.64965,     0.65065,     0.65165,     0.65265,     0.65365,     0.65465,     0.65566,     0.65666,     0.65766,     0.65866,     0.65966,     0.66066,     0.66166,     0.66266,     0.66366,     0.66466,     0.66567,     0.66667,     0.66767,     0.66867,     0.66967,     0.67067,     0.67167,\n",
              "           0.67267,     0.67367,     0.67467,     0.67568,     0.67668,     0.67768,     0.67868,     0.67968,     0.68068,     0.68168,     0.68268,     0.68368,     0.68468,     0.68569,     0.68669,     0.68769,     0.68869,     0.68969,     0.69069,     0.69169,     0.69269,     0.69369,     0.69469,      0.6957,\n",
              "            0.6967,      0.6977,      0.6987,      0.6997,      0.7007,      0.7017,      0.7027,      0.7037,      0.7047,     0.70571,     0.70671,     0.70771,     0.70871,     0.70971,     0.71071,     0.71171,     0.71271,     0.71371,     0.71471,     0.71572,     0.71672,     0.71772,     0.71872,     0.71972,\n",
              "           0.72072,     0.72172,     0.72272,     0.72372,     0.72472,     0.72573,     0.72673,     0.72773,     0.72873,     0.72973,     0.73073,     0.73173,     0.73273,     0.73373,     0.73473,     0.73574,     0.73674,     0.73774,     0.73874,     0.73974,     0.74074,     0.74174,     0.74274,     0.74374,\n",
              "           0.74474,     0.74575,     0.74675,     0.74775,     0.74875,     0.74975,     0.75075,     0.75175,     0.75275,     0.75375,     0.75475,     0.75576,     0.75676,     0.75776,     0.75876,     0.75976,     0.76076,     0.76176,     0.76276,     0.76376,     0.76476,     0.76577,     0.76677,     0.76777,\n",
              "           0.76877,     0.76977,     0.77077,     0.77177,     0.77277,     0.77377,     0.77477,     0.77578,     0.77678,     0.77778,     0.77878,     0.77978,     0.78078,     0.78178,     0.78278,     0.78378,     0.78478,     0.78579,     0.78679,     0.78779,     0.78879,     0.78979,     0.79079,     0.79179,\n",
              "           0.79279,     0.79379,     0.79479,      0.7958,      0.7968,      0.7978,      0.7988,      0.7998,      0.8008,      0.8018,      0.8028,      0.8038,      0.8048,     0.80581,     0.80681,     0.80781,     0.80881,     0.80981,     0.81081,     0.81181,     0.81281,     0.81381,     0.81481,     0.81582,\n",
              "           0.81682,     0.81782,     0.81882,     0.81982,     0.82082,     0.82182,     0.82282,     0.82382,     0.82482,     0.82583,     0.82683,     0.82783,     0.82883,     0.82983,     0.83083,     0.83183,     0.83283,     0.83383,     0.83483,     0.83584,     0.83684,     0.83784,     0.83884,     0.83984,\n",
              "           0.84084,     0.84184,     0.84284,     0.84384,     0.84484,     0.84585,     0.84685,     0.84785,     0.84885,     0.84985,     0.85085,     0.85185,     0.85285,     0.85385,     0.85485,     0.85586,     0.85686,     0.85786,     0.85886,     0.85986,     0.86086,     0.86186,     0.86286,     0.86386,\n",
              "           0.86486,     0.86587,     0.86687,     0.86787,     0.86887,     0.86987,     0.87087,     0.87187,     0.87287,     0.87387,     0.87487,     0.87588,     0.87688,     0.87788,     0.87888,     0.87988,     0.88088,     0.88188,     0.88288,     0.88388,     0.88488,     0.88589,     0.88689,     0.88789,\n",
              "           0.88889,     0.88989,     0.89089,     0.89189,     0.89289,     0.89389,     0.89489,      0.8959,      0.8969,      0.8979,      0.8989,      0.8999,      0.9009,      0.9019,      0.9029,      0.9039,      0.9049,     0.90591,     0.90691,     0.90791,     0.90891,     0.90991,     0.91091,     0.91191,\n",
              "           0.91291,     0.91391,     0.91491,     0.91592,     0.91692,     0.91792,     0.91892,     0.91992,     0.92092,     0.92192,     0.92292,     0.92392,     0.92492,     0.92593,     0.92693,     0.92793,     0.92893,     0.92993,     0.93093,     0.93193,     0.93293,     0.93393,     0.93493,     0.93594,\n",
              "           0.93694,     0.93794,     0.93894,     0.93994,     0.94094,     0.94194,     0.94294,     0.94394,     0.94494,     0.94595,     0.94695,     0.94795,     0.94895,     0.94995,     0.95095,     0.95195,     0.95295,     0.95395,     0.95495,     0.95596,     0.95696,     0.95796,     0.95896,     0.95996,\n",
              "           0.96096,     0.96196,     0.96296,     0.96396,     0.96496,     0.96597,     0.96697,     0.96797,     0.96897,     0.96997,     0.97097,     0.97197,     0.97297,     0.97397,     0.97497,     0.97598,     0.97698,     0.97798,     0.97898,     0.97998,     0.98098,     0.98198,     0.98298,     0.98398,\n",
              "           0.98498,     0.98599,     0.98699,     0.98799,     0.98899,     0.98999,     0.99099,     0.99199,     0.99299,     0.99399,     0.99499,       0.996,       0.997,       0.998,       0.999,           1]), array([[    0.93465,     0.93465,       0.933,     0.93102,     0.92946,     0.92744,     0.92617,     0.92395,     0.92263,     0.92112,      0.9199,     0.91877,     0.91764,     0.91585,     0.91434,     0.91321,     0.91198,      0.9109,     0.90963,     0.90859,     0.90774,     0.90661,     0.90534,\n",
              "            0.90454,     0.90345,      0.9027,     0.90185,     0.90072,     0.89978,     0.89912,     0.89832,     0.89733,     0.89629,     0.89526,     0.89422,     0.89304,      0.8921,     0.89101,     0.88998,     0.88927,     0.88861,     0.88809,     0.88729,      0.8862,     0.88545,     0.88451,\n",
              "            0.88376,     0.88315,     0.88197,      0.8815,     0.88046,     0.87961,     0.87905,      0.8782,     0.87754,     0.87693,     0.87617,     0.87509,     0.87419,     0.87339,     0.87259,     0.87198,     0.87141,     0.87047,     0.86981,     0.86915,     0.86859,     0.86778,      0.8668,\n",
              "            0.86618,     0.86543,     0.86482,     0.86453,     0.86392,     0.86318,     0.86246,     0.86222,     0.86157,     0.86091,     0.86048,     0.85968,     0.85912,     0.85874,     0.85798,     0.85751,      0.8569,     0.85638,     0.85582,     0.85516,     0.85469,      0.8537,     0.85285,\n",
              "            0.85214,     0.85143,     0.85108,     0.85063,     0.84979,     0.84922,     0.84814,     0.84762,      0.8466,     0.84592,     0.84517,     0.84437,     0.84413,     0.84347,     0.84309,     0.84239,     0.84206,     0.84178,     0.84121,     0.84025,     0.83933,     0.83885,     0.83815,\n",
              "            0.83744,     0.83702,     0.83669,     0.83598,     0.83492,      0.8341,     0.83372,     0.83339,     0.83259,     0.83221,      0.8315,     0.83117,     0.83075,     0.83004,     0.82929,     0.82868,     0.82797,     0.82717,      0.8267,     0.82613,      0.8258,     0.82518,     0.82444,\n",
              "            0.82402,      0.8234,     0.82265,     0.82205,     0.82137,     0.82034,     0.81996,     0.81883,     0.81826,     0.81746,     0.81704,     0.81638,     0.81569,     0.81525,     0.81464,     0.81415,     0.81374,     0.81303,     0.81237,     0.81167,     0.81167,     0.81115,     0.81068,\n",
              "            0.81011,     0.80945,     0.80903,     0.80842,      0.8078,     0.80728,      0.8071,     0.80653,     0.80601,     0.80531,     0.80469,     0.80399,     0.80342,      0.8029,     0.80234,     0.80172,     0.80125,     0.80078,     0.80008,     0.79965,     0.79918,     0.79861,     0.79799,\n",
              "            0.79744,     0.79687,     0.79613,     0.79518,     0.79494,     0.79419,     0.79343,     0.79329,      0.7928,     0.79207,     0.79169,     0.79084,      0.7899,     0.78966,     0.78896,     0.78858,     0.78759,     0.78679,     0.78641,      0.7857,     0.78537,     0.78448,      0.7842,\n",
              "            0.78354,     0.78226,     0.78172,     0.78104,     0.78071,     0.78019,     0.77972,     0.77897,     0.77845,     0.77774,     0.77755,     0.77694,     0.77666,     0.77609,     0.77586,     0.77514,     0.77496,     0.77443,     0.77421,     0.77336,     0.77284,     0.77223,     0.77204,\n",
              "            0.77124,     0.77084,      0.7703,     0.76981,     0.76935,     0.76865,     0.76836,     0.76737,     0.76651,     0.76592,     0.76488,     0.76445,      0.7637,     0.76337,     0.76309,     0.76238,     0.76198,     0.76172,     0.76105,     0.76065,     0.76021,     0.75955,     0.75908,\n",
              "            0.75809,     0.75757,     0.75701,     0.75635,     0.75602,     0.75569,     0.75498,     0.75434,     0.75362,     0.75324,     0.75296,     0.75244,     0.75182,     0.75128,     0.75088,     0.75037,     0.74994,     0.74909,     0.74834,     0.74794,     0.74735,     0.74683,     0.74565,\n",
              "            0.74499,     0.74463,     0.74438,      0.7438,     0.74327,     0.74264,     0.74188,     0.74104,     0.74039,        0.74,     0.73887,     0.73826,     0.73797,     0.73764,     0.73656,     0.73609,     0.73548,     0.73491,     0.73364,     0.73307,     0.73255,     0.73199,     0.73161,\n",
              "            0.73091,     0.73008,      0.7294,      0.7287,     0.72788,     0.72721,     0.72638,     0.72607,     0.72558,     0.72472,     0.72415,     0.72362,     0.72291,     0.72191,     0.72139,     0.72082,     0.72044,     0.72002,     0.71946,     0.71913,     0.71832,     0.71785,     0.71736,\n",
              "            0.71678,      0.7162,     0.71474,     0.71408,     0.71317,     0.71291,     0.71248,     0.71163,      0.7105,     0.70997,     0.70931,     0.70881,     0.70834,     0.70763,     0.70711,     0.70589,     0.70517,     0.70452,     0.70407,     0.70331,     0.70302,     0.70221,     0.70169,\n",
              "            0.70122,     0.70089,     0.70061,     0.70009,     0.69958,     0.69849,     0.69797,     0.69759,     0.69734,     0.69696,     0.69641,     0.69568,     0.69509,     0.69458,     0.69378,     0.69269,     0.69221,     0.69155,     0.69109,      0.6905,     0.69002,     0.68953,     0.68921,\n",
              "            0.68864,     0.68798,     0.68708,     0.68679,     0.68633,     0.68595,     0.68517,     0.68479,     0.68402,      0.6835,     0.68299,     0.68261,     0.68138,     0.68091,     0.68006,     0.67953,     0.67884,     0.67816,     0.67743,      0.6765,     0.67574,     0.67518,     0.67408,\n",
              "            0.67351,     0.67276,     0.67201,     0.67158,     0.67081,     0.67003,     0.66897,     0.66831,     0.66777,     0.66703,     0.66594,     0.66527,     0.66481,     0.66386,     0.66315,     0.66216,     0.66078,     0.66017,     0.65971,     0.65899,     0.65858,     0.65795,     0.65712,\n",
              "            0.65648,      0.6561,     0.65542,     0.65463,     0.65405,      0.6535,     0.65283,     0.65218,     0.65142,     0.65024,      0.6491,     0.64863,     0.64764,     0.64707,     0.64623,     0.64553,     0.64495,     0.64425,     0.64388,     0.64341,     0.64279,     0.64195,     0.64149,\n",
              "            0.64078,     0.64022,     0.63931,     0.63842,     0.63771,     0.63715,     0.63658,     0.63615,     0.63502,     0.63426,     0.63314,     0.63248,     0.63182,     0.63068,     0.62979,     0.62927,     0.62847,     0.62748,      0.6263,     0.62578,     0.62501,     0.62421,     0.62373,\n",
              "            0.62298,     0.62241,     0.62166,     0.62084,     0.62008,     0.61919,     0.61867,     0.61791,      0.6173,     0.61647,     0.61576,     0.61509,     0.61424,     0.61354,     0.61264,     0.61146,      0.6108,     0.60991,      0.6092,     0.60821,     0.60684,     0.60609,     0.60528,\n",
              "            0.60472,     0.60443,     0.60363,     0.60284,     0.60198,     0.60118,     0.60034,     0.59953,     0.59864,     0.59811,     0.59688,     0.59591,     0.59519,     0.59419,     0.59351,      0.5925,      0.5916,     0.59092,     0.58995,     0.58915,     0.58847,      0.5879,     0.58697,\n",
              "            0.58613,     0.58537,     0.58443,     0.58361,     0.58292,     0.58211,     0.58112,     0.58051,     0.57989,     0.57862,     0.57782,     0.57707,     0.57607,     0.57523,     0.57367,     0.57249,      0.5715,     0.57074,     0.56999,     0.56905,     0.56787,     0.56703,     0.56607,\n",
              "            0.56532,     0.56462,     0.56371,     0.56291,     0.56187,     0.56142,     0.56084,     0.56029,     0.55939,     0.55871,     0.55741,     0.55659,      0.5555,     0.55465,     0.55379,      0.5528,      0.5523,     0.55135,      0.5503,     0.54937,     0.54813,     0.54719,     0.54588,\n",
              "             0.5447,     0.54404,     0.54286,     0.54139,     0.54055,      0.5385,     0.53737,     0.53678,     0.53581,     0.53513,     0.53404,     0.53312,     0.53185,     0.53095,     0.52994,     0.52892,     0.52801,     0.52699,     0.52617,     0.52515,     0.52405,     0.52316,     0.52227,\n",
              "            0.52057,     0.51982,     0.51902,     0.51779,      0.5168,     0.51491,     0.51411,     0.51281,     0.51152,     0.51039,     0.50961,     0.50841,     0.50734,     0.50624,     0.50508,     0.50404,      0.5031,     0.50173,     0.50097,     0.50008,     0.49894,     0.49647,     0.49517,\n",
              "            0.49416,     0.49312,     0.49201,     0.49107,     0.49027,     0.48939,     0.48859,     0.48702,     0.48619,     0.48381,     0.48305,     0.48211,     0.48112,     0.48028,     0.47914,     0.47788,     0.47664,      0.4759,     0.47501,     0.47364,     0.47284,     0.47171,     0.46916,\n",
              "            0.46794,     0.46657,     0.46553,     0.46449,     0.46286,     0.46211,     0.46121,      0.4605,     0.45931,     0.45833,     0.45705,     0.45451,     0.45342,     0.45256,     0.45143,     0.45034,     0.44933,     0.44801,     0.44711,     0.44489,     0.44386,     0.44258,     0.44159,\n",
              "            0.44053,     0.43924,     0.43813,      0.4369,     0.43581,     0.43315,     0.43155,     0.43027,     0.42834,     0.42757,     0.42648,     0.42563,     0.42384,     0.42252,      0.4195,     0.41853,      0.4174,     0.41596,     0.41309,     0.41191,     0.41059,     0.40955,     0.40805,\n",
              "            0.40706,      0.4063,     0.40489,       0.402,     0.40073,      0.3996,      0.3985,     0.39722,     0.39627,     0.39491,      0.3921,     0.39102,     0.38955,     0.38713,     0.38623,     0.38496,     0.38373,     0.38229,     0.38116,     0.37982,     0.37727,     0.37623,     0.37499,\n",
              "            0.37384,     0.37206,     0.37055,     0.36742,     0.36624,      0.3649,     0.36376,     0.36239,     0.36015,     0.35921,     0.35692,     0.35556,     0.35489,     0.35369,     0.35294,     0.35041,     0.34928,     0.34857,     0.34751,     0.34643,     0.34433,     0.34284,     0.34163,\n",
              "            0.34053,     0.33936,      0.3366,     0.33563,     0.33436,     0.33337,     0.33108,     0.33037,     0.32771,     0.32643,     0.32484,     0.32349,     0.32125,     0.32044,     0.31934,     0.31733,     0.31592,     0.31461,     0.31358,      0.3115,     0.31043,     0.30933,      0.3084,\n",
              "            0.30635,     0.30562,     0.30444,     0.30161,     0.29944,     0.29769,     0.29644,     0.29494,     0.29307,     0.29203,     0.29069,     0.28784,     0.28637,     0.28508,      0.2827,     0.28165,     0.28027,     0.27841,     0.27715,     0.27588,     0.27287,     0.27164,     0.26954,\n",
              "            0.26867,     0.26697,     0.26603,      0.2641,     0.26296,      0.2607,     0.25961,     0.25804,     0.25628,     0.25517,     0.25245,     0.25126,     0.25002,     0.24788,     0.24659,     0.24425,     0.24314,     0.24186,      0.2396,     0.23819,     0.23555,     0.23324,     0.23213,\n",
              "            0.22965,     0.22845,      0.2255,     0.22428,     0.22224,     0.22091,     0.21814,     0.21596,     0.21347,     0.21289,     0.21054,     0.20827,     0.20583,     0.20563,     0.20332,     0.20052,     0.19785,     0.19495,     0.19234,     0.18979,     0.18932,      0.1863,      0.1843,\n",
              "             0.1813,     0.17885,     0.17847,     0.17592,     0.17327,     0.17036,     0.16765,     0.16734,     0.16446,     0.16188,     0.15969,     0.15724,     0.15495,      0.1546,     0.15215,     0.14819,     0.14809,     0.14587,     0.14375,     0.14185,     0.13899,     0.13686,     0.13484,\n",
              "             0.1346,     0.13233,     0.13021,     0.12795,       0.126,     0.12408,     0.12139,     0.11931,     0.11771,     0.11584,     0.11563,      0.1137,     0.10993,     0.10761,      0.1053,     0.10351,     0.10172,    0.099696,    0.099263,     0.09747,    0.095253,    0.093531,    0.091243,\n",
              "            0.08978,    0.088176,    0.086713,    0.085156,     0.08341,    0.081381,    0.079824,    0.078314,    0.077181,    0.073739,    0.072181,    0.071048,    0.069491,    0.068169,    0.066942,    0.065243,    0.064204,    0.062129,    0.060901,    0.059391,    0.058305,    0.056653,    0.055285,\n",
              "           0.054387,    0.053395,    0.051225,    0.050092,      0.0491,    0.048061,    0.046316,    0.045324,     0.04417,    0.043293,    0.041547,    0.040744,    0.039422,    0.038383,    0.036564,    0.035834,    0.034748,    0.033473,    0.032482,     0.03182,    0.031346,    0.030213,    0.029268,\n",
              "           0.027993,    0.027379,    0.026387,    0.025301,    0.024309,    0.023694,    0.022702,    0.022181,    0.021425,    0.021046,    0.020619,    0.020004,    0.019201,    0.018633,    0.018066,    0.017545,     0.01726,    0.016874,    0.016124,    0.015576,    0.015318,    0.014515,    0.013877,\n",
              "           0.013191,     0.01267,    0.011961,     0.01177,    0.011203,    0.010918,    0.010114,   0.0096878,   0.0091671,   0.0091058,   0.0088326,   0.0084061,   0.0081682,   0.0079302,   0.0076923,   0.0075014,   0.0073106,   0.0071174,   0.0069761,    0.006691,    0.006361,    0.006168,   0.0057415,\n",
              "           0.005626,   0.0052656,   0.0051627,   0.0048949,   0.0048627,   0.0045129,   0.0044528,   0.0041571,   0.0035057,   0.0034091,   0.0028885,   0.0026505,   0.0024597,   0.0022217,   0.0019838,   0.0015574,   0.0014137,   0.0011757,  0.00098718,  0.00093539,   0.0008388,  0.00065381,  0.00050425,\n",
              "         0.00041586,  0.00036756,  0.00018143,  0.00014923,           0,           0,           0,           0,           0,           0,           0,           0,           0,           0,           0,           0,           0,           0,           0,           0,           0,           0,           0,\n",
              "                  0,           0,           0,           0,           0,           0,           0,           0,           0,           0,           0]]), 'Confidence', 'Recall']]\n",
              "fitness: np.float64(0.548997868946359)\n",
              "keys: ['metrics/precision(B)', 'metrics/recall(B)', 'metrics/mAP50(B)', 'metrics/mAP50-95(B)']\n",
              "maps: array([    0.52395])\n",
              "names: {0: 'olive'}\n",
              "plot: True\n",
              "results_dict: {'metrics/precision(B)': np.float64(0.730321415132696), 'metrics/recall(B)': np.float64(0.7382556660227112), 'metrics/mAP50(B)': np.float64(0.7744146366652963), 'metrics/mAP50-95(B)': np.float64(0.5239515614220327), 'fitness': np.float64(0.548997868946359)}\n",
              "save_dir: PosixPath('runs/detect/olivedetect_yolov11m')\n",
              "speed: {'preprocess': 0.23821619232954885, 'inference': 10.225934885501376, 'loss': 0.0006533942550379526, 'postprocess': 1.3637701985339166}\n",
              "task: 'detect'"
            ]
          },
          "metadata": {},
          "execution_count": 12
        }
      ]
    },
    {
      "cell_type": "code",
      "execution_count": null,
      "metadata": {
        "id": "pUijIQl1l2zk",
        "colab": {
          "base_uri": "https://localhost:8080/"
        },
        "outputId": "a17141fb-7d8d-41a0-eaa8-699c2578b41e"
      },
      "outputs": [
        {
          "output_type": "stream",
          "name": "stdout",
          "text": [
            "Ultralytics 8.3.115 🚀 Python-3.11.12 torch-2.6.0+cu124 CPU (Intel Xeon 2.00GHz)\n",
            "YOLO11m summary (fused): 125 layers, 20,030,803 parameters, 0 gradients, 67.6 GFLOPs\n",
            "\n",
            "\u001b[34m\u001b[1mPyTorch:\u001b[0m starting from 'runs/detect/olivedetect_yolov11m/weights/best.pt' with input shape (1, 3, 640, 640) BCHW and output shape(s) (1, 5, 8400) (38.6 MB)\n",
            "\u001b[31m\u001b[1mrequirements:\u001b[0m Ultralytics requirements ['onnx>=1.12.0', 'onnxslim', 'onnxruntime-gpu'] not found, attempting AutoUpdate...\n",
            "Collecting onnx>=1.12.0\n",
            "  Downloading onnx-1.17.0-cp311-cp311-manylinux_2_17_x86_64.manylinux2014_x86_64.whl.metadata (16 kB)\n",
            "Collecting onnxslim\n",
            "  Downloading onnxslim-0.1.50-py3-none-any.whl.metadata (4.8 kB)\n",
            "Collecting onnxruntime-gpu\n",
            "  Downloading onnxruntime_gpu-1.21.1-cp311-cp311-manylinux_2_27_x86_64.manylinux_2_28_x86_64.whl.metadata (4.8 kB)\n",
            "Requirement already satisfied: numpy>=1.20 in /usr/local/lib/python3.11/dist-packages (from onnx>=1.12.0) (2.0.2)\n",
            "Requirement already satisfied: protobuf>=3.20.2 in /usr/local/lib/python3.11/dist-packages (from onnx>=1.12.0) (5.29.4)\n",
            "Requirement already satisfied: sympy in /usr/local/lib/python3.11/dist-packages (from onnxslim) (1.13.1)\n",
            "Requirement already satisfied: packaging in /usr/local/lib/python3.11/dist-packages (from onnxslim) (24.2)\n",
            "Collecting coloredlogs (from onnxruntime-gpu)\n",
            "  Downloading coloredlogs-15.0.1-py2.py3-none-any.whl.metadata (12 kB)\n",
            "Requirement already satisfied: flatbuffers in /usr/local/lib/python3.11/dist-packages (from onnxruntime-gpu) (25.2.10)\n",
            "Collecting humanfriendly>=9.1 (from coloredlogs->onnxruntime-gpu)\n",
            "  Downloading humanfriendly-10.0-py2.py3-none-any.whl.metadata (9.2 kB)\n",
            "Requirement already satisfied: mpmath<1.4,>=1.1.0 in /usr/local/lib/python3.11/dist-packages (from sympy->onnxslim) (1.3.0)\n",
            "Downloading onnx-1.17.0-cp311-cp311-manylinux_2_17_x86_64.manylinux2014_x86_64.whl (16.0 MB)\n",
            "   ━━━━━━━━━━━━━━━━━━━━━━━━━━━━━━━━━━━━━━━━ 16.0/16.0 MB 225.3 MB/s eta 0:00:00\n",
            "Downloading onnxslim-0.1.50-py3-none-any.whl (144 kB)\n",
            "   ━━━━━━━━━━━━━━━━━━━━━━━━━━━━━━━━━━━━━━━ 144.5/144.5 kB 272.7 MB/s eta 0:00:00\n",
            "Downloading onnxruntime_gpu-1.21.1-cp311-cp311-manylinux_2_27_x86_64.manylinux_2_28_x86_64.whl (280.8 MB)\n",
            "   ━━━━━━━━━━━━━━━━━━━━━━━━━━━━━━━━━━━━━━━ 280.8/280.8 MB 236.4 MB/s eta 0:00:00\n",
            "Downloading coloredlogs-15.0.1-py2.py3-none-any.whl (46 kB)\n",
            "   ━━━━━━━━━━━━━━━━━━━━━━━━━━━━━━━━━━━━━━━━ 46.0/46.0 kB 149.2 MB/s eta 0:00:00\n",
            "Downloading humanfriendly-10.0-py2.py3-none-any.whl (86 kB)\n",
            "   ━━━━━━━━━━━━━━━━━━━━━━━━━━━━━━━━━━━━━━━━ 86.8/86.8 kB 200.6 MB/s eta 0:00:00\n",
            "Installing collected packages: onnx, humanfriendly, onnxslim, coloredlogs, onnxruntime-gpu\n",
            "Successfully installed coloredlogs-15.0.1 humanfriendly-10.0 onnx-1.17.0 onnxruntime-gpu-1.21.1 onnxslim-0.1.50\n",
            "\n",
            "\u001b[31m\u001b[1mrequirements:\u001b[0m AutoUpdate success ✅ 19.9s, installed 3 packages: ['onnx>=1.12.0', 'onnxslim', 'onnxruntime-gpu']\n",
            "WARNING ⚠️ \u001b[31m\u001b[1mrequirements:\u001b[0m \u001b[1mRestart runtime or rerun command for updates to take effect\u001b[0m\n",
            "\n",
            "\n",
            "\u001b[34m\u001b[1mONNX:\u001b[0m starting export with onnx 1.17.0 opset 19...\n",
            "\u001b[34m\u001b[1mONNX:\u001b[0m slimming with onnxslim 0.1.50...\n",
            "\u001b[34m\u001b[1mONNX:\u001b[0m export success ✅ 27.7s, saved as 'runs/detect/olivedetect_yolov11m/weights/best.onnx' (76.7 MB)\n",
            "\n",
            "Export complete (32.0s)\n",
            "Results saved to \u001b[1m/content/runs/detect/olivedetect_yolov11m/weights\u001b[0m\n",
            "Predict:         yolo predict task=detect model=runs/detect/olivedetect_yolov11m/weights/best.onnx imgsz=640  \n",
            "Validate:        yolo val task=detect model=runs/detect/olivedetect_yolov11m/weights/best.onnx imgsz=640 data=/content/Olive-3/data.yaml  \n",
            "Visualize:       https://netron.app\n"
          ]
        }
      ],
      "source": [
        "last_ckpt=\"/content/runs/detect/olivedetect_yolov11m/weights/last.pt\"\n",
        "model.export(format=\"onnx\")\n",
        "model.save(\"Saved_11.onnx\")"
      ]
    },
    {
      "cell_type": "markdown",
      "source": [
        "**version 2:**"
      ],
      "metadata": {
        "id": "hXQfm8wJbmDO"
      }
    },
    {
      "cell_type": "code",
      "source": [
        "from ultralytics import YOLO\n",
        "oliveDetect_11_model3= YOLO('yolo11m.pt')\n",
        "training_results3__yolo11 = oliveDetect_11_model3.train(\n",
        "    data='/content/Olive-3/data.yaml',\n",
        "    epochs=20,\n",
        "    imgsz=640,\n",
        "    batch=8,\n",
        "    patience=21,\n",
        "    name='olive_detection_v11',\n",
        "    box=5.0,\n",
        "    cls=0.3,\n",
        "    dfl=2.5,\n",
        "    save_period=5,\n",
        "    # Minimal augmentations\n",
        "    hsv_h=0.01,\n",
        "    hsv_s=0.5,\n",
        "    hsv_v=0.3,\n",
        "    fliplr=0.0,\n",
        "    flipud=0.0,\n",
        "    translate=0.0,\n",
        "    scale=0.0\n",
        ")"
      ],
      "metadata": {
        "id": "twScWU9rgN-M",
        "colab": {
          "base_uri": "https://localhost:8080/"
        },
        "outputId": "986539b3-189a-4168-f0f3-099be5e3e422"
      },
      "execution_count": null,
      "outputs": [
        {
          "metadata": {
            "tags": null
          },
          "name": "stdout",
          "output_type": "stream",
          "text": [
            "Creating new Ultralytics Settings v0.0.6 file ✅ \n",
            "View Ultralytics Settings with 'yolo settings' or at '/root/.config/Ultralytics/settings.json'\n",
            "Update Settings with 'yolo settings key=value', i.e. 'yolo settings runs_dir=path/to/dir'. For help see https://docs.ultralytics.com/quickstart/#ultralytics-settings.\n",
            "Downloading https://github.com/ultralytics/assets/releases/download/v8.3.0/yolo11m.pt to 'yolo11m.pt'...\n"
          ]
        },
        {
          "metadata": {
            "tags": null
          },
          "name": "stderr",
          "output_type": "stream",
          "text": [
            "100%|██████████| 38.8M/38.8M [00:00<00:00, 90.4MB/s]\n"
          ]
        },
        {
          "metadata": {
            "tags": null
          },
          "name": "stdout",
          "output_type": "stream",
          "text": [
            "Ultralytics 8.3.118 🚀 Python-3.11.12 torch-2.6.0+cu124 CUDA:0 (Tesla T4, 15095MiB)\n",
            "\u001b[34m\u001b[1mengine/trainer: \u001b[0mtask=detect, mode=train, model=yolo11m.pt, data=/content/Olive-3/data.yaml, epochs=20, time=None, patience=21, batch=8, imgsz=640, save=True, save_period=5, cache=False, device=None, workers=8, project=None, name=olive_detection_v11, exist_ok=False, pretrained=True, optimizer=auto, verbose=True, seed=0, deterministic=True, single_cls=False, rect=False, cos_lr=False, close_mosaic=10, resume=False, amp=True, fraction=1.0, profile=False, freeze=None, multi_scale=False, overlap_mask=True, mask_ratio=4, dropout=0.0, val=True, split=val, save_json=False, conf=None, iou=0.7, max_det=300, half=False, dnn=False, plots=True, source=None, vid_stride=1, stream_buffer=False, visualize=False, augment=False, agnostic_nms=False, classes=None, retina_masks=False, embed=None, show=False, save_frames=False, save_txt=False, save_conf=False, save_crop=False, show_labels=True, show_conf=True, show_boxes=True, line_width=None, format=torchscript, keras=False, optimize=False, int8=False, dynamic=False, simplify=True, opset=None, workspace=None, nms=False, lr0=0.01, lrf=0.01, momentum=0.937, weight_decay=0.0005, warmup_epochs=3.0, warmup_momentum=0.8, warmup_bias_lr=0.1, box=5.0, cls=0.3, dfl=2.5, pose=12.0, kobj=1.0, nbs=64, hsv_h=0.01, hsv_s=0.5, hsv_v=0.3, degrees=0.0, translate=0.0, scale=0.0, shear=0.0, perspective=0.0, flipud=0.0, fliplr=0.0, bgr=0.0, mosaic=1.0, mixup=0.0, copy_paste=0.0, copy_paste_mode=flip, auto_augment=randaugment, erasing=0.4, cfg=None, tracker=botsort.yaml, save_dir=runs/detect/olive_detection_v11\n",
            "Downloading https://ultralytics.com/assets/Arial.ttf to '/root/.config/Ultralytics/Arial.ttf'...\n"
          ]
        },
        {
          "metadata": {
            "tags": null
          },
          "name": "stderr",
          "output_type": "stream",
          "text": [
            "100%|██████████| 755k/755k [00:00<00:00, 41.5MB/s]"
          ]
        },
        {
          "metadata": {
            "tags": null
          },
          "name": "stdout",
          "output_type": "stream",
          "text": [
            "Overriding model.yaml nc=80 with nc=1\n",
            "\n",
            "                   from  n    params  module                                       arguments                     \n",
            "  0                  -1  1      1856  ultralytics.nn.modules.conv.Conv             [3, 64, 3, 2]                 \n",
            "  1                  -1  1     73984  ultralytics.nn.modules.conv.Conv             [64, 128, 3, 2]               \n",
            "  2                  -1  1    111872  ultralytics.nn.modules.block.C3k2            [128, 256, 1, True, 0.25]     \n",
            "  3                  -1  1    590336  ultralytics.nn.modules.conv.Conv             [256, 256, 3, 2]              \n",
            "  4                  -1  1    444928  ultralytics.nn.modules.block.C3k2            [256, 512, 1, True, 0.25]     \n",
            "  5                  -1  1   2360320  ultralytics.nn.modules.conv.Conv             [512, 512, 3, 2]              \n",
            "  6                  -1  1   1380352  ultralytics.nn.modules.block.C3k2            [512, 512, 1, True]           \n",
            "  7                  -1  1   2360320  ultralytics.nn.modules.conv.Conv             [512, 512, 3, 2]              \n",
            "  8                  -1  1   1380352  ultralytics.nn.modules.block.C3k2            [512, 512, 1, True]           \n",
            "  9                  -1  1    656896  ultralytics.nn.modules.block.SPPF            [512, 512, 5]                 \n",
            " 10                  -1  1    990976  ultralytics.nn.modules.block.C2PSA           [512, 512, 1]                 \n",
            " 11                  -1  1         0  torch.nn.modules.upsampling.Upsample         [None, 2, 'nearest']          \n",
            " 12             [-1, 6]  1         0  ultralytics.nn.modules.conv.Concat           [1]                           \n"
          ]
        },
        {
          "metadata": {
            "tags": null
          },
          "name": "stderr",
          "output_type": "stream",
          "text": [
            "\n"
          ]
        },
        {
          "metadata": {
            "tags": null
          },
          "name": "stdout",
          "output_type": "stream",
          "text": [
            " 13                  -1  1   1642496  ultralytics.nn.modules.block.C3k2            [1024, 512, 1, True]          \n",
            " 14                  -1  1         0  torch.nn.modules.upsampling.Upsample         [None, 2, 'nearest']          \n",
            " 15             [-1, 4]  1         0  ultralytics.nn.modules.conv.Concat           [1]                           \n",
            " 16                  -1  1    542720  ultralytics.nn.modules.block.C3k2            [1024, 256, 1, True]          \n",
            " 17                  -1  1    590336  ultralytics.nn.modules.conv.Conv             [256, 256, 3, 2]              \n",
            " 18            [-1, 13]  1         0  ultralytics.nn.modules.conv.Concat           [1]                           \n",
            " 19                  -1  1   1511424  ultralytics.nn.modules.block.C3k2            [768, 512, 1, True]           \n",
            " 20                  -1  1   2360320  ultralytics.nn.modules.conv.Conv             [512, 512, 3, 2]              \n",
            " 21            [-1, 10]  1         0  ultralytics.nn.modules.conv.Concat           [1]                           \n",
            " 22                  -1  1   1642496  ultralytics.nn.modules.block.C3k2            [1024, 512, 1, True]          \n",
            " 23        [16, 19, 22]  1   1411795  ultralytics.nn.modules.head.Detect           [1, [256, 512, 512]]          \n",
            "YOLO11m summary: 231 layers, 20,053,779 parameters, 20,053,763 gradients, 68.2 GFLOPs\n",
            "\n",
            "Transferred 643/649 items from pretrained weights\n",
            "Freezing layer 'model.23.dfl.conv.weight'\n",
            "\u001b[34m\u001b[1mAMP: \u001b[0mrunning Automatic Mixed Precision (AMP) checks...\n",
            "Downloading https://github.com/ultralytics/assets/releases/download/v8.3.0/yolo11n.pt to 'yolo11n.pt'...\n"
          ]
        },
        {
          "metadata": {
            "tags": null
          },
          "name": "stderr",
          "output_type": "stream",
          "text": [
            "100%|██████████| 5.35M/5.35M [00:00<00:00, 153MB/s]\n"
          ]
        },
        {
          "metadata": {
            "tags": null
          },
          "name": "stdout",
          "output_type": "stream",
          "text": [
            "\u001b[34m\u001b[1mAMP: \u001b[0mchecks passed ✅\n",
            "\u001b[34m\u001b[1mtrain: \u001b[0mFast image access ✅ (ping: 0.0±0.0 ms, read: 35.4±14.3 MB/s, size: 71.1 KB)\n"
          ]
        },
        {
          "metadata": {
            "tags": null
          },
          "name": "stderr",
          "output_type": "stream",
          "text": [
            "\u001b[34m\u001b[1mtrain: \u001b[0mScanning /content/Olive-3/train/labels... 12360 images, 5 backgrounds, 0 corrupt: 100%|██████████| 12360/12360 [00:21<00:00, 575.08it/s]"
          ]
        },
        {
          "metadata": {
            "tags": null
          },
          "name": "stdout",
          "output_type": "stream",
          "text": [
            "\u001b[34m\u001b[1mtrain: \u001b[0m/content/Olive-3/train/images/IMG_20221105_094810_jpg.rf.97ce47c2d8a19d7b5015816af499f942.jpg: 3 duplicate labels removed\n",
            "\u001b[34m\u001b[1mtrain: \u001b[0m/content/Olive-3/train/images/IMG_20221105_094810_jpg.rf.ac6a65b6b3fc89eca93428f3203f5ac3.jpg: 3 duplicate labels removed\n",
            "\u001b[34m\u001b[1mtrain: \u001b[0m/content/Olive-3/train/images/IMG_20221105_131058_jpg.rf.2c8f2b289fb1efac3855971559a8bcb1.jpg: 1 duplicate labels removed\n",
            "\u001b[34m\u001b[1mtrain: \u001b[0m/content/Olive-3/train/images/IMG_20221105_131058_jpg.rf.4a3caaad66bfdc06cc79149c3c17d5a5.jpg: 1 duplicate labels removed\n",
            "\u001b[34m\u001b[1mtrain: \u001b[0m/content/Olive-3/train/images/IMG_20221105_131454_jpg.rf.99cf935ee1da5b13ee672ecf0ad88bda.jpg: 1 duplicate labels removed\n",
            "\u001b[34m\u001b[1mtrain: \u001b[0m/content/Olive-3/train/images/IMG_20221105_131454_jpg.rf.fe58f197192cf906d05b9e46d861dfab.jpg: 1 duplicate labels removed\n",
            "\u001b[34m\u001b[1mtrain: \u001b[0m/content/Olive-3/train/images/IMG_20221112_102138_jpg.rf.109898422b1bf4e82099adf2ceef176e.jpg: 1 duplicate labels removed\n",
            "\u001b[34m\u001b[1mtrain: \u001b[0m/content/Olive-3/train/images/IMG_20221112_102138_jpg.rf.8e99469ddf7179b4897c2e1ba51c1b63.jpg: 1 duplicate labels removed\n",
            "\u001b[34m\u001b[1mtrain: \u001b[0m/content/Olive-3/train/images/IMG_20221112_113105_jpg.rf.5aa60955f46ce96f638ae9ec865426f3.jpg: 1 duplicate labels removed\n",
            "\u001b[34m\u001b[1mtrain: \u001b[0m/content/Olive-3/train/images/IMG_20221112_113105_jpg.rf.e0c50416ac3626a10d2edeb3332517d5.jpg: 1 duplicate labels removed\n",
            "\u001b[34m\u001b[1mtrain: \u001b[0m/content/Olive-3/train/images/IMG_20221112_113119_jpg.rf.361b1975cb66937e89a1902d91543100.jpg: 1 duplicate labels removed\n",
            "\u001b[34m\u001b[1mtrain: \u001b[0m/content/Olive-3/train/images/IMG_20221112_113119_jpg.rf.aea2751dc9829364950bf35a5164a655.jpg: 1 duplicate labels removed\n",
            "\u001b[34m\u001b[1mtrain: \u001b[0m/content/Olive-3/train/images/IMG_20221112_123802_jpg.rf.244384a307b68e37f6cecd5c092068c3.jpg: 1 duplicate labels removed\n",
            "\u001b[34m\u001b[1mtrain: \u001b[0m/content/Olive-3/train/images/IMG_20221112_123802_jpg.rf.b445cf34697f513213fef447408f7f81.jpg: 1 duplicate labels removed\n",
            "\u001b[34m\u001b[1mtrain: \u001b[0m/content/Olive-3/train/images/IMG_20221112_130228_jpg.rf.cc12941bf7ef7231a89bd052a9dc7fa2.jpg: 1 duplicate labels removed\n",
            "\u001b[34m\u001b[1mtrain: \u001b[0m/content/Olive-3/train/images/IMG_20221112_130228_jpg.rf.ebde8e52c9d50886dc1b189ecbcdbe20.jpg: 1 duplicate labels removed\n"
          ]
        },
        {
          "metadata": {
            "tags": null
          },
          "name": "stderr",
          "output_type": "stream",
          "text": [
            "\n"
          ]
        },
        {
          "metadata": {
            "tags": null
          },
          "name": "stdout",
          "output_type": "stream",
          "text": [
            "\u001b[34m\u001b[1mtrain: \u001b[0mNew cache created: /content/Olive-3/train/labels.cache\n",
            "WARNING ⚠️ Box and segment counts should be equal, but got len(segments) = 6314, len(boxes) = 153839. To resolve this only boxes will be used and all segments will be removed. To avoid this please supply either a detect or segment dataset, not a detect-segment mixed dataset.\n",
            "\u001b[34m\u001b[1malbumentations: \u001b[0mBlur(p=0.01, blur_limit=(3, 7)), MedianBlur(p=0.01, blur_limit=(3, 7)), ToGray(p=0.01, num_output_channels=3, method='weighted_average'), CLAHE(p=0.01, clip_limit=(1.0, 4.0), tile_grid_size=(8, 8))\n",
            "\u001b[34m\u001b[1mval: \u001b[0mFast image access ✅ (ping: 0.0±0.0 ms, read: 16.3±8.4 MB/s, size: 71.2 KB)\n"
          ]
        },
        {
          "metadata": {
            "tags": null
          },
          "name": "stderr",
          "output_type": "stream",
          "text": [
            "\u001b[34m\u001b[1mval: \u001b[0mScanning /content/Olive-3/valid/labels... 1773 images, 0 backgrounds, 0 corrupt: 100%|██████████| 1773/1773 [00:02<00:00, 607.41it/s]"
          ]
        },
        {
          "metadata": {
            "tags": null
          },
          "name": "stdout",
          "output_type": "stream",
          "text": [
            "\u001b[34m\u001b[1mval: \u001b[0m/content/Olive-3/valid/images/IMG_20221105_131506_jpg.rf.4a35c52b8895a7a2ff79ba09b120f571.jpg: 3 duplicate labels removed\n",
            "\u001b[34m\u001b[1mval: \u001b[0m/content/Olive-3/valid/images/IMG_20221112_114559_jpg.rf.63df1e158be744a9ebee708ceb16d85e.jpg: 3 duplicate labels removed\n",
            "\u001b[34m\u001b[1mval: \u001b[0mNew cache created: /content/Olive-3/valid/labels.cache\n",
            "WARNING ⚠️ Box and segment counts should be equal, but got len(segments) = 907, len(boxes) = 21223. To resolve this only boxes will be used and all segments will be removed. To avoid this please supply either a detect or segment dataset, not a detect-segment mixed dataset.\n"
          ]
        },
        {
          "metadata": {
            "tags": null
          },
          "name": "stderr",
          "output_type": "stream",
          "text": [
            "\n"
          ]
        },
        {
          "metadata": {
            "tags": null
          },
          "name": "stdout",
          "output_type": "stream",
          "text": [
            "Plotting labels to runs/detect/olive_detection_v11/labels.jpg... \n",
            "\u001b[34m\u001b[1moptimizer:\u001b[0m 'optimizer=auto' found, ignoring 'lr0=0.01' and 'momentum=0.937' and determining best 'optimizer', 'lr0' and 'momentum' automatically... \n",
            "\u001b[34m\u001b[1moptimizer:\u001b[0m AdamW(lr=0.002, momentum=0.9) with parameter groups 106 weight(decay=0.0), 113 weight(decay=0.0005), 112 bias(decay=0.0)\n",
            "Image sizes 640 train, 640 val\n",
            "Using 2 dataloader workers\n",
            "Logging results to \u001b[1mruns/detect/olive_detection_v11\u001b[0m\n",
            "Starting training for 20 epochs...\n",
            "\n",
            "      Epoch    GPU_mem   box_loss   cls_loss   dfl_loss  Instances       Size\n"
          ]
        },
        {
          "metadata": {
            "tags": null
          },
          "name": "stderr",
          "output_type": "stream",
          "text": [
            "       1/20      5.02G      1.063     0.8518      2.313        131        640: 100%|██████████| 1545/1545 [08:36<00:00,  2.99it/s]\n",
            "                 Class     Images  Instances      Box(P          R      mAP50  mAP50-95): 100%|██████████| 111/111 [00:33<00:00,  3.32it/s]\n"
          ]
        },
        {
          "metadata": {
            "tags": null
          },
          "name": "stdout",
          "output_type": "stream",
          "text": [
            "                   all       1773      21223      0.584      0.504      0.501      0.283\n",
            "\n",
            "      Epoch    GPU_mem   box_loss   cls_loss   dfl_loss  Instances       Size\n"
          ]
        },
        {
          "metadata": {
            "tags": null
          },
          "name": "stderr",
          "output_type": "stream",
          "text": [
            "       2/20      6.73G      1.041     0.8083      2.288         86        640: 100%|██████████| 1545/1545 [08:39<00:00,  2.98it/s]\n",
            "                 Class     Images  Instances      Box(P          R      mAP50  mAP50-95): 100%|██████████| 111/111 [00:33<00:00,  3.36it/s]\n"
          ]
        },
        {
          "metadata": {
            "tags": null
          },
          "name": "stdout",
          "output_type": "stream",
          "text": [
            "                   all       1773      21223      0.636      0.589      0.581      0.358\n",
            "\n",
            "      Epoch    GPU_mem   box_loss   cls_loss   dfl_loss  Instances       Size\n"
          ]
        },
        {
          "metadata": {
            "tags": null
          },
          "name": "stderr",
          "output_type": "stream",
          "text": [
            "       3/20      6.79G      1.007     0.7719      2.236        173        640: 100%|██████████| 1545/1545 [08:50<00:00,  2.91it/s]\n",
            "                 Class     Images  Instances      Box(P          R      mAP50  mAP50-95): 100%|██████████| 111/111 [00:31<00:00,  3.51it/s]\n"
          ]
        },
        {
          "metadata": {
            "tags": null
          },
          "name": "stdout",
          "output_type": "stream",
          "text": [
            "                   all       1773      21223      0.632      0.611      0.616      0.394\n",
            "\n",
            "      Epoch    GPU_mem   box_loss   cls_loss   dfl_loss  Instances       Size\n"
          ]
        },
        {
          "metadata": {
            "tags": null
          },
          "name": "stderr",
          "output_type": "stream",
          "text": [
            "       4/20      6.86G     0.9751     0.7328      2.193         82        640: 100%|██████████| 1545/1545 [08:32<00:00,  3.02it/s]\n",
            "                 Class     Images  Instances      Box(P          R      mAP50  mAP50-95): 100%|██████████| 111/111 [00:31<00:00,  3.52it/s]\n"
          ]
        },
        {
          "metadata": {
            "tags": null
          },
          "name": "stdout",
          "output_type": "stream",
          "text": [
            "                   all       1773      21223      0.661      0.637      0.638      0.414\n",
            "\n",
            "      Epoch    GPU_mem   box_loss   cls_loss   dfl_loss  Instances       Size\n"
          ]
        },
        {
          "metadata": {
            "tags": null
          },
          "name": "stderr",
          "output_type": "stream",
          "text": [
            "       5/20      6.92G     0.9445     0.7037      2.148        103        640: 100%|██████████| 1545/1545 [08:26<00:00,  3.05it/s]\n",
            "                 Class     Images  Instances      Box(P          R      mAP50  mAP50-95): 100%|██████████| 111/111 [00:33<00:00,  3.29it/s]\n"
          ]
        },
        {
          "metadata": {
            "tags": null
          },
          "name": "stdout",
          "output_type": "stream",
          "text": [
            "                   all       1773      21223      0.702      0.647      0.669      0.432\n",
            "\n",
            "      Epoch    GPU_mem   box_loss   cls_loss   dfl_loss  Instances       Size\n"
          ]
        },
        {
          "metadata": {
            "tags": null
          },
          "name": "stderr",
          "output_type": "stream",
          "text": [
            "       6/20      6.99G     0.9193     0.6723      2.111        129        640: 100%|██████████| 1545/1545 [08:46<00:00,  2.93it/s]\n",
            "                 Class     Images  Instances      Box(P          R      mAP50  mAP50-95): 100%|██████████| 111/111 [00:35<00:00,  3.14it/s]\n"
          ]
        },
        {
          "metadata": {
            "tags": null
          },
          "name": "stdout",
          "output_type": "stream",
          "text": [
            "                   all       1773      21223      0.692      0.652      0.674      0.449\n",
            "\n",
            "      Epoch    GPU_mem   box_loss   cls_loss   dfl_loss  Instances       Size\n"
          ]
        },
        {
          "output_type": "stream",
          "name": "stderr",
          "text": [
            "       7/20      7.05G     0.9005     0.6536      2.084         58        640: 100%|██████████| 1545/1545 [08:25<00:00,  3.06it/s]\n",
            "                 Class     Images  Instances      Box(P          R      mAP50  mAP50-95): 100%|██████████| 111/111 [00:30<00:00,  3.64it/s]\n"
          ]
        },
        {
          "output_type": "stream",
          "name": "stdout",
          "text": [
            "                   all       1773      21223      0.699      0.666      0.694      0.456\n",
            "\n",
            "      Epoch    GPU_mem   box_loss   cls_loss   dfl_loss  Instances       Size\n"
          ]
        },
        {
          "output_type": "stream",
          "name": "stderr",
          "text": [
            "       8/20      7.12G     0.8815     0.6258      2.055        115        640: 100%|██████████| 1545/1545 [08:08<00:00,  3.16it/s]\n",
            "                 Class     Images  Instances      Box(P          R      mAP50  mAP50-95): 100%|██████████| 111/111 [00:30<00:00,  3.66it/s]"
          ]
        },
        {
          "output_type": "stream",
          "name": "stdout",
          "text": [
            "                   all       1773      21223      0.712      0.693      0.712      0.469\n"
          ]
        },
        {
          "output_type": "stream",
          "name": "stderr",
          "text": [
            "\n"
          ]
        },
        {
          "output_type": "stream",
          "name": "stdout",
          "text": [
            "\n",
            "      Epoch    GPU_mem   box_loss   cls_loss   dfl_loss  Instances       Size\n"
          ]
        },
        {
          "output_type": "stream",
          "name": "stderr",
          "text": [
            "       9/20      7.19G     0.8694     0.6133      2.034         51        640: 100%|██████████| 1545/1545 [08:07<00:00,  3.17it/s]\n",
            "                 Class     Images  Instances      Box(P          R      mAP50  mAP50-95): 100%|██████████| 111/111 [00:29<00:00,  3.72it/s]"
          ]
        },
        {
          "output_type": "stream",
          "name": "stdout",
          "text": [
            "                   all       1773      21223      0.717      0.692      0.724      0.479\n"
          ]
        },
        {
          "output_type": "stream",
          "name": "stderr",
          "text": [
            "\n"
          ]
        },
        {
          "output_type": "stream",
          "name": "stdout",
          "text": [
            "\n",
            "      Epoch    GPU_mem   box_loss   cls_loss   dfl_loss  Instances       Size\n"
          ]
        },
        {
          "output_type": "stream",
          "name": "stderr",
          "text": [
            "      10/20      7.25G      0.858     0.5995      2.019        114        640: 100%|██████████| 1545/1545 [08:07<00:00,  3.17it/s]\n",
            "                 Class     Images  Instances      Box(P          R      mAP50  mAP50-95): 100%|██████████| 111/111 [00:30<00:00,  3.69it/s]\n"
          ]
        },
        {
          "output_type": "stream",
          "name": "stdout",
          "text": [
            "                   all       1773      21223      0.739      0.692      0.745      0.492\n",
            "Closing dataloader mosaic\n",
            "\u001b[34m\u001b[1malbumentations: \u001b[0mBlur(p=0.01, blur_limit=(3, 7)), MedianBlur(p=0.01, blur_limit=(3, 7)), ToGray(p=0.01, num_output_channels=3, method='weighted_average'), CLAHE(p=0.01, clip_limit=(1.0, 4.0), tile_grid_size=(8, 8))\n",
            "\n",
            "      Epoch    GPU_mem   box_loss   cls_loss   dfl_loss  Instances       Size\n"
          ]
        },
        {
          "output_type": "stream",
          "name": "stderr",
          "text": [
            "      11/20      7.32G     0.8246     0.5598      1.954         62        640: 100%|██████████| 1545/1545 [07:59<00:00,  3.22it/s]\n",
            "                 Class     Images  Instances      Box(P          R      mAP50  mAP50-95): 100%|██████████| 111/111 [00:30<00:00,  3.66it/s]\n"
          ]
        },
        {
          "output_type": "stream",
          "name": "stdout",
          "text": [
            "                   all       1773      21223      0.718      0.703      0.741      0.499\n",
            "\n",
            "      Epoch    GPU_mem   box_loss   cls_loss   dfl_loss  Instances       Size\n"
          ]
        },
        {
          "output_type": "stream",
          "name": "stderr",
          "text": [
            "      12/20      7.38G     0.7924     0.5283      1.905         79        640: 100%|██████████| 1545/1545 [08:00<00:00,  3.22it/s]\n",
            "                 Class     Images  Instances      Box(P          R      mAP50  mAP50-95): 100%|██████████| 111/111 [00:30<00:00,  3.67it/s]"
          ]
        },
        {
          "output_type": "stream",
          "name": "stdout",
          "text": [
            "                   all       1773      21223      0.725      0.706      0.744      0.495\n"
          ]
        },
        {
          "output_type": "stream",
          "name": "stderr",
          "text": [
            "\n"
          ]
        },
        {
          "output_type": "stream",
          "name": "stdout",
          "text": [
            "\n",
            "      Epoch    GPU_mem   box_loss   cls_loss   dfl_loss  Instances       Size\n"
          ]
        },
        {
          "output_type": "stream",
          "name": "stderr",
          "text": [
            "      13/20      5.42G     0.7624     0.5038      1.863         47        640: 100%|██████████| 1545/1545 [08:00<00:00,  3.22it/s]\n",
            "                 Class     Images  Instances      Box(P          R      mAP50  mAP50-95): 100%|██████████| 111/111 [00:30<00:00,  3.70it/s]"
          ]
        },
        {
          "output_type": "stream",
          "name": "stdout",
          "text": [
            "                   all       1773      21223      0.724      0.722      0.755      0.512\n"
          ]
        },
        {
          "output_type": "stream",
          "name": "stderr",
          "text": [
            "\n"
          ]
        },
        {
          "output_type": "stream",
          "name": "stdout",
          "text": [
            "\n",
            "      Epoch    GPU_mem   box_loss   cls_loss   dfl_loss  Instances       Size\n"
          ]
        },
        {
          "output_type": "stream",
          "name": "stderr",
          "text": [
            "      14/20      7.04G     0.7338     0.4833      1.824        113        640: 100%|██████████| 1545/1545 [07:59<00:00,  3.22it/s]\n",
            "                 Class     Images  Instances      Box(P          R      mAP50  mAP50-95): 100%|██████████| 111/111 [00:30<00:00,  3.69it/s]"
          ]
        },
        {
          "output_type": "stream",
          "name": "stdout",
          "text": [
            "                   all       1773      21223      0.729      0.712      0.749      0.508\n"
          ]
        },
        {
          "output_type": "stream",
          "name": "stderr",
          "text": [
            "\n"
          ]
        },
        {
          "output_type": "stream",
          "name": "stdout",
          "text": [
            "\n",
            "      Epoch    GPU_mem   box_loss   cls_loss   dfl_loss  Instances       Size\n"
          ]
        },
        {
          "output_type": "stream",
          "name": "stderr",
          "text": [
            "      15/20      7.04G     0.7042     0.4594      1.787         93        640: 100%|██████████| 1545/1545 [08:00<00:00,  3.22it/s]\n",
            "                 Class     Images  Instances      Box(P          R      mAP50  mAP50-95): 100%|██████████| 111/111 [00:30<00:00,  3.69it/s]"
          ]
        },
        {
          "output_type": "stream",
          "name": "stdout",
          "text": [
            "                   all       1773      21223      0.735      0.718      0.755      0.508\n"
          ]
        },
        {
          "output_type": "stream",
          "name": "stderr",
          "text": [
            "\n"
          ]
        },
        {
          "output_type": "stream",
          "name": "stdout",
          "text": [
            "\n",
            "      Epoch    GPU_mem   box_loss   cls_loss   dfl_loss  Instances       Size\n"
          ]
        },
        {
          "output_type": "stream",
          "name": "stderr",
          "text": [
            "      16/20      7.04G     0.6749     0.4389      1.748        112        640: 100%|██████████| 1545/1545 [08:00<00:00,  3.21it/s]\n",
            "                 Class     Images  Instances      Box(P          R      mAP50  mAP50-95): 100%|██████████| 111/111 [00:29<00:00,  3.73it/s]"
          ]
        },
        {
          "output_type": "stream",
          "name": "stdout",
          "text": [
            "                   all       1773      21223      0.732      0.724      0.754       0.51\n"
          ]
        },
        {
          "output_type": "stream",
          "name": "stderr",
          "text": [
            "\n"
          ]
        },
        {
          "output_type": "stream",
          "name": "stdout",
          "text": [
            "\n",
            "      Epoch    GPU_mem   box_loss   cls_loss   dfl_loss  Instances       Size\n"
          ]
        },
        {
          "output_type": "stream",
          "name": "stderr",
          "text": [
            "      17/20      7.04G     0.6424     0.4145       1.71         47        640: 100%|██████████| 1545/1545 [07:58<00:00,  3.23it/s]\n",
            "                 Class     Images  Instances      Box(P          R      mAP50  mAP50-95): 100%|██████████| 111/111 [00:30<00:00,  3.65it/s]"
          ]
        },
        {
          "output_type": "stream",
          "name": "stdout",
          "text": [
            "                   all       1773      21223      0.727      0.719      0.745      0.502\n"
          ]
        },
        {
          "output_type": "stream",
          "name": "stderr",
          "text": [
            "\n"
          ]
        },
        {
          "output_type": "stream",
          "name": "stdout",
          "text": [
            "\n",
            "      Epoch    GPU_mem   box_loss   cls_loss   dfl_loss  Instances       Size\n"
          ]
        },
        {
          "output_type": "stream",
          "name": "stderr",
          "text": [
            "      18/20      7.04G     0.6137     0.3947      1.675        106        640: 100%|██████████| 1545/1545 [07:59<00:00,  3.22it/s]\n",
            "                 Class     Images  Instances      Box(P          R      mAP50  mAP50-95): 100%|██████████| 111/111 [00:30<00:00,  3.68it/s]"
          ]
        },
        {
          "output_type": "stream",
          "name": "stdout",
          "text": [
            "                   all       1773      21223      0.731       0.72      0.747      0.506\n"
          ]
        },
        {
          "output_type": "stream",
          "name": "stderr",
          "text": [
            "\n"
          ]
        },
        {
          "output_type": "stream",
          "name": "stdout",
          "text": [
            "\n",
            "      Epoch    GPU_mem   box_loss   cls_loss   dfl_loss  Instances       Size\n"
          ]
        },
        {
          "output_type": "stream",
          "name": "stderr",
          "text": [
            "      19/20      7.05G     0.5875     0.3754       1.64        147        640: 100%|██████████| 1545/1545 [07:58<00:00,  3.23it/s]\n",
            "                 Class     Images  Instances      Box(P          R      mAP50  mAP50-95): 100%|██████████| 111/111 [00:30<00:00,  3.68it/s]"
          ]
        },
        {
          "output_type": "stream",
          "name": "stdout",
          "text": [
            "                   all       1773      21223      0.736      0.726      0.748      0.507\n"
          ]
        },
        {
          "output_type": "stream",
          "name": "stderr",
          "text": [
            "\n"
          ]
        },
        {
          "output_type": "stream",
          "name": "stdout",
          "text": [
            "\n",
            "      Epoch    GPU_mem   box_loss   cls_loss   dfl_loss  Instances       Size\n"
          ]
        },
        {
          "output_type": "stream",
          "name": "stderr",
          "text": [
            "      20/20      7.12G     0.5597     0.3587      1.612         56        640: 100%|██████████| 1545/1545 [07:59<00:00,  3.22it/s]\n",
            "                 Class     Images  Instances      Box(P          R      mAP50  mAP50-95): 100%|██████████| 111/111 [00:30<00:00,  3.67it/s]"
          ]
        },
        {
          "output_type": "stream",
          "name": "stdout",
          "text": [
            "                   all       1773      21223      0.747      0.707      0.741      0.499\n"
          ]
        },
        {
          "output_type": "stream",
          "name": "stderr",
          "text": [
            "\n"
          ]
        },
        {
          "output_type": "stream",
          "name": "stdout",
          "text": [
            "\n",
            "20 epochs completed in 2.933 hours.\n",
            "Optimizer stripped from runs/detect/olive_detection_v11/weights/last.pt, 40.5MB\n",
            "Optimizer stripped from runs/detect/olive_detection_v11/weights/best.pt, 40.5MB\n",
            "\n",
            "Validating runs/detect/olive_detection_v11/weights/best.pt...\n",
            "Ultralytics 8.3.118 🚀 Python-3.11.12 torch-2.6.0+cu124 CUDA:0 (Tesla T4, 15095MiB)\n",
            "YOLO11m summary (fused): 125 layers, 20,030,803 parameters, 0 gradients, 67.6 GFLOPs\n"
          ]
        },
        {
          "output_type": "stream",
          "name": "stderr",
          "text": [
            "                 Class     Images  Instances      Box(P          R      mAP50  mAP50-95): 100%|██████████| 111/111 [00:32<00:00,  3.41it/s]\n"
          ]
        },
        {
          "output_type": "stream",
          "name": "stdout",
          "text": [
            "                   all       1773      21223      0.724      0.722      0.755      0.512\n",
            "Speed: 0.2ms preprocess, 11.0ms inference, 0.0ms loss, 1.6ms postprocess per image\n",
            "Results saved to \u001b[1mruns/detect/olive_detection_v11\u001b[0m\n"
          ]
        }
      ]
    },
    {
      "cell_type": "code",
      "source": [
        "oliveDetect_11_model3.save(\"oliveDetection3_YOLO11.pt\")"
      ],
      "metadata": {
        "id": "Twh9qwoYCzT7"
      },
      "execution_count": null,
      "outputs": []
    },
    {
      "cell_type": "markdown",
      "source": [
        "version3:"
      ],
      "metadata": {
        "id": "-feXlDHhb-VF"
      }
    },
    {
      "cell_type": "code",
      "source": [],
      "metadata": {
        "id": "3MqCrmtzcBMo",
        "colab": {
          "base_uri": "https://localhost:8080/"
        },
        "outputId": "f14e0ca8-1a6f-4a3e-9e8d-2468feb331ae"
      },
      "execution_count": null,
      "outputs": [
        {
          "metadata": {
            "tags": null
          },
          "name": "stdout",
          "output_type": "stream",
          "text": [
            "Creating new Ultralytics Settings v0.0.6 file ✅ \n",
            "View Ultralytics Settings with 'yolo settings' or at '/root/.config/Ultralytics/settings.json'\n",
            "Update Settings with 'yolo settings key=value', i.e. 'yolo settings runs_dir=path/to/dir'. For help see https://docs.ultralytics.com/quickstart/#ultralytics-settings.\n",
            "Downloading https://github.com/ultralytics/assets/releases/download/v8.3.0/yolo11m.pt to 'yolo11m.pt'...\n"
          ]
        },
        {
          "metadata": {
            "tags": null
          },
          "name": "stderr",
          "output_type": "stream",
          "text": [
            "100%|██████████| 38.8M/38.8M [00:00<00:00, 287MB/s]\n"
          ]
        },
        {
          "metadata": {
            "tags": null
          },
          "name": "stdout",
          "output_type": "stream",
          "text": [
            "Ultralytics 8.3.119 🚀 Python-3.11.12 torch-2.6.0+cu124 CUDA:0 (Tesla T4, 15095MiB)\n",
            "\u001b[34m\u001b[1mengine/trainer: \u001b[0mtask=detect, mode=train, model=yolo11m.pt, data=/content/Olive-3/data.yaml, epochs=30, time=None, patience=31, batch=8, imgsz=640, save=True, save_period=5, cache=False, device=None, workers=8, project=None, name=olive_detection_v11, exist_ok=False, pretrained=True, optimizer=auto, verbose=True, seed=0, deterministic=True, single_cls=False, rect=False, cos_lr=False, close_mosaic=10, resume=False, amp=True, fraction=1.0, profile=False, freeze=None, multi_scale=False, overlap_mask=True, mask_ratio=4, dropout=0.0, val=True, split=val, save_json=False, conf=None, iou=0.7, max_det=300, half=False, dnn=False, plots=True, source=None, vid_stride=1, stream_buffer=False, visualize=False, augment=False, agnostic_nms=False, classes=None, retina_masks=False, embed=None, show=False, save_frames=False, save_txt=False, save_conf=False, save_crop=False, show_labels=True, show_conf=True, show_boxes=True, line_width=None, format=torchscript, keras=False, optimize=False, int8=False, dynamic=False, simplify=True, opset=None, workspace=None, nms=False, lr0=0.01, lrf=0.01, momentum=0.937, weight_decay=0.0005, warmup_epochs=3.0, warmup_momentum=0.8, warmup_bias_lr=0.1, box=5.0, cls=0.3, dfl=2.5, pose=12.0, kobj=1.0, nbs=64, hsv_h=0.01, hsv_s=0.5, hsv_v=0.3, degrees=0.0, translate=0.0, scale=0.0, shear=0.0, perspective=0.0, flipud=0.0, fliplr=0.0, bgr=0.0, mosaic=1.0, mixup=0.0, cutmix=0.0, copy_paste=0.0, copy_paste_mode=flip, auto_augment=randaugment, erasing=0.4, cfg=None, tracker=botsort.yaml, save_dir=runs/detect/olive_detection_v11\n",
            "Downloading https://ultralytics.com/assets/Arial.ttf to '/root/.config/Ultralytics/Arial.ttf'...\n"
          ]
        },
        {
          "metadata": {
            "tags": null
          },
          "name": "stderr",
          "output_type": "stream",
          "text": [
            "100%|██████████| 755k/755k [00:00<00:00, 24.5MB/s]"
          ]
        },
        {
          "metadata": {
            "tags": null
          },
          "name": "stdout",
          "output_type": "stream",
          "text": [
            "Overriding model.yaml nc=80 with nc=1\n",
            "\n",
            "                   from  n    params  module                                       arguments                     \n",
            "  0                  -1  1      1856  ultralytics.nn.modules.conv.Conv             [3, 64, 3, 2]                 \n",
            "  1                  -1  1     73984  ultralytics.nn.modules.conv.Conv             [64, 128, 3, 2]               \n",
            "  2                  -1  1    111872  ultralytics.nn.modules.block.C3k2            [128, 256, 1, True, 0.25]     \n",
            "  3                  -1  1    590336  ultralytics.nn.modules.conv.Conv             [256, 256, 3, 2]              \n",
            "  4                  -1  1    444928  ultralytics.nn.modules.block.C3k2            [256, 512, 1, True, 0.25]     \n",
            "  5                  -1  1   2360320  ultralytics.nn.modules.conv.Conv             [512, 512, 3, 2]              \n",
            "  6                  -1  1   1380352  ultralytics.nn.modules.block.C3k2            [512, 512, 1, True]           \n",
            "  7                  -1  1   2360320  ultralytics.nn.modules.conv.Conv             [512, 512, 3, 2]              \n",
            "  8                  -1  1   1380352  ultralytics.nn.modules.block.C3k2            [512, 512, 1, True]           \n",
            "  9                  -1  1    656896  ultralytics.nn.modules.block.SPPF            [512, 512, 5]                 \n",
            " 10                  -1  1    990976  ultralytics.nn.modules.block.C2PSA           [512, 512, 1]                 \n",
            " 11                  -1  1         0  torch.nn.modules.upsampling.Upsample         [None, 2, 'nearest']          \n",
            " 12             [-1, 6]  1         0  ultralytics.nn.modules.conv.Concat           [1]                           \n"
          ]
        },
        {
          "metadata": {
            "tags": null
          },
          "name": "stderr",
          "output_type": "stream",
          "text": [
            "\n"
          ]
        },
        {
          "metadata": {
            "tags": null
          },
          "name": "stdout",
          "output_type": "stream",
          "text": [
            " 13                  -1  1   1642496  ultralytics.nn.modules.block.C3k2            [1024, 512, 1, True]          \n",
            " 14                  -1  1         0  torch.nn.modules.upsampling.Upsample         [None, 2, 'nearest']          \n",
            " 15             [-1, 4]  1         0  ultralytics.nn.modules.conv.Concat           [1]                           \n",
            " 16                  -1  1    542720  ultralytics.nn.modules.block.C3k2            [1024, 256, 1, True]          \n",
            " 17                  -1  1    590336  ultralytics.nn.modules.conv.Conv             [256, 256, 3, 2]              \n",
            " 18            [-1, 13]  1         0  ultralytics.nn.modules.conv.Concat           [1]                           \n",
            " 19                  -1  1   1511424  ultralytics.nn.modules.block.C3k2            [768, 512, 1, True]           \n",
            " 20                  -1  1   2360320  ultralytics.nn.modules.conv.Conv             [512, 512, 3, 2]              \n",
            " 21            [-1, 10]  1         0  ultralytics.nn.modules.conv.Concat           [1]                           \n",
            " 22                  -1  1   1642496  ultralytics.nn.modules.block.C3k2            [1024, 512, 1, True]          \n",
            " 23        [16, 19, 22]  1   1411795  ultralytics.nn.modules.head.Detect           [1, [256, 512, 512]]          \n",
            "YOLO11m summary: 231 layers, 20,053,779 parameters, 20,053,763 gradients, 68.2 GFLOPs\n",
            "\n",
            "Transferred 643/649 items from pretrained weights\n",
            "Freezing layer 'model.23.dfl.conv.weight'\n",
            "\u001b[34m\u001b[1mAMP: \u001b[0mrunning Automatic Mixed Precision (AMP) checks...\n",
            "Downloading https://github.com/ultralytics/assets/releases/download/v8.3.0/yolo11n.pt to 'yolo11n.pt'...\n"
          ]
        },
        {
          "metadata": {
            "tags": null
          },
          "name": "stderr",
          "output_type": "stream",
          "text": [
            "100%|██████████| 5.35M/5.35M [00:00<00:00, 112MB/s]\n"
          ]
        },
        {
          "metadata": {
            "tags": null
          },
          "name": "stdout",
          "output_type": "stream",
          "text": [
            "\u001b[34m\u001b[1mAMP: \u001b[0mchecks passed ✅\n",
            "\u001b[34m\u001b[1mtrain: \u001b[0mFast image access ✅ (ping: 0.0±0.0 ms, read: 1453.2±431.3 MB/s, size: 71.1 KB)\n"
          ]
        },
        {
          "metadata": {
            "tags": null
          },
          "name": "stderr",
          "output_type": "stream",
          "text": [
            "\u001b[34m\u001b[1mtrain: \u001b[0mScanning /content/Olive-3/train/labels... 12360 images, 5 backgrounds, 0 corrupt: 100%|██████████| 12360/12360 [00:06<00:00, 1804.79it/s]"
          ]
        },
        {
          "metadata": {
            "tags": null
          },
          "name": "stdout",
          "output_type": "stream",
          "text": [
            "\u001b[34m\u001b[1mtrain: \u001b[0m/content/Olive-3/train/images/IMG_20221105_094810_jpg.rf.97ce47c2d8a19d7b5015816af499f942.jpg: 3 duplicate labels removed\n",
            "\u001b[34m\u001b[1mtrain: \u001b[0m/content/Olive-3/train/images/IMG_20221105_094810_jpg.rf.ac6a65b6b3fc89eca93428f3203f5ac3.jpg: 3 duplicate labels removed\n",
            "\u001b[34m\u001b[1mtrain: \u001b[0m/content/Olive-3/train/images/IMG_20221105_131058_jpg.rf.2c8f2b289fb1efac3855971559a8bcb1.jpg: 1 duplicate labels removed\n",
            "\u001b[34m\u001b[1mtrain: \u001b[0m/content/Olive-3/train/images/IMG_20221105_131058_jpg.rf.4a3caaad66bfdc06cc79149c3c17d5a5.jpg: 1 duplicate labels removed\n",
            "\u001b[34m\u001b[1mtrain: \u001b[0m/content/Olive-3/train/images/IMG_20221105_131454_jpg.rf.99cf935ee1da5b13ee672ecf0ad88bda.jpg: 1 duplicate labels removed\n",
            "\u001b[34m\u001b[1mtrain: \u001b[0m/content/Olive-3/train/images/IMG_20221105_131454_jpg.rf.fe58f197192cf906d05b9e46d861dfab.jpg: 1 duplicate labels removed\n",
            "\u001b[34m\u001b[1mtrain: \u001b[0m/content/Olive-3/train/images/IMG_20221112_102138_jpg.rf.109898422b1bf4e82099adf2ceef176e.jpg: 1 duplicate labels removed\n",
            "\u001b[34m\u001b[1mtrain: \u001b[0m/content/Olive-3/train/images/IMG_20221112_102138_jpg.rf.8e99469ddf7179b4897c2e1ba51c1b63.jpg: 1 duplicate labels removed\n",
            "\u001b[34m\u001b[1mtrain: \u001b[0m/content/Olive-3/train/images/IMG_20221112_113105_jpg.rf.5aa60955f46ce96f638ae9ec865426f3.jpg: 1 duplicate labels removed\n",
            "\u001b[34m\u001b[1mtrain: \u001b[0m/content/Olive-3/train/images/IMG_20221112_113105_jpg.rf.e0c50416ac3626a10d2edeb3332517d5.jpg: 1 duplicate labels removed\n",
            "\u001b[34m\u001b[1mtrain: \u001b[0m/content/Olive-3/train/images/IMG_20221112_113119_jpg.rf.361b1975cb66937e89a1902d91543100.jpg: 1 duplicate labels removed\n",
            "\u001b[34m\u001b[1mtrain: \u001b[0m/content/Olive-3/train/images/IMG_20221112_113119_jpg.rf.aea2751dc9829364950bf35a5164a655.jpg: 1 duplicate labels removed\n",
            "\u001b[34m\u001b[1mtrain: \u001b[0m/content/Olive-3/train/images/IMG_20221112_123802_jpg.rf.244384a307b68e37f6cecd5c092068c3.jpg: 1 duplicate labels removed\n",
            "\u001b[34m\u001b[1mtrain: \u001b[0m/content/Olive-3/train/images/IMG_20221112_123802_jpg.rf.b445cf34697f513213fef447408f7f81.jpg: 1 duplicate labels removed\n",
            "\u001b[34m\u001b[1mtrain: \u001b[0m/content/Olive-3/train/images/IMG_20221112_130228_jpg.rf.cc12941bf7ef7231a89bd052a9dc7fa2.jpg: 1 duplicate labels removed\n",
            "\u001b[34m\u001b[1mtrain: \u001b[0m/content/Olive-3/train/images/IMG_20221112_130228_jpg.rf.ebde8e52c9d50886dc1b189ecbcdbe20.jpg: 1 duplicate labels removed\n"
          ]
        },
        {
          "metadata": {
            "tags": null
          },
          "name": "stderr",
          "output_type": "stream",
          "text": [
            "\n"
          ]
        },
        {
          "metadata": {
            "tags": null
          },
          "name": "stdout",
          "output_type": "stream",
          "text": [
            "\u001b[34m\u001b[1mtrain: \u001b[0mNew cache created: /content/Olive-3/train/labels.cache\n",
            "WARNING ⚠️ Box and segment counts should be equal, but got len(segments) = 6314, len(boxes) = 153839. To resolve this only boxes will be used and all segments will be removed. To avoid this please supply either a detect or segment dataset, not a detect-segment mixed dataset.\n",
            "\u001b[34m\u001b[1malbumentations: \u001b[0mBlur(p=0.01, blur_limit=(3, 7)), MedianBlur(p=0.01, blur_limit=(3, 7)), ToGray(p=0.01, num_output_channels=3, method='weighted_average'), CLAHE(p=0.01, clip_limit=(1.0, 4.0), tile_grid_size=(8, 8))\n",
            "\u001b[34m\u001b[1mval: \u001b[0mFast image access ✅ (ping: 0.0±0.0 ms, read: 665.4±408.6 MB/s, size: 71.2 KB)\n"
          ]
        },
        {
          "metadata": {
            "tags": null
          },
          "name": "stderr",
          "output_type": "stream",
          "text": [
            "\u001b[34m\u001b[1mval: \u001b[0mScanning /content/Olive-3/valid/labels... 1773 images, 0 backgrounds, 0 corrupt: 100%|██████████| 1773/1773 [00:01<00:00, 1582.41it/s]"
          ]
        },
        {
          "metadata": {
            "tags": null
          },
          "name": "stdout",
          "output_type": "stream",
          "text": [
            "\u001b[34m\u001b[1mval: \u001b[0m/content/Olive-3/valid/images/IMG_20221105_131506_jpg.rf.4a35c52b8895a7a2ff79ba09b120f571.jpg: 3 duplicate labels removed\n",
            "\u001b[34m\u001b[1mval: \u001b[0m/content/Olive-3/valid/images/IMG_20221112_114559_jpg.rf.63df1e158be744a9ebee708ceb16d85e.jpg: 3 duplicate labels removed\n"
          ]
        },
        {
          "metadata": {
            "tags": null
          },
          "name": "stderr",
          "output_type": "stream",
          "text": [
            "\n"
          ]
        },
        {
          "metadata": {
            "tags": null
          },
          "name": "stdout",
          "output_type": "stream",
          "text": [
            "\u001b[34m\u001b[1mval: \u001b[0mNew cache created: /content/Olive-3/valid/labels.cache\n",
            "WARNING ⚠️ Box and segment counts should be equal, but got len(segments) = 907, len(boxes) = 21223. To resolve this only boxes will be used and all segments will be removed. To avoid this please supply either a detect or segment dataset, not a detect-segment mixed dataset.\n",
            "Plotting labels to runs/detect/olive_detection_v11/labels.jpg... \n",
            "\u001b[34m\u001b[1moptimizer:\u001b[0m 'optimizer=auto' found, ignoring 'lr0=0.01' and 'momentum=0.937' and determining best 'optimizer', 'lr0' and 'momentum' automatically... \n",
            "\u001b[34m\u001b[1moptimizer:\u001b[0m AdamW(lr=0.002, momentum=0.9) with parameter groups 106 weight(decay=0.0), 113 weight(decay=0.0005), 112 bias(decay=0.0)\n",
            "Image sizes 640 train, 640 val\n",
            "Using 2 dataloader workers\n",
            "Logging results to \u001b[1mruns/detect/olive_detection_v11\u001b[0m\n",
            "Starting training for 30 epochs...\n",
            "\n",
            "      Epoch    GPU_mem   box_loss   cls_loss   dfl_loss  Instances       Size\n"
          ]
        },
        {
          "metadata": {
            "tags": null
          },
          "name": "stderr",
          "output_type": "stream",
          "text": [
            "       1/30      5.06G      1.056     0.8482      2.285        106        640: 100%|██████████| 1545/1545 [08:06<00:00,  3.18it/s]\n",
            "                 Class     Images  Instances      Box(P          R      mAP50  mAP50-95): 100%|██████████| 111/111 [00:30<00:00,  3.70it/s]\n"
          ]
        },
        {
          "metadata": {
            "tags": null
          },
          "name": "stdout",
          "output_type": "stream",
          "text": [
            "                   all       1773      21223      0.581      0.558       0.53      0.289\n",
            "\n",
            "      Epoch    GPU_mem   box_loss   cls_loss   dfl_loss  Instances       Size\n"
          ]
        },
        {
          "metadata": {
            "tags": null
          },
          "name": "stderr",
          "output_type": "stream",
          "text": [
            "       2/30      6.77G      1.046     0.8153      2.281        150        640: 100%|██████████| 1545/1545 [07:53<00:00,  3.26it/s]\n",
            "                 Class     Images  Instances      Box(P          R      mAP50  mAP50-95): 100%|██████████| 111/111 [00:28<00:00,  3.88it/s]\n"
          ]
        },
        {
          "metadata": {
            "tags": null
          },
          "name": "stdout",
          "output_type": "stream",
          "text": [
            "                   all       1773      21223      0.624      0.595       0.58       0.35\n",
            "\n",
            "      Epoch    GPU_mem   box_loss   cls_loss   dfl_loss  Instances       Size\n"
          ]
        },
        {
          "metadata": {
            "tags": null
          },
          "name": "stderr",
          "output_type": "stream",
          "text": [
            "       3/30      6.83G      1.017     0.7785      2.232        137        640: 100%|██████████| 1545/1545 [07:47<00:00,  3.30it/s]\n",
            "                 Class     Images  Instances      Box(P          R      mAP50  mAP50-95): 100%|██████████| 111/111 [00:28<00:00,  3.85it/s]\n"
          ]
        },
        {
          "metadata": {
            "tags": null
          },
          "name": "stdout",
          "output_type": "stream",
          "text": [
            "                   all       1773      21223      0.612      0.538      0.549      0.356\n",
            "\n",
            "      Epoch    GPU_mem   box_loss   cls_loss   dfl_loss  Instances       Size\n"
          ]
        },
        {
          "metadata": {
            "tags": null
          },
          "name": "stderr",
          "output_type": "stream",
          "text": [
            "       4/30       6.9G     0.9724     0.7383      2.179         95        640: 100%|██████████| 1545/1545 [07:45<00:00,  3.32it/s]\n",
            "                 Class     Images  Instances      Box(P          R      mAP50  mAP50-95): 100%|██████████| 111/111 [00:28<00:00,  3.91it/s]\n"
          ]
        },
        {
          "metadata": {
            "tags": null
          },
          "name": "stdout",
          "output_type": "stream",
          "text": [
            "                   all       1773      21223      0.646      0.643      0.644      0.417\n",
            "\n",
            "      Epoch    GPU_mem   box_loss   cls_loss   dfl_loss  Instances       Size\n"
          ]
        },
        {
          "metadata": {
            "tags": null
          },
          "name": "stderr",
          "output_type": "stream",
          "text": [
            "       5/30      6.96G     0.9468     0.7054       2.14        137        640: 100%|██████████| 1545/1545 [07:46<00:00,  3.31it/s]\n",
            "                 Class     Images  Instances      Box(P          R      mAP50  mAP50-95): 100%|██████████| 111/111 [00:28<00:00,  3.89it/s]\n"
          ]
        },
        {
          "metadata": {
            "tags": null
          },
          "name": "stdout",
          "output_type": "stream",
          "text": [
            "                   all       1773      21223      0.666       0.65      0.659      0.425\n",
            "\n",
            "      Epoch    GPU_mem   box_loss   cls_loss   dfl_loss  Instances       Size\n"
          ]
        },
        {
          "metadata": {
            "tags": null
          },
          "name": "stderr",
          "output_type": "stream",
          "text": [
            "       6/30      7.03G     0.9311      0.681      2.117        234        640: 100%|██████████| 1545/1545 [07:46<00:00,  3.31it/s]\n",
            "                 Class     Images  Instances      Box(P          R      mAP50  mAP50-95): 100%|██████████| 111/111 [00:28<00:00,  3.90it/s]\n"
          ]
        },
        {
          "metadata": {
            "tags": null
          },
          "name": "stdout",
          "output_type": "stream",
          "text": [
            "                   all       1773      21223      0.685      0.665      0.681      0.451\n",
            "\n",
            "      Epoch    GPU_mem   box_loss   cls_loss   dfl_loss  Instances       Size\n"
          ]
        },
        {
          "metadata": {
            "tags": null
          },
          "name": "stderr",
          "output_type": "stream",
          "text": [
            "       7/30       7.1G     0.9102      0.661      2.088         95        640: 100%|██████████| 1545/1545 [07:45<00:00,  3.32it/s]\n",
            "                 Class     Images  Instances      Box(P          R      mAP50  mAP50-95): 100%|██████████| 111/111 [00:28<00:00,  3.92it/s]\n"
          ]
        },
        {
          "metadata": {
            "tags": null
          },
          "name": "stdout",
          "output_type": "stream",
          "text": [
            "                   all       1773      21223      0.706      0.676        0.7      0.452\n",
            "\n",
            "      Epoch    GPU_mem   box_loss   cls_loss   dfl_loss  Instances       Size\n"
          ]
        },
        {
          "metadata": {
            "tags": null
          },
          "name": "stderr",
          "output_type": "stream",
          "text": [
            "       8/30      7.16G     0.8945     0.6426      2.062         57        640: 100%|██████████| 1545/1545 [07:46<00:00,  3.31it/s]\n",
            "                 Class     Images  Instances      Box(P          R      mAP50  mAP50-95): 100%|██████████| 111/111 [00:28<00:00,  3.91it/s]\n"
          ]
        },
        {
          "metadata": {
            "tags": null
          },
          "name": "stdout",
          "output_type": "stream",
          "text": [
            "                   all       1773      21223      0.688      0.674      0.699      0.465\n",
            "\n",
            "      Epoch    GPU_mem   box_loss   cls_loss   dfl_loss  Instances       Size\n"
          ]
        },
        {
          "metadata": {
            "tags": null
          },
          "name": "stderr",
          "output_type": "stream",
          "text": [
            "       9/30      7.23G     0.8786     0.6257      2.036         94        640: 100%|██████████| 1545/1545 [07:47<00:00,  3.31it/s]\n",
            "                 Class     Images  Instances      Box(P          R      mAP50  mAP50-95): 100%|██████████| 111/111 [00:28<00:00,  3.90it/s]\n"
          ]
        },
        {
          "metadata": {
            "tags": null
          },
          "name": "stdout",
          "output_type": "stream",
          "text": [
            "                   all       1773      21223      0.717      0.672       0.72      0.467\n",
            "\n",
            "      Epoch    GPU_mem   box_loss   cls_loss   dfl_loss  Instances       Size\n"
          ]
        },
        {
          "metadata": {
            "tags": null
          },
          "name": "stderr",
          "output_type": "stream",
          "text": [
            "      10/30      7.29G      0.869     0.6146      2.024        122        640: 100%|██████████| 1545/1545 [07:47<00:00,  3.30it/s]\n",
            "                 Class     Images  Instances      Box(P          R      mAP50  mAP50-95): 100%|██████████| 111/111 [00:28<00:00,  3.91it/s]"
          ]
        },
        {
          "metadata": {
            "tags": null
          },
          "name": "stdout",
          "output_type": "stream",
          "text": [
            "                   all       1773      21223      0.707      0.688      0.719       0.48\n"
          ]
        },
        {
          "metadata": {
            "tags": null
          },
          "name": "stderr",
          "output_type": "stream",
          "text": [
            "\n"
          ]
        },
        {
          "metadata": {
            "tags": null
          },
          "name": "stdout",
          "output_type": "stream",
          "text": [
            "\n",
            "      Epoch    GPU_mem   box_loss   cls_loss   dfl_loss  Instances       Size\n"
          ]
        },
        {
          "metadata": {
            "tags": null
          },
          "name": "stderr",
          "output_type": "stream",
          "text": [
            "      11/30      7.36G     0.8508     0.5952      1.998        162        640: 100%|██████████| 1545/1545 [07:47<00:00,  3.30it/s]\n",
            "                 Class     Images  Instances      Box(P          R      mAP50  mAP50-95): 100%|██████████| 111/111 [00:28<00:00,  3.92it/s]\n"
          ]
        },
        {
          "metadata": {
            "tags": null
          },
          "name": "stdout",
          "output_type": "stream",
          "text": [
            "                   all       1773      21223      0.711      0.697      0.726      0.483\n",
            "\n",
            "      Epoch    GPU_mem   box_loss   cls_loss   dfl_loss  Instances       Size\n"
          ]
        },
        {
          "metadata": {
            "tags": null
          },
          "name": "stderr",
          "output_type": "stream",
          "text": [
            "      12/30      5.29G     0.8436     0.5867      1.989        111        640: 100%|██████████| 1545/1545 [07:49<00:00,  3.29it/s]\n",
            "                 Class     Images  Instances      Box(P          R      mAP50  mAP50-95): 100%|██████████| 111/111 [00:28<00:00,  3.93it/s]"
          ]
        },
        {
          "metadata": {
            "tags": null
          },
          "name": "stdout",
          "output_type": "stream",
          "text": [
            "                   all       1773      21223       0.71      0.692      0.725      0.492\n"
          ]
        },
        {
          "metadata": {
            "tags": null
          },
          "name": "stderr",
          "output_type": "stream",
          "text": [
            "\n"
          ]
        },
        {
          "metadata": {
            "tags": null
          },
          "name": "stdout",
          "output_type": "stream",
          "text": [
            "\n",
            "      Epoch    GPU_mem   box_loss   cls_loss   dfl_loss  Instances       Size\n"
          ]
        },
        {
          "metadata": {
            "tags": null
          },
          "name": "stderr",
          "output_type": "stream",
          "text": [
            "      13/30      7.14G     0.8294     0.5716      1.971         84        640: 100%|██████████| 1545/1545 [07:47<00:00,  3.31it/s]\n",
            "                 Class     Images  Instances      Box(P          R      mAP50  mAP50-95): 100%|██████████| 111/111 [00:28<00:00,  3.90it/s]"
          ]
        },
        {
          "metadata": {
            "tags": null
          },
          "name": "stdout",
          "output_type": "stream",
          "text": [
            "                   all       1773      21223      0.706      0.715      0.739      0.494\n"
          ]
        },
        {
          "metadata": {
            "tags": null
          },
          "name": "stderr",
          "output_type": "stream",
          "text": [
            "\n"
          ]
        },
        {
          "metadata": {
            "tags": null
          },
          "name": "stdout",
          "output_type": "stream",
          "text": [
            "\n",
            "      Epoch    GPU_mem   box_loss   cls_loss   dfl_loss  Instances       Size\n"
          ]
        },
        {
          "metadata": {
            "tags": null
          },
          "name": "stderr",
          "output_type": "stream",
          "text": [
            "      14/30      7.14G      0.826     0.5663      1.963         90        640: 100%|██████████| 1545/1545 [07:45<00:00,  3.32it/s]\n",
            "                 Class     Images  Instances      Box(P          R      mAP50  mAP50-95): 100%|██████████| 111/111 [00:28<00:00,  3.91it/s]\n"
          ]
        },
        {
          "metadata": {
            "tags": null
          },
          "name": "stdout",
          "output_type": "stream",
          "text": [
            "                   all       1773      21223      0.708      0.714      0.749      0.504\n",
            "\n",
            "      Epoch    GPU_mem   box_loss   cls_loss   dfl_loss  Instances       Size\n"
          ]
        },
        {
          "metadata": {
            "tags": null
          },
          "name": "stderr",
          "output_type": "stream",
          "text": [
            "      15/30      7.14G     0.8179     0.5561      1.947         58        640: 100%|██████████| 1545/1545 [07:46<00:00,  3.31it/s]\n",
            "                 Class     Images  Instances      Box(P          R      mAP50  mAP50-95): 100%|██████████| 111/111 [00:28<00:00,  3.89it/s]\n"
          ]
        },
        {
          "metadata": {
            "tags": null
          },
          "name": "stdout",
          "output_type": "stream",
          "text": [
            "                   all       1773      21223      0.719      0.718      0.751       0.51\n",
            "\n",
            "      Epoch    GPU_mem   box_loss   cls_loss   dfl_loss  Instances       Size\n"
          ]
        },
        {
          "metadata": {
            "tags": null
          },
          "name": "stderr",
          "output_type": "stream",
          "text": [
            "      16/30      7.14G     0.8007      0.545      1.927        106        640: 100%|██████████| 1545/1545 [07:47<00:00,  3.31it/s]\n",
            "                 Class     Images  Instances      Box(P          R      mAP50  mAP50-95): 100%|██████████| 111/111 [00:28<00:00,  3.94it/s]"
          ]
        },
        {
          "metadata": {
            "tags": null
          },
          "name": "stdout",
          "output_type": "stream",
          "text": [
            "                   all       1773      21223      0.731      0.723      0.763      0.517\n"
          ]
        },
        {
          "metadata": {
            "tags": null
          },
          "name": "stderr",
          "output_type": "stream",
          "text": [
            "\n"
          ]
        },
        {
          "metadata": {
            "tags": null
          },
          "name": "stdout",
          "output_type": "stream",
          "text": [
            "\n",
            "      Epoch    GPU_mem   box_loss   cls_loss   dfl_loss  Instances       Size\n"
          ]
        },
        {
          "output_type": "stream",
          "name": "stderr",
          "text": [
            "      17/30      7.14G     0.7888     0.5334      1.907        131        640: 100%|██████████| 1545/1545 [07:46<00:00,  3.31it/s]\n",
            "                 Class     Images  Instances      Box(P          R      mAP50  mAP50-95): 100%|██████████| 111/111 [00:28<00:00,  3.92it/s]\n"
          ]
        },
        {
          "output_type": "stream",
          "name": "stdout",
          "text": [
            "                   all       1773      21223      0.725       0.72      0.754      0.517\n",
            "\n",
            "      Epoch    GPU_mem   box_loss   cls_loss   dfl_loss  Instances       Size\n"
          ]
        },
        {
          "output_type": "stream",
          "name": "stderr",
          "text": [
            "      18/30      7.17G     0.7881     0.5264      1.907        119        640: 100%|██████████| 1545/1545 [07:47<00:00,  3.31it/s]\n",
            "                 Class     Images  Instances      Box(P          R      mAP50  mAP50-95): 100%|██████████| 111/111 [00:28<00:00,  3.93it/s]"
          ]
        },
        {
          "output_type": "stream",
          "name": "stdout",
          "text": [
            "                   all       1773      21223      0.735      0.724      0.768      0.524\n"
          ]
        },
        {
          "output_type": "stream",
          "name": "stderr",
          "text": [
            "\n"
          ]
        },
        {
          "output_type": "stream",
          "name": "stdout",
          "text": [
            "\n",
            "      Epoch    GPU_mem   box_loss   cls_loss   dfl_loss  Instances       Size\n"
          ]
        },
        {
          "output_type": "stream",
          "name": "stderr",
          "text": [
            "      19/30      7.24G     0.7748     0.5162      1.895         63        640: 100%|██████████| 1545/1545 [07:46<00:00,  3.31it/s]\n",
            "                 Class     Images  Instances      Box(P          R      mAP50  mAP50-95): 100%|██████████| 111/111 [00:28<00:00,  3.90it/s]"
          ]
        },
        {
          "output_type": "stream",
          "name": "stdout",
          "text": [
            "                   all       1773      21223      0.737      0.717      0.767      0.521\n"
          ]
        },
        {
          "output_type": "stream",
          "name": "stderr",
          "text": [
            "\n"
          ]
        },
        {
          "output_type": "stream",
          "name": "stdout",
          "text": [
            "\n",
            "      Epoch    GPU_mem   box_loss   cls_loss   dfl_loss  Instances       Size\n"
          ]
        },
        {
          "output_type": "stream",
          "name": "stderr",
          "text": [
            "      20/30       7.3G     0.7687     0.5091      1.879        148        640: 100%|██████████| 1545/1545 [07:47<00:00,  3.31it/s]\n",
            "                 Class     Images  Instances      Box(P          R      mAP50  mAP50-95): 100%|██████████| 111/111 [00:28<00:00,  3.90it/s]"
          ]
        },
        {
          "output_type": "stream",
          "name": "stdout",
          "text": [
            "                   all       1773      21223      0.741      0.725      0.775       0.53\n"
          ]
        },
        {
          "output_type": "stream",
          "name": "stderr",
          "text": [
            "\n"
          ]
        },
        {
          "output_type": "stream",
          "name": "stdout",
          "text": [
            "Closing dataloader mosaic\n",
            "\u001b[34m\u001b[1malbumentations: \u001b[0mBlur(p=0.01, blur_limit=(3, 7)), MedianBlur(p=0.01, blur_limit=(3, 7)), ToGray(p=0.01, num_output_channels=3, method='weighted_average'), CLAHE(p=0.01, clip_limit=(1.0, 4.0), tile_grid_size=(8, 8))\n",
            "\n",
            "      Epoch    GPU_mem   box_loss   cls_loss   dfl_loss  Instances       Size\n"
          ]
        },
        {
          "output_type": "stream",
          "name": "stderr",
          "text": [
            "      21/30      7.37G     0.7375     0.4742      1.819         48        640: 100%|██████████| 1545/1545 [07:38<00:00,  3.37it/s]\n",
            "                 Class     Images  Instances      Box(P          R      mAP50  mAP50-95): 100%|██████████| 111/111 [00:28<00:00,  3.87it/s]"
          ]
        },
        {
          "output_type": "stream",
          "name": "stdout",
          "text": [
            "                   all       1773      21223      0.735      0.725      0.773      0.529\n"
          ]
        },
        {
          "output_type": "stream",
          "name": "stderr",
          "text": [
            "\n"
          ]
        },
        {
          "output_type": "stream",
          "name": "stdout",
          "text": [
            "\n",
            "      Epoch    GPU_mem   box_loss   cls_loss   dfl_loss  Instances       Size\n"
          ]
        },
        {
          "output_type": "stream",
          "name": "stderr",
          "text": [
            "      22/30      5.62G      0.701     0.4513      1.773         99        640: 100%|██████████| 1545/1545 [07:38<00:00,  3.37it/s]\n",
            "                 Class     Images  Instances      Box(P          R      mAP50  mAP50-95): 100%|██████████| 111/111 [00:28<00:00,  3.92it/s]"
          ]
        },
        {
          "output_type": "stream",
          "name": "stdout",
          "text": [
            "                   all       1773      21223      0.741      0.724      0.774      0.533\n"
          ]
        },
        {
          "output_type": "stream",
          "name": "stderr",
          "text": [
            "\n"
          ]
        },
        {
          "output_type": "stream",
          "name": "stdout",
          "text": [
            "\n",
            "      Epoch    GPU_mem   box_loss   cls_loss   dfl_loss  Instances       Size\n"
          ]
        },
        {
          "output_type": "stream",
          "name": "stderr",
          "text": [
            "      23/30      7.25G     0.6753     0.4327       1.74         82        640: 100%|██████████| 1545/1545 [07:38<00:00,  3.37it/s]\n",
            "                 Class     Images  Instances      Box(P          R      mAP50  mAP50-95): 100%|██████████| 111/111 [00:28<00:00,  3.94it/s]"
          ]
        },
        {
          "output_type": "stream",
          "name": "stdout",
          "text": [
            "                   all       1773      21223      0.754      0.724      0.777      0.532\n"
          ]
        },
        {
          "output_type": "stream",
          "name": "stderr",
          "text": [
            "\n"
          ]
        },
        {
          "output_type": "stream",
          "name": "stdout",
          "text": [
            "\n",
            "      Epoch    GPU_mem   box_loss   cls_loss   dfl_loss  Instances       Size\n"
          ]
        },
        {
          "output_type": "stream",
          "name": "stderr",
          "text": [
            "      24/30      7.25G     0.6496     0.4146       1.71         45        640: 100%|██████████| 1545/1545 [07:37<00:00,  3.38it/s]\n",
            "                 Class     Images  Instances      Box(P          R      mAP50  mAP50-95): 100%|██████████| 111/111 [00:28<00:00,  3.90it/s]"
          ]
        },
        {
          "output_type": "stream",
          "name": "stdout",
          "text": [
            "                   all       1773      21223       0.75      0.723      0.773      0.531\n"
          ]
        },
        {
          "output_type": "stream",
          "name": "stderr",
          "text": [
            "\n"
          ]
        },
        {
          "output_type": "stream",
          "name": "stdout",
          "text": [
            "\n",
            "      Epoch    GPU_mem   box_loss   cls_loss   dfl_loss  Instances       Size\n"
          ]
        },
        {
          "output_type": "stream",
          "name": "stderr",
          "text": [
            "      25/30      7.25G     0.6236     0.4009      1.677        135        640: 100%|██████████| 1545/1545 [07:37<00:00,  3.38it/s]\n",
            "                 Class     Images  Instances      Box(P          R      mAP50  mAP50-95): 100%|██████████| 111/111 [00:28<00:00,  3.93it/s]"
          ]
        },
        {
          "output_type": "stream",
          "name": "stdout",
          "text": [
            "                   all       1773      21223      0.753      0.723      0.771      0.527\n"
          ]
        },
        {
          "output_type": "stream",
          "name": "stderr",
          "text": [
            "\n"
          ]
        },
        {
          "output_type": "stream",
          "name": "stdout",
          "text": [
            "\n",
            "      Epoch    GPU_mem   box_loss   cls_loss   dfl_loss  Instances       Size\n"
          ]
        },
        {
          "output_type": "stream",
          "name": "stderr",
          "text": [
            "      26/30      7.25G     0.6029     0.3864      1.651         53        640: 100%|██████████| 1545/1545 [07:37<00:00,  3.38it/s]\n",
            "                 Class     Images  Instances      Box(P          R      mAP50  mAP50-95): 100%|██████████| 111/111 [00:28<00:00,  3.94it/s]"
          ]
        },
        {
          "output_type": "stream",
          "name": "stdout",
          "text": [
            "                   all       1773      21223      0.762      0.721      0.772      0.528\n"
          ]
        },
        {
          "output_type": "stream",
          "name": "stderr",
          "text": [
            "\n"
          ]
        },
        {
          "output_type": "stream",
          "name": "stdout",
          "text": [
            "\n",
            "      Epoch    GPU_mem   box_loss   cls_loss   dfl_loss  Instances       Size\n"
          ]
        },
        {
          "output_type": "stream",
          "name": "stderr",
          "text": [
            "      27/30      7.27G     0.5764     0.3702       1.62        127        640: 100%|██████████| 1545/1545 [07:36<00:00,  3.38it/s]\n",
            "                 Class     Images  Instances      Box(P          R      mAP50  mAP50-95): 100%|██████████| 111/111 [00:28<00:00,  3.96it/s]"
          ]
        },
        {
          "output_type": "stream",
          "name": "stdout",
          "text": [
            "                   all       1773      21223      0.749      0.726      0.767      0.525\n"
          ]
        },
        {
          "output_type": "stream",
          "name": "stderr",
          "text": [
            "\n"
          ]
        },
        {
          "output_type": "stream",
          "name": "stdout",
          "text": [
            "\n",
            "      Epoch    GPU_mem   box_loss   cls_loss   dfl_loss  Instances       Size\n"
          ]
        },
        {
          "output_type": "stream",
          "name": "stderr",
          "text": [
            "      28/30      7.34G      0.553     0.3545      1.595        108        640: 100%|██████████| 1545/1545 [07:37<00:00,  3.38it/s]\n",
            "                 Class     Images  Instances      Box(P          R      mAP50  mAP50-95): 100%|██████████| 111/111 [00:28<00:00,  3.90it/s]"
          ]
        },
        {
          "output_type": "stream",
          "name": "stdout",
          "text": [
            "                   all       1773      21223       0.76      0.719      0.765      0.522\n"
          ]
        },
        {
          "output_type": "stream",
          "name": "stderr",
          "text": [
            "\n"
          ]
        },
        {
          "output_type": "stream",
          "name": "stdout",
          "text": [
            "\n",
            "      Epoch    GPU_mem   box_loss   cls_loss   dfl_loss  Instances       Size\n"
          ]
        },
        {
          "output_type": "stream",
          "name": "stderr",
          "text": [
            "      29/30       7.4G     0.5355     0.3428      1.576         68        640: 100%|██████████| 1545/1545 [07:37<00:00,  3.38it/s]\n",
            "                 Class     Images  Instances      Box(P          R      mAP50  mAP50-95): 100%|██████████| 111/111 [00:28<00:00,  3.96it/s]"
          ]
        },
        {
          "output_type": "stream",
          "name": "stdout",
          "text": [
            "                   all       1773      21223      0.761      0.715      0.761       0.52\n"
          ]
        },
        {
          "output_type": "stream",
          "name": "stderr",
          "text": [
            "\n"
          ]
        },
        {
          "output_type": "stream",
          "name": "stdout",
          "text": [
            "\n",
            "      Epoch    GPU_mem   box_loss   cls_loss   dfl_loss  Instances       Size\n"
          ]
        },
        {
          "output_type": "stream",
          "name": "stderr",
          "text": [
            "      30/30      6.37G     0.5199     0.3333      1.558         60        640: 100%|██████████| 1545/1545 [07:37<00:00,  3.38it/s]\n",
            "                 Class     Images  Instances      Box(P          R      mAP50  mAP50-95): 100%|██████████| 111/111 [00:28<00:00,  3.96it/s]"
          ]
        },
        {
          "output_type": "stream",
          "name": "stdout",
          "text": [
            "                   all       1773      21223      0.765      0.713       0.76      0.518\n"
          ]
        },
        {
          "output_type": "stream",
          "name": "stderr",
          "text": [
            "\n"
          ]
        },
        {
          "output_type": "stream",
          "name": "stdout",
          "text": [
            "\n",
            "30 epochs completed in 4.146 hours.\n",
            "Optimizer stripped from runs/detect/olive_detection_v11/weights/last.pt, 40.5MB\n",
            "Optimizer stripped from runs/detect/olive_detection_v11/weights/best.pt, 40.5MB\n",
            "\n",
            "Validating runs/detect/olive_detection_v11/weights/best.pt...\n",
            "Ultralytics 8.3.119 🚀 Python-3.11.12 torch-2.6.0+cu124 CUDA:0 (Tesla T4, 15095MiB)\n",
            "YOLO11m summary (fused): 125 layers, 20,030,803 parameters, 0 gradients, 67.6 GFLOPs\n"
          ]
        },
        {
          "output_type": "stream",
          "name": "stderr",
          "text": [
            "                 Class     Images  Instances      Box(P          R      mAP50  mAP50-95): 100%|██████████| 111/111 [00:29<00:00,  3.70it/s]\n"
          ]
        },
        {
          "output_type": "stream",
          "name": "stdout",
          "text": [
            "                   all       1773      21223      0.739      0.725      0.774      0.533\n",
            "Speed: 0.2ms preprocess, 10.2ms inference, 0.0ms loss, 1.4ms postprocess per image\n",
            "Results saved to \u001b[1mruns/detect/olive_detection_v11\u001b[0m\n"
          ]
        }
      ]
    },
    {
      "cell_type": "code",
      "source": [
        "oliveDetect_11_model4.save(\"oliveDetection4_YOLO11.pt\")"
      ],
      "metadata": {
        "id": "R87g5gqNcNTx"
      },
      "execution_count": null,
      "outputs": []
    },
    {
      "cell_type": "code",
      "source": [
        "from ultralytics import YOLO\n",
        "oliveDetect_11_model4= YOLO('yolo11m.pt')\n",
        "training_results4__yolo11 = oliveDetect_11_model4.train(\n",
        "    data='/content/Olive-3/data.yaml',\n",
        "    epochs=35,\n",
        "    imgsz=640,\n",
        "    batch=8,\n",
        "    patience=36,\n",
        "    name='olive_detection_v11',\n",
        "    box=5.0,\n",
        "    cls=0.3,\n",
        "    dfl=2.5,\n",
        "    save_period=5,\n",
        "    # Minimal augmentations\n",
        "    hsv_h=0.01,\n",
        "    hsv_s=0.5,\n",
        "    hsv_v=0.3,\n",
        "    fliplr=0.0,\n",
        "    flipud=0.0,\n",
        "    translate=0.0,\n",
        "    scale=0.0\n",
        ")"
      ],
      "metadata": {
        "colab": {
          "base_uri": "https://localhost:8080/"
        },
        "id": "7XmKt_bxxRIy",
        "outputId": "0821411a-5ba5-400f-d3cf-7492bc1f8243"
      },
      "execution_count": null,
      "outputs": [
        {
          "output_type": "stream",
          "name": "stdout",
          "text": [
            "Ultralytics 8.3.119 🚀 Python-3.11.12 torch-2.6.0+cu124 CUDA:0 (Tesla T4, 15095MiB)\n",
            "\u001b[34m\u001b[1mengine/trainer: \u001b[0mtask=detect, mode=train, model=yolo11m.pt, data=/content/Olive-3/data.yaml, epochs=35, time=None, patience=36, batch=8, imgsz=640, save=True, save_period=5, cache=False, device=None, workers=8, project=None, name=olive_detection_v112, exist_ok=False, pretrained=True, optimizer=auto, verbose=True, seed=0, deterministic=True, single_cls=False, rect=False, cos_lr=False, close_mosaic=10, resume=False, amp=True, fraction=1.0, profile=False, freeze=None, multi_scale=False, overlap_mask=True, mask_ratio=4, dropout=0.0, val=True, split=val, save_json=False, conf=None, iou=0.7, max_det=300, half=False, dnn=False, plots=True, source=None, vid_stride=1, stream_buffer=False, visualize=False, augment=False, agnostic_nms=False, classes=None, retina_masks=False, embed=None, show=False, save_frames=False, save_txt=False, save_conf=False, save_crop=False, show_labels=True, show_conf=True, show_boxes=True, line_width=None, format=torchscript, keras=False, optimize=False, int8=False, dynamic=False, simplify=True, opset=None, workspace=None, nms=False, lr0=0.01, lrf=0.01, momentum=0.937, weight_decay=0.0005, warmup_epochs=3.0, warmup_momentum=0.8, warmup_bias_lr=0.1, box=5.0, cls=0.3, dfl=2.5, pose=12.0, kobj=1.0, nbs=64, hsv_h=0.01, hsv_s=0.5, hsv_v=0.3, degrees=0.0, translate=0.0, scale=0.0, shear=0.0, perspective=0.0, flipud=0.0, fliplr=0.0, bgr=0.0, mosaic=1.0, mixup=0.0, cutmix=0.0, copy_paste=0.0, copy_paste_mode=flip, auto_augment=randaugment, erasing=0.4, cfg=None, tracker=botsort.yaml, save_dir=runs/detect/olive_detection_v112\n",
            "Overriding model.yaml nc=80 with nc=1\n",
            "\n",
            "                   from  n    params  module                                       arguments                     \n",
            "  0                  -1  1      1856  ultralytics.nn.modules.conv.Conv             [3, 64, 3, 2]                 \n",
            "  1                  -1  1     73984  ultralytics.nn.modules.conv.Conv             [64, 128, 3, 2]               \n",
            "  2                  -1  1    111872  ultralytics.nn.modules.block.C3k2            [128, 256, 1, True, 0.25]     \n",
            "  3                  -1  1    590336  ultralytics.nn.modules.conv.Conv             [256, 256, 3, 2]              \n",
            "  4                  -1  1    444928  ultralytics.nn.modules.block.C3k2            [256, 512, 1, True, 0.25]     \n",
            "  5                  -1  1   2360320  ultralytics.nn.modules.conv.Conv             [512, 512, 3, 2]              \n",
            "  6                  -1  1   1380352  ultralytics.nn.modules.block.C3k2            [512, 512, 1, True]           \n",
            "  7                  -1  1   2360320  ultralytics.nn.modules.conv.Conv             [512, 512, 3, 2]              \n",
            "  8                  -1  1   1380352  ultralytics.nn.modules.block.C3k2            [512, 512, 1, True]           \n",
            "  9                  -1  1    656896  ultralytics.nn.modules.block.SPPF            [512, 512, 5]                 \n",
            " 10                  -1  1    990976  ultralytics.nn.modules.block.C2PSA           [512, 512, 1]                 \n",
            " 11                  -1  1         0  torch.nn.modules.upsampling.Upsample         [None, 2, 'nearest']          \n",
            " 12             [-1, 6]  1         0  ultralytics.nn.modules.conv.Concat           [1]                           \n",
            " 13                  -1  1   1642496  ultralytics.nn.modules.block.C3k2            [1024, 512, 1, True]          \n",
            " 14                  -1  1         0  torch.nn.modules.upsampling.Upsample         [None, 2, 'nearest']          \n",
            " 15             [-1, 4]  1         0  ultralytics.nn.modules.conv.Concat           [1]                           \n",
            " 16                  -1  1    542720  ultralytics.nn.modules.block.C3k2            [1024, 256, 1, True]          \n",
            " 17                  -1  1    590336  ultralytics.nn.modules.conv.Conv             [256, 256, 3, 2]              \n",
            " 18            [-1, 13]  1         0  ultralytics.nn.modules.conv.Concat           [1]                           \n",
            " 19                  -1  1   1511424  ultralytics.nn.modules.block.C3k2            [768, 512, 1, True]           \n",
            " 20                  -1  1   2360320  ultralytics.nn.modules.conv.Conv             [512, 512, 3, 2]              \n",
            " 21            [-1, 10]  1         0  ultralytics.nn.modules.conv.Concat           [1]                           \n",
            " 22                  -1  1   1642496  ultralytics.nn.modules.block.C3k2            [1024, 512, 1, True]          \n",
            " 23        [16, 19, 22]  1   1411795  ultralytics.nn.modules.head.Detect           [1, [256, 512, 512]]          \n",
            "YOLO11m summary: 231 layers, 20,053,779 parameters, 20,053,763 gradients, 68.2 GFLOPs\n",
            "\n",
            "Transferred 643/649 items from pretrained weights\n",
            "Freezing layer 'model.23.dfl.conv.weight'\n",
            "\u001b[34m\u001b[1mAMP: \u001b[0mrunning Automatic Mixed Precision (AMP) checks...\n",
            "\u001b[34m\u001b[1mAMP: \u001b[0mchecks passed ✅\n",
            "\u001b[34m\u001b[1mtrain: \u001b[0mFast image access ✅ (ping: 0.0±0.0 ms, read: 1855.0±861.2 MB/s, size: 71.1 KB)\n"
          ]
        },
        {
          "output_type": "stream",
          "name": "stderr",
          "text": [
            "\u001b[34m\u001b[1mtrain: \u001b[0mScanning /content/Olive-3/train/labels.cache... 12360 images, 5 backgrounds, 0 corrupt: 100%|██████████| 12360/12360 [00:00<?, ?it/s]"
          ]
        },
        {
          "output_type": "stream",
          "name": "stdout",
          "text": [
            "\u001b[34m\u001b[1mtrain: \u001b[0m/content/Olive-3/train/images/IMG_20221105_094810_jpg.rf.97ce47c2d8a19d7b5015816af499f942.jpg: 3 duplicate labels removed\n",
            "\u001b[34m\u001b[1mtrain: \u001b[0m/content/Olive-3/train/images/IMG_20221105_094810_jpg.rf.ac6a65b6b3fc89eca93428f3203f5ac3.jpg: 3 duplicate labels removed\n",
            "\u001b[34m\u001b[1mtrain: \u001b[0m/content/Olive-3/train/images/IMG_20221105_131058_jpg.rf.2c8f2b289fb1efac3855971559a8bcb1.jpg: 1 duplicate labels removed\n",
            "\u001b[34m\u001b[1mtrain: \u001b[0m/content/Olive-3/train/images/IMG_20221105_131058_jpg.rf.4a3caaad66bfdc06cc79149c3c17d5a5.jpg: 1 duplicate labels removed\n",
            "\u001b[34m\u001b[1mtrain: \u001b[0m/content/Olive-3/train/images/IMG_20221105_131454_jpg.rf.99cf935ee1da5b13ee672ecf0ad88bda.jpg: 1 duplicate labels removed\n",
            "\u001b[34m\u001b[1mtrain: \u001b[0m/content/Olive-3/train/images/IMG_20221105_131454_jpg.rf.fe58f197192cf906d05b9e46d861dfab.jpg: 1 duplicate labels removed\n",
            "\u001b[34m\u001b[1mtrain: \u001b[0m/content/Olive-3/train/images/IMG_20221112_102138_jpg.rf.109898422b1bf4e82099adf2ceef176e.jpg: 1 duplicate labels removed\n",
            "\u001b[34m\u001b[1mtrain: \u001b[0m/content/Olive-3/train/images/IMG_20221112_102138_jpg.rf.8e99469ddf7179b4897c2e1ba51c1b63.jpg: 1 duplicate labels removed\n",
            "\u001b[34m\u001b[1mtrain: \u001b[0m/content/Olive-3/train/images/IMG_20221112_113105_jpg.rf.5aa60955f46ce96f638ae9ec865426f3.jpg: 1 duplicate labels removed\n",
            "\u001b[34m\u001b[1mtrain: \u001b[0m/content/Olive-3/train/images/IMG_20221112_113105_jpg.rf.e0c50416ac3626a10d2edeb3332517d5.jpg: 1 duplicate labels removed\n",
            "\u001b[34m\u001b[1mtrain: \u001b[0m/content/Olive-3/train/images/IMG_20221112_113119_jpg.rf.361b1975cb66937e89a1902d91543100.jpg: 1 duplicate labels removed\n",
            "\u001b[34m\u001b[1mtrain: \u001b[0m/content/Olive-3/train/images/IMG_20221112_113119_jpg.rf.aea2751dc9829364950bf35a5164a655.jpg: 1 duplicate labels removed\n",
            "\u001b[34m\u001b[1mtrain: \u001b[0m/content/Olive-3/train/images/IMG_20221112_123802_jpg.rf.244384a307b68e37f6cecd5c092068c3.jpg: 1 duplicate labels removed\n",
            "\u001b[34m\u001b[1mtrain: \u001b[0m/content/Olive-3/train/images/IMG_20221112_123802_jpg.rf.b445cf34697f513213fef447408f7f81.jpg: 1 duplicate labels removed\n",
            "\u001b[34m\u001b[1mtrain: \u001b[0m/content/Olive-3/train/images/IMG_20221112_130228_jpg.rf.cc12941bf7ef7231a89bd052a9dc7fa2.jpg: 1 duplicate labels removed\n",
            "\u001b[34m\u001b[1mtrain: \u001b[0m/content/Olive-3/train/images/IMG_20221112_130228_jpg.rf.ebde8e52c9d50886dc1b189ecbcdbe20.jpg: 1 duplicate labels removed\n",
            "WARNING ⚠️ Box and segment counts should be equal, but got len(segments) = 6314, len(boxes) = 153839. To resolve this only boxes will be used and all segments will be removed. To avoid this please supply either a detect or segment dataset, not a detect-segment mixed dataset.\n",
            "\u001b[34m\u001b[1malbumentations: \u001b[0mBlur(p=0.01, blur_limit=(3, 7)), MedianBlur(p=0.01, blur_limit=(3, 7)), ToGray(p=0.01, num_output_channels=3, method='weighted_average'), CLAHE(p=0.01, clip_limit=(1.0, 4.0), tile_grid_size=(8, 8))\n"
          ]
        },
        {
          "output_type": "stream",
          "name": "stderr",
          "text": [
            "\n"
          ]
        },
        {
          "output_type": "stream",
          "name": "stdout",
          "text": [
            "\u001b[34m\u001b[1mval: \u001b[0mFast image access ✅ (ping: 0.0±0.0 ms, read: 722.0±472.0 MB/s, size: 71.2 KB)\n"
          ]
        },
        {
          "output_type": "stream",
          "name": "stderr",
          "text": [
            "\u001b[34m\u001b[1mval: \u001b[0mScanning /content/Olive-3/valid/labels.cache... 1773 images, 0 backgrounds, 0 corrupt: 100%|██████████| 1773/1773 [00:00<?, ?it/s]"
          ]
        },
        {
          "output_type": "stream",
          "name": "stdout",
          "text": [
            "\u001b[34m\u001b[1mval: \u001b[0m/content/Olive-3/valid/images/IMG_20221105_131506_jpg.rf.4a35c52b8895a7a2ff79ba09b120f571.jpg: 3 duplicate labels removed\n",
            "\u001b[34m\u001b[1mval: \u001b[0m/content/Olive-3/valid/images/IMG_20221112_114559_jpg.rf.63df1e158be744a9ebee708ceb16d85e.jpg: 3 duplicate labels removed\n",
            "WARNING ⚠️ Box and segment counts should be equal, but got len(segments) = 907, len(boxes) = 21223. To resolve this only boxes will be used and all segments will be removed. To avoid this please supply either a detect or segment dataset, not a detect-segment mixed dataset.\n"
          ]
        },
        {
          "output_type": "stream",
          "name": "stderr",
          "text": [
            "\n"
          ]
        },
        {
          "output_type": "stream",
          "name": "stdout",
          "text": [
            "Plotting labels to runs/detect/olive_detection_v112/labels.jpg... \n",
            "\u001b[34m\u001b[1moptimizer:\u001b[0m 'optimizer=auto' found, ignoring 'lr0=0.01' and 'momentum=0.937' and determining best 'optimizer', 'lr0' and 'momentum' automatically... \n",
            "\u001b[34m\u001b[1moptimizer:\u001b[0m AdamW(lr=0.002, momentum=0.9) with parameter groups 106 weight(decay=0.0), 113 weight(decay=0.0005), 112 bias(decay=0.0)\n",
            "Image sizes 640 train, 640 val\n",
            "Using 2 dataloader workers\n",
            "Logging results to \u001b[1mruns/detect/olive_detection_v112\u001b[0m\n",
            "Starting training for 35 epochs...\n",
            "\n",
            "      Epoch    GPU_mem   box_loss   cls_loss   dfl_loss  Instances       Size\n"
          ]
        },
        {
          "output_type": "stream",
          "name": "stderr",
          "text": [
            "       1/35      4.65G      1.129      1.309        2.5         98        640:   6%|▌         | 86/1545 [00:28<07:41,  3.16it/s]"
          ]
        }
      ]
    },
    {
      "cell_type": "code",
      "source": [],
      "metadata": {
        "id": "QylM8YJVxdsf"
      },
      "execution_count": null,
      "outputs": []
    }
  ],
  "metadata": {
    "colab": {
      "provenance": [],
      "gpuType": "T4"
    },
    "kernelspec": {
      "display_name": "Python 3",
      "name": "python3"
    },
    "language_info": {
      "name": "python"
    },
    "accelerator": "GPU"
  },
  "nbformat": 4,
  "nbformat_minor": 0
}